{
 "cells": [
  {
   "cell_type": "markdown",
   "id": "0dcfcb62-e841-4dc1-806a-8684ebba090f",
   "metadata": {},
   "source": [
    "# 📊 Pandas Overview\n",
    "\n",
    "**Pandas** is a powerful, open-source **Python library** used for **data manipulation, cleaning, and analysis**.  \n",
    "It provides two main data structures:\n",
    "\n",
    "- **Series** → A *one-dimensional labeled array*\n",
    "- **DataFrame** → A *two-dimensional labeled table* (like an **Excel sheet** or **SQL table**)\n",
    "\n",
    "Pandas makes working with **structured data** **fast, expressive, and flexible**.\n",
    "\n",
    "> 💡 *If you're working with tables, spreadsheets, or CSVs in Python — Pandas is your best friend!*\n",
    "\n",
    "---\n",
    "\n",
    "## 🚀 Why Use Pandas?\n",
    "\n",
    "| **Task**               | **Without Pandas**        | **With Pandas**          |\n",
    "|------------------------|---------------------------|---------------------------|\n",
    "| **Load a CSV**         | `open()` + loops          | `pd.read_csv()`           |\n",
    "| **Filter rows**        | Custom loop logic         | `df[df[\"col\"] > 5]`       |\n",
    "| **Group & summarize**  | Manual aggregation        | `df.groupby()`            |\n",
    "| **Merge two datasets** | Nested loops              | `pd.merge()`              |\n",
    "\n",
    "✅ **Pandas saves time**, **reduces code**, and **increases readability**.\n",
    "\n",
    "---\n",
    "\n",
    "## 🛠️ Installing Pandas\n",
    "\n",
    "**Using pip:**\n",
    "```bash\n",
    "pip install pandas\n",
    "```\n",
    "\n",
    "**Using conda** *(recommended for Anaconda users)*:\n",
    "```bash\n",
    "conda install pandas\n",
    "```\n",
    "\n",
    "---\n",
    "\n",
    "## 📥 Importing Pandas\n",
    "```python\n",
    "import pandas as pd\n",
    "```\n",
    "\n",
    "> **Note:** `pd` is the **standard alias** used by the data science community.\n",
    "\n",
    "---\n",
    "\n",
    "## 🎯 Summary\n",
    "- Pandas is **essential** for anyone working with data in Python.  \n",
    "- It **simplifies tasks** like loading, cleaning, and analyzing data.  \n",
    "- Works great with **CSV, Excel, SQL**, and more!\n"
   ]
  },
  {
   "cell_type": "code",
   "execution_count": 1,
   "id": "a850c5c0-9c25-43f4-a713-5c9548765062",
   "metadata": {},
   "outputs": [
    {
     "name": "stdout",
     "output_type": "stream",
     "text": [
      "        date    item  price  qty\n",
      "0 2025-09-01    cake   25.0    2\n",
      "1 2025-09-01  cookie    5.0   10\n",
      "2 2025-09-02    cake   25.0    1\n"
     ]
    }
   ],
   "source": [
    "import pandas as pd\n",
    "\n",
    "data = {\n",
    "    \"date\": [\"2025-09-01\", \"2025-09-01\", \"2025-09-02\"],\n",
    "    \"item\": [\"cake\", \"cookie\", \"cake\"],\n",
    "    \"price\": [25.0, 5.0, 25.0],\n",
    "    \"qty\": [2, 10, 1]\n",
    "}\n",
    "\n",
    "df = pd.DataFrame(data)\n",
    "df['date'] = pd.to_datetime(df['date'])\n",
    "\n",
    "print(df.head())\n"
   ]
  }
 ],
 "metadata": {
  "kernelspec": {
   "display_name": "Python 3 (ipykernel)",
   "language": "python",
   "name": "python3"
  },
  "language_info": {
   "codemirror_mode": {
    "name": "ipython",
    "version": 3
   },
   "file_extension": ".py",
   "mimetype": "text/x-python",
   "name": "python",
   "nbconvert_exporter": "python",
   "pygments_lexer": "ipython3",
   "version": "3.13.5"
  }
 },
 "nbformat": 4,
 "nbformat_minor": 5
}
