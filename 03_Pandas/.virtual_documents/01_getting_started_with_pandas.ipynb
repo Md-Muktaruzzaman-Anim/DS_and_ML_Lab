


import pandas as pd

data = {
    "date": ["2025-09-01", "2025-09-01", "2025-09-02"],
    "item": ["cake", "cookie", "cake"],
    "price": [25.0, 5.0, 25.0],
    "qty": [2, 10, 1]
}

df = pd.DataFrame(data)
df['date'] = pd.to_datetime(df['date'])

print(df.head())

