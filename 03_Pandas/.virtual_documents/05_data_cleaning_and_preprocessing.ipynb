


import pandas as pd
df = pd.read_csv("05_data_cleaning_sample.csv")


df


df.isnull()


df.isnull().sum()


df.dropna()


df.dropna(axis=1)


df.fillna(0)


df["Age"].fillna(df["Age"].mean())


df.fillna(method="ffill")


df.fillna(method="bfill")


df.bfill() # Usages this is a great deal. 


df  # We see some duplicates here because we created them after running cell 11.


df.duplicated()


df.drop_duplicates()


df.duplicated(subset=["Name", "Age"])


df["Name"].str.lower()


df


df["City"].str.contains("delhi", case=False)


type(df["City"].str.contains("delhi", case=False))


df["Email"].str.split("@")


type(df["Email"].str.split("@")[0])


df2 = df.dropna().copy()


df2["Age"] = df2["Age"].astype(int)


df2


df2.info()


df


df2


df2["Age Group"] = df2["Age"].apply(lambda x: "Adult" if x >= 18 else "Minor")


df2


gender_map = {"M": "Male", "F": "Female", "O": "Other"}
df2["Gender"] = df2["Gender"].map(gender_map)


df2


df2["City"] = df2["City"].replace({"Delhi": "New Delhi", "Mumbai": "New Mumbai"})


df2
