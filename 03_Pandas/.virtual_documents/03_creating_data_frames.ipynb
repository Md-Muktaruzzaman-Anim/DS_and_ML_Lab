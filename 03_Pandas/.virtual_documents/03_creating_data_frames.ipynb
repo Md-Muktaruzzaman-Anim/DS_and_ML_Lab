


import pandas as pd


data = [['Muktar', 98], ['Naim', 65], ['Sazim', 90]]


data


pd.DataFrame(data, columns=["Name", "Marks"])


data = {"a": [22, 55, 88], "b": [60, 70, 100]}


data


df = pd.DataFrame(data)


df


import numpy as np


arr = np.array([[22,44], [66, 77]])


arr


df = pd.DataFrame(arr, columns=["A", "B"], index=["arr1", "arr2"])


df


df = pd.read_excel("03_data.xlsx")


df


df = pd.read_csv("03_data.csv")


df


df = pd.read_json("03_data.json")


df


df = pd.read_csv("https://raw.githubusercontent.com/mwaskom/seaborn-data/master/tips.csv")


df


df.head()


df.head(0)
df.head(2)


df.tail(2)
df.tail()


df.info()


# df.describe(2)   # This is invalid
df.describe()


df.columns


df.shape
