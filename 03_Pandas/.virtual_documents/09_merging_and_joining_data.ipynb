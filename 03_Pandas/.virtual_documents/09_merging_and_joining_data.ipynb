


import pandas as pd


employees = pd.DataFrame({
    "EmpID": [1, 2, 3],
    "Name": ["Alice", "Bob", "Charlie"],
    "DeptID": [10, 20, 30]
})


employees


departments = pd.DataFrame({
    "DeptID": [10, 20, 40],
    "DeptName": ["HR", "Engineering", "Marketing"]
})


departments


pd.merge(employees, departments, on="DeptID") # Inner join


pd.merge(employees, departments, on="DeptID", how="left") # Left join


pd.merge(employees, departments, on="DeptID", how="right") # Right join


pd.merge(employees, departments, on="DeptID", how="outer") # Outer join


df1 = pd.DataFrame({"Name": ["Alice", "Bob"]})
df2 = pd.DataFrame({"Name": ["Charlie", "David"]})


df1


df2


pd.concat([df1, df2])


pd.concat([df1, df2], axis=1)


df1 = pd.DataFrame({"Name": ["Alice", "Bob"], "Score": [420,520]})
df2 = pd.DataFrame({"Name": ["Charlie", "David"], "Age": [16,20]})


df1


df2


pd.concat([df1,df2])


pd.concat([df1,df2], axis=1)
