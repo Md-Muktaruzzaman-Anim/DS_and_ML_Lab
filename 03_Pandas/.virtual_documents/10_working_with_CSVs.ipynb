


import pandas as pd


df =  pd.read_csv("04_data.csv")


df


df = df[df['IMDb']>6.0]


df


df.to_csv("10_data_updates.csv", index=False)


df = pd.read_json("10_my.json")


df


df.info()


data = [
    {"Id": 1, "Name": "Muktar", "Address": {"City": "Dubai", "Zipcode": 11000}},
    {"Id": 2, "Name": "Anim", "Address": {"City": "Saudi", "Zipcode": 40000}}
]


df = pd.json_normalize(data)


df


df.info()
