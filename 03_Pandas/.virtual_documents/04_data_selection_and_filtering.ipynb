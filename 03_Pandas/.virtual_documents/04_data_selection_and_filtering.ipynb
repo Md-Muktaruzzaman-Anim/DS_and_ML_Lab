


import pandas as pd


df = pd.read_csv("04_data.csv")


df


df['Actor']


type(df["Actor"])


df[['Actor', 'IMDb']]


df.loc[7, 'IMDb']


df.iloc[7]


df.iloc[7,3]


df.loc[0:2,["Actor", "Film", "IMDb"]]


df.iloc[0:2, 0:2]


df.at[0, "Actor"]


df.iat[0,0]


df.iat[0,1]


df[df['IMDb']>6]


df[df['IMDb']>6]['Actor']


df[(df['IMDb']>6) & (df['Year']>2019)]


df[(df['IMDb']>7) & (df['Year']>2019)]


df.query("Year > 2019 and IMDb > 6")


df2 = df[['Actor', 'IMDb']].copy()  # "If you need a separate copy and want to avoid confusion with the original data, use .copy()."


df2


df2.loc[0, 'Actor'] = "Muktar"


df2  # This returns a copy of df


df
