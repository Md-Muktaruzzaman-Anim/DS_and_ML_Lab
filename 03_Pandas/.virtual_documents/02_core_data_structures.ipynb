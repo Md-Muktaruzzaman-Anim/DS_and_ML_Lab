


import pandas as pd


s1 = pd.Series([71, 84, 56, 23, 56, 98, 56])


type(s1)


s1


s2 = pd.Series([71, 84, 56, 23, 56, 98, 56], index=["Muktar", "Anim", "Anik", "Anika", "Anisur", "Shefali", "Prince"] )


s2


s2["Anik"]


s2["Muktar"]


data = {
    "name": ["Anim", "Anik", "Anika"],
    "age": [16,28, 23],
    "city":["Saudi", "Dubai", "Pakistan"]
}


df = pd.DataFrame(data)


df


df.index


df.columns
