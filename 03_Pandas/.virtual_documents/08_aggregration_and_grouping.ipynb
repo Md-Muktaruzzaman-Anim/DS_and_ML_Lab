


import pandas as pd


df = pd.DataFrame({
    "Department": ["HR", "HR", "IT", "IT", "Marketing", "Marketing", "Sales", "Sales"],
    "Team": ["A", "A", "B", "B", "C", "C", "D", "D"],
    "Gender": ["M", "F", "M", "F", "M", "F", "M", "F"],
    "Salary": [85000, 90000, 78000, 85000, 92000, 88000, 75000, 80000],
    "Age": [23, 25, 30, 22, 28, 26, 21, 27],
    "JoinDate": pd.to_datetime([
        "2020-01-10", "2020-02-15", "2021-03-20", "2021-04-10",
        "2020-05-30", "2020-06-25", "2021-07-15", "2021-08-01"
    ])
})


df


df.groupby("Department")["Salary"].mean()


type(df.groupby("Department")["Salary"].mean())


df.groupby("Department")["Salary"].sum()


df.groupby("Department")["Salary"].count()  


df.groupby("Department")["Salary"].min()  


df.groupby("Department")["Salary"].max()  


df.groupby("Department")["Salary"].agg(["mean", "max", "min", "count"])


type(df.groupby("Department")["Salary"].agg(["mean", "max", "min", "count"]))


df.groupby("Team")["Salary"].agg(
    avg_score="mean",
    high_score="max"
)


df["Team Avg"] = df.groupby("Team")["Salary"].transform("mean")


df


df.groupby("Team").filter(lambda x:x["Salary"].mean() > 85000)
