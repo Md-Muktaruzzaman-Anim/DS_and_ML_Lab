


import pandas as pd


df = pd.read_csv("04_data.csv")


df


df.sort_values("Year")


df.sort_values("Year", ascending=False).copy()


df.sort_values(["Year", "IMDb"])


df2 = df.sort_values(["Year", "IMDb"], ascending=False).copy()


# df2.reset_index()
df2.reset_index(drop=True)


df2


# df2.reset_index(drop=True, inplace=True)


df2


df2.sort_index()


# df2["Rank"] = df["IMDb"].rank()
df2["Rank"] = df["IMDb"].rank(ascending=False, method="dense")


df2


df = df[["Film", "Actor", "Year", "Genre", "IMDb", "BoxOffice(INR Crore)"]] 


df
