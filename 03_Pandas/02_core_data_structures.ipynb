{
 "cells": [
  {
   "cell_type": "markdown",
   "id": "52f8bbbe-1750-469c-b84d-f880d9d6d2e2",
   "metadata": {},
   "source": [
    "# Core Data Structures in Pandas\n",
    "\n",
    "Pandas is built on **two main data structures**:\n",
    "\n",
    "1. **Series** → One-dimensional (like a single column in Excel)\n",
    "2. **DataFrame** → Two-dimensional (like a full spreadsheet or SQL table)\n",
    "\n",
    "***\n",
    "\n",
    "## Series — 1D Labeled Array\n",
    "\n",
    "A `Series` is like a list with **labels (index)**.\n",
    "\n",
    "```python\n",
    "import pandas as pd\n",
    "\n",
    "s = pd.Series([10, 20, 30, 40])\n",
    "print(s)\n",
    "```\n",
    "\n",
    "**Output:**\n",
    "\n",
    "```\n",
    "0    10\n",
    "1    20\n",
    "2    30\n",
    "3    40\n",
    "dtype: int64\n",
    "```\n",
    "\n",
    "Notice the **automatic index**: 0, 1, 2, 3\n",
    "\n",
    "You can also define a custom index:\n",
    "\n",
    "```python\n",
    "s = pd.Series([10, 20, 30], index=[\"a\", \"b\", \"c\"])\n",
    "```\n",
    "\n",
    "A `pandas.Series` may look similar to a Python dictionary because both store data with labels, but a Series offers much more. Unlike a dictionary, a Series supports fast vectorized operations, automatic index alignment during arithmetic, and handles missing data using `NaN`. It also allows both label-based and position-based access, and integrates seamlessly with the pandas ecosystem, especially DataFrames. While a dictionary is great for simple key–value storage, a Series is better suited for data analysis and manipulation tasks where performance, flexibility, and built-in functionality matter.\n",
    "\n",
    "***\n",
    "\n",
    "## DataFrame — 2D Labeled Table\n",
    "\n",
    "A `DataFrame` is like a **dictionary of Series** — multiple columns with labels.\n",
    "\n",
    "```python\n",
    "data = {\n",
    "    \"name\": [\"Alice\", \"Bob\", \"Charlie\"],\n",
    "    \"age\": [25, 30, 35],\n",
    "    \"city\": [\"Delhi\", \"Mumbai\", \"Bangalore\"]\n",
    "}\n",
    "\n",
    "df = pd.DataFrame(data)\n",
    "print(df)\n",
    "```\n",
    "\n",
    "**Output:**\n",
    "\n",
    "```\n",
    "     name  age      city\n",
    "0   Alice   25     Delhi\n",
    "1     Bob   30    Mumbai\n",
    "2  Charlie   35  Bangalore\n",
    "```\n",
    "\n",
    "Each column in a `DataFrame` is a `Series`.\n",
    "\n",
    "***\n",
    "\n",
    "## Index and Labels\n",
    "\n",
    "Every Series and DataFrame has an **Index** — it helps with:\n",
    "\n",
    "* Fast lookups\n",
    "* Aligning data\n",
    "* Merging & joining\n",
    "* Time series operations\n",
    "\n",
    "```python\n",
    "df.index         # Row labels\n",
    "df.columns       # Column labels\n",
    "```\n",
    "\n",
    "You can change them using:\n",
    "\n",
    "```python\n",
    "df.index = [\"a\", \"b\", \"c\"]\n",
    "df.columns = [\"Name\", \"Age\", \"City\"]\n",
    "```\n",
    "\n",
    "***\n",
    "\n",
    "## Why Learn These Well?\n",
    "\n",
    "Most Pandas operations are built on these foundations:\n",
    "\n",
    "* Selection\n",
    "* Filtering\n",
    "* Merging\n",
    "* Aggregation\n",
    "\n",
    "Understanding Series & DataFrames will make everything else easier.\n",
    "\n",
    "***\n",
    "\n",
    "## Summary\n",
    "\n",
    "* `Series` = 1D array with labels\n",
    "* `DataFrame` = 2D table with rows + columns\n",
    "* Both come with index and are the heart of Pandas"
   ]
  },
  {
   "cell_type": "code",
   "execution_count": 1,
   "id": "4c2380c1-8ae9-4728-817e-2189116c428f",
   "metadata": {},
   "outputs": [],
   "source": [
    "import pandas as pd"
   ]
  },
  {
   "cell_type": "code",
   "execution_count": 2,
   "id": "f63d3517-fc29-4e13-b41f-e7a5e1a73480",
   "metadata": {},
   "outputs": [],
   "source": [
    "s1 = pd.Series([71, 84, 56, 23, 56, 98, 56])"
   ]
  },
  {
   "cell_type": "code",
   "execution_count": 3,
   "id": "a80a33a2-4f69-4e7a-aaa3-90ea196cddc3",
   "metadata": {},
   "outputs": [
    {
     "data": {
      "text/plain": [
       "pandas.core.series.Series"
      ]
     },
     "execution_count": 3,
     "metadata": {},
     "output_type": "execute_result"
    }
   ],
   "source": [
    "type(s1)"
   ]
  },
  {
   "cell_type": "code",
   "execution_count": 4,
   "id": "54abafb6-b9e3-47f9-948f-a5319a5c0034",
   "metadata": {},
   "outputs": [
    {
     "data": {
      "text/plain": [
       "0    71\n",
       "1    84\n",
       "2    56\n",
       "3    23\n",
       "4    56\n",
       "5    98\n",
       "6    56\n",
       "dtype: int64"
      ]
     },
     "execution_count": 4,
     "metadata": {},
     "output_type": "execute_result"
    }
   ],
   "source": [
    "s1"
   ]
  },
  {
   "cell_type": "code",
   "execution_count": 5,
   "id": "88c07284-4874-46ba-8fd3-5cfbc7212607",
   "metadata": {},
   "outputs": [],
   "source": [
    "s2 = pd.Series([71, 84, 56, 23, 56, 98, 56], index=[\"Muktar\", \"Anim\", \"Anik\", \"Anika\", \"Anisur\", \"Shefali\", \"Prince\"] )"
   ]
  },
  {
   "cell_type": "code",
   "execution_count": 6,
   "id": "08023ddc-5ff4-4724-92ea-b182c034b72d",
   "metadata": {},
   "outputs": [
    {
     "data": {
      "text/plain": [
       "Muktar     71\n",
       "Anim       84\n",
       "Anik       56\n",
       "Anika      23\n",
       "Anisur     56\n",
       "Shefali    98\n",
       "Prince     56\n",
       "dtype: int64"
      ]
     },
     "execution_count": 6,
     "metadata": {},
     "output_type": "execute_result"
    }
   ],
   "source": [
    "s2"
   ]
  },
  {
   "cell_type": "code",
   "execution_count": 7,
   "id": "842e7696-e45f-4ca3-a335-f4588e044766",
   "metadata": {},
   "outputs": [
    {
     "data": {
      "text/plain": [
       "np.int64(56)"
      ]
     },
     "execution_count": 7,
     "metadata": {},
     "output_type": "execute_result"
    }
   ],
   "source": [
    "s2[\"Anik\"]"
   ]
  },
  {
   "cell_type": "code",
   "execution_count": 8,
   "id": "0111b9d7-b855-428e-9c6d-f4e2a20967de",
   "metadata": {},
   "outputs": [
    {
     "data": {
      "text/plain": [
       "np.int64(71)"
      ]
     },
     "execution_count": 8,
     "metadata": {},
     "output_type": "execute_result"
    }
   ],
   "source": [
    "s2[\"Muktar\"]"
   ]
  },
  {
   "cell_type": "code",
   "execution_count": 9,
   "id": "e6b26f35-3457-4250-86d5-9cbf0bd2d022",
   "metadata": {},
   "outputs": [],
   "source": [
    "data = {\n",
    "    \"name\": [\"Anim\", \"Anik\", \"Anika\"],\n",
    "    \"age\": [16,28, 23],\n",
    "    \"city\":[\"Saudi\", \"Dubai\", \"Pakistan\"]\n",
    "}"
   ]
  },
  {
   "cell_type": "code",
   "execution_count": 10,
   "id": "0c043785-722c-4486-adcd-dc6c8c5b5ae2",
   "metadata": {},
   "outputs": [],
   "source": [
    "df = pd.DataFrame(data)"
   ]
  },
  {
   "cell_type": "code",
   "execution_count": 11,
   "id": "bd341b9d-b20c-4424-8479-9318782ad38c",
   "metadata": {},
   "outputs": [
    {
     "data": {
      "text/html": [
       "<div>\n",
       "<style scoped>\n",
       "    .dataframe tbody tr th:only-of-type {\n",
       "        vertical-align: middle;\n",
       "    }\n",
       "\n",
       "    .dataframe tbody tr th {\n",
       "        vertical-align: top;\n",
       "    }\n",
       "\n",
       "    .dataframe thead th {\n",
       "        text-align: right;\n",
       "    }\n",
       "</style>\n",
       "<table border=\"1\" class=\"dataframe\">\n",
       "  <thead>\n",
       "    <tr style=\"text-align: right;\">\n",
       "      <th></th>\n",
       "      <th>name</th>\n",
       "      <th>age</th>\n",
       "      <th>city</th>\n",
       "    </tr>\n",
       "  </thead>\n",
       "  <tbody>\n",
       "    <tr>\n",
       "      <th>0</th>\n",
       "      <td>Anim</td>\n",
       "      <td>16</td>\n",
       "      <td>Saudi</td>\n",
       "    </tr>\n",
       "    <tr>\n",
       "      <th>1</th>\n",
       "      <td>Anik</td>\n",
       "      <td>28</td>\n",
       "      <td>Dubai</td>\n",
       "    </tr>\n",
       "    <tr>\n",
       "      <th>2</th>\n",
       "      <td>Anika</td>\n",
       "      <td>23</td>\n",
       "      <td>Pakistan</td>\n",
       "    </tr>\n",
       "  </tbody>\n",
       "</table>\n",
       "</div>"
      ],
      "text/plain": [
       "    name  age      city\n",
       "0   Anim   16     Saudi\n",
       "1   Anik   28     Dubai\n",
       "2  Anika   23  Pakistan"
      ]
     },
     "execution_count": 11,
     "metadata": {},
     "output_type": "execute_result"
    }
   ],
   "source": [
    "df"
   ]
  },
  {
   "cell_type": "code",
   "execution_count": 12,
   "id": "70f5b330-3889-40c5-9e84-d8b2189260ae",
   "metadata": {},
   "outputs": [
    {
     "data": {
      "text/plain": [
       "RangeIndex(start=0, stop=3, step=1)"
      ]
     },
     "execution_count": 12,
     "metadata": {},
     "output_type": "execute_result"
    }
   ],
   "source": [
    "df.index"
   ]
  },
  {
   "cell_type": "code",
   "execution_count": 13,
   "id": "fdf8f5e1-4317-4e44-a311-ea2a69c29cd6",
   "metadata": {},
   "outputs": [
    {
     "data": {
      "text/plain": [
       "Index(['name', 'age', 'city'], dtype='object')"
      ]
     },
     "execution_count": 13,
     "metadata": {},
     "output_type": "execute_result"
    }
   ],
   "source": [
    "df.columns"
   ]
  }
 ],
 "metadata": {
  "kernelspec": {
   "display_name": "Python 3 (ipykernel)",
   "language": "python",
   "name": "python3"
  },
  "language_info": {
   "codemirror_mode": {
    "name": "ipython",
    "version": 3
   },
   "file_extension": ".py",
   "mimetype": "text/x-python",
   "name": "python",
   "nbconvert_exporter": "python",
   "pygments_lexer": "ipython3",
   "version": "3.13.5"
  }
 },
 "nbformat": 4,
 "nbformat_minor": 5
}
