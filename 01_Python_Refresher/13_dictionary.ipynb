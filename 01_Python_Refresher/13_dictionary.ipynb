{
 "cells": [
  {
   "cell_type": "markdown",
   "id": "6be4e686-022f-4340-a108-f36d9978de4c",
   "metadata": {},
   "source": [
    "# Python Dictionaries and Dictionary Methods\n",
    "\n",
    "## What is a Dictionary?\n",
    "A **dictionary** in Python is an **unordered**, **mutable**, and **key-value** pair collection. It allows efficient data retrieval and modification. Dictionaries in Python are ordered as of Python 3.7\n",
    "\n",
    "### Creating a Dictionary:\n",
    "```python\n",
    "# Empty dictionary\n",
    "empty_dict = {}\n",
    "\n",
    "# Dictionary with key-value pairs\n",
    "student = {\n",
    "    \"name\": \"Alice\",\n",
    "    \"age\": 25,\n",
    "    \"grade\": \"A\"\n",
    "}\n",
    "\n",
    "# Using dict() constructor\n",
    "person = dict(name=\"John\", age=30, city=\"New York\")\n",
    "```\n",
    "\n",
    "## Accessing Dictionary Elements\n",
    "```python\n",
    "# Using keys\n",
    "print(student[\"name\"])  # Alice\n",
    "\n",
    "# Using get() (avoids KeyError if key doesn't exist)\n",
    "print(student.get(\"age\"))  # 25\n",
    "print(student.get(\"height\", \"Not Found\"))  # Default value\n",
    "```\n",
    "\n",
    "## Common Dictionary Methods\n",
    "\n",
    "| Method | Description | Example |\n",
    "|--------|------------|---------|\n",
    "| `keys()` | Returns all keys in the dictionary. | `student.keys()` |\n",
    "| `values()` | Returns all values in the dictionary. | `student.values()` |\n",
    "| `items()` | Returns key-value pairs as tuples. | `student.items()` |\n",
    "| `get(key, default)` | Returns value for `key`, or `default` if key not found. | `student.get(\"age\", 0)` |\n",
    "| `update(dict2)` | Merges `dict2` into the dictionary. | `student.update({\"age\": 26})` |\n",
    "| `pop(key, default)` | Removes key and returns its value (or `default` if key not found). | `student.pop(\"grade\")` |\n",
    "| `popitem()` | Removes and returns the last inserted key-value pair. | `student.popitem()` |\n",
    "| `setdefault(key, default)` | Returns value for `key`, else sets it to `default`. | `student.setdefault(\"city\", \"Unknown\")` |\n",
    "| `clear()` | Removes all items from the dictionary. | `student.clear()` |\n",
    "| `copy()` | Returns a shallow copy of the dictionary. | `new_dict = student.copy()` |\n",
    "\n",
    "## Example Usage:\n",
    "```python\n",
    "student = {\"name\": \"Alice\", \"age\": 25, \"grade\": \"A\"}\n",
    "\n",
    "# Adding a new key-value pair\n",
    "student[\"city\"] = \"New York\"\n",
    "\n",
    "# Updating an existing value\n",
    "student[\"age\"] = 26\n",
    "\n",
    "# Removing an item\n",
    "student.pop(\"grade\")\n",
    "\n",
    "# Iterating over a dictionary\n",
    "for key, value in student.items():\n",
    "    print(key, \":\", value)\n",
    "\n",
    "# Output:\n",
    "# name : Alice\n",
    "# age : 26\n",
    "# city : New York\n",
    "```\n",
    "\n",
    "## Dictionary Comprehension:\n",
    "```python\n",
    "# Creating a dictionary using comprehension\n",
    "squares = {x: x**2 for x in range(1, 6)}\n",
    "print(squares)  # {1: 1, 2: 4, 3: 9, 4: 16, 5: 25}\n",
    "```\n",
    "\n",
    "## Key Properties of Dictionaries:\n",
    "- **Unordered** (Python 3.6+ maintains insertion order).\n",
    "- **Keys must be unique and immutable** (e.g., strings, numbers, tuples).\n",
    "- **Values can be mutable** and of any type.\n"
   ]
  },
  {
   "cell_type": "code",
   "execution_count": 1,
   "id": "33283519-096d-4467-8561-0a07754f7b67",
   "metadata": {},
   "outputs": [],
   "source": [
    "d = {}"
   ]
  },
  {
   "cell_type": "code",
   "execution_count": 2,
   "id": "b3114846-3244-4523-a5dc-567138793f7b",
   "metadata": {},
   "outputs": [
    {
     "data": {
      "text/plain": [
       "dict"
      ]
     },
     "execution_count": 2,
     "metadata": {},
     "output_type": "execute_result"
    }
   ],
   "source": [
    "type(d)"
   ]
  },
  {
   "cell_type": "code",
   "execution_count": 3,
   "id": "d6ea5e30-8330-469c-ab02-58b0f7b2f303",
   "metadata": {},
   "outputs": [],
   "source": [
    "# Dictionary with key-value pairs\n",
    "student = {\n",
    "    \"name\": \"Alice\",\n",
    "    \"age\": 25,\n",
    "    \"grade\": \"A\"\n",
    "}"
   ]
  },
  {
   "cell_type": "code",
   "execution_count": 4,
   "id": "2ae4c977-afb5-43f8-aee2-faecfbc95447",
   "metadata": {},
   "outputs": [
    {
     "data": {
      "text/plain": [
       "'Alice'"
      ]
     },
     "execution_count": 4,
     "metadata": {},
     "output_type": "execute_result"
    }
   ],
   "source": [
    "student[\"name\"]"
   ]
  },
  {
   "cell_type": "code",
   "execution_count": 5,
   "id": "6280ffdf-9f8a-461d-b63b-3a0b64d18f64",
   "metadata": {},
   "outputs": [],
   "source": [
    "r = student.get(\"name4\")"
   ]
  },
  {
   "cell_type": "code",
   "execution_count": 6,
   "id": "9fa6d2a7-c1c0-41a2-91ca-ceaac84ab0b4",
   "metadata": {},
   "outputs": [
    {
     "name": "stdout",
     "output_type": "stream",
     "text": [
      "None\n"
     ]
    }
   ],
   "source": [
    "print(r)"
   ]
  },
  {
   "cell_type": "code",
   "execution_count": 7,
   "id": "ecef2c3a-9280-483d-8567-373b3680d330",
   "metadata": {},
   "outputs": [],
   "source": [
    "# Dictionary with key-value pairs\n",
    "student = {\n",
    "    \"name\": \"Alice\",\n",
    "    \"age\": 25,\n",
    "    \"grade\": \"A\"\n",
    "}"
   ]
  },
  {
   "cell_type": "code",
   "execution_count": 8,
   "id": "4199feb1-6f5a-4d30-86c5-d217007cacf8",
   "metadata": {},
   "outputs": [
    {
     "name": "stdout",
     "output_type": "stream",
     "text": [
      "25\n"
     ]
    }
   ],
   "source": [
    "print(student[\"age\"])"
   ]
  },
  {
   "cell_type": "code",
   "execution_count": 9,
   "id": "92fff88e-0c52-4a71-86f0-0123d2960d3f",
   "metadata": {},
   "outputs": [],
   "source": [
    "student[\"age\"] = 67"
   ]
  },
  {
   "cell_type": "code",
   "execution_count": 10,
   "id": "139b18ec-a0af-420f-8ed7-4d071b285078",
   "metadata": {},
   "outputs": [
    {
     "name": "stdout",
     "output_type": "stream",
     "text": [
      "{'name': 'Alice', 'age': 67, 'grade': 'A'}\n"
     ]
    }
   ],
   "source": [
    "print(student)"
   ]
  },
  {
   "cell_type": "code",
   "execution_count": 11,
   "id": "f20be0da-602e-4549-8747-2ea95682f5db",
   "metadata": {},
   "outputs": [
    {
     "data": {
      "text/plain": [
       "dict_keys(['name', 'age', 'grade'])"
      ]
     },
     "execution_count": 11,
     "metadata": {},
     "output_type": "execute_result"
    }
   ],
   "source": [
    "student.keys()"
   ]
  },
  {
   "cell_type": "code",
   "execution_count": 12,
   "id": "acba7e3b-64f1-44e4-9439-ecd7d3fae6dd",
   "metadata": {},
   "outputs": [
    {
     "data": {
      "text/plain": [
       "dict_values(['Alice', 67, 'A'])"
      ]
     },
     "execution_count": 12,
     "metadata": {},
     "output_type": "execute_result"
    }
   ],
   "source": [
    "student.values()"
   ]
  },
  {
   "cell_type": "code",
   "execution_count": 13,
   "id": "56668141-5fc0-44e7-a0f2-c9b75c32fd22",
   "metadata": {},
   "outputs": [
    {
     "data": {
      "text/plain": [
       "dict_items([('name', 'Alice'), ('age', 67), ('grade', 'A')])"
      ]
     },
     "execution_count": 13,
     "metadata": {},
     "output_type": "execute_result"
    }
   ],
   "source": [
    "student.items()"
   ]
  },
  {
   "cell_type": "code",
   "execution_count": 14,
   "id": "776db4e6-a373-420f-bcc9-37d7d09e6d62",
   "metadata": {},
   "outputs": [],
   "source": [
    "student.update({\"name\": \"Muktar\"})"
   ]
  },
  {
   "cell_type": "code",
   "execution_count": 15,
   "id": "31e8c948-3b83-4bf3-a0e1-5784c4547818",
   "metadata": {},
   "outputs": [
    {
     "data": {
      "text/plain": [
       "{'name': 'Muktar', 'age': 67, 'grade': 'A'}"
      ]
     },
     "execution_count": 15,
     "metadata": {},
     "output_type": "execute_result"
    }
   ],
   "source": [
    "student"
   ]
  },
  {
   "cell_type": "code",
   "execution_count": 16,
   "id": "aed0a4fc-3145-4196-907a-b05fd68cd3ba",
   "metadata": {},
   "outputs": [],
   "source": [
    "student.update({\"name\": \"Anim\", \"language\": \"Python\"})"
   ]
  },
  {
   "cell_type": "code",
   "execution_count": 17,
   "id": "1656dfb9-d5e3-4f7f-b4dd-96d3af371b4e",
   "metadata": {},
   "outputs": [
    {
     "data": {
      "text/plain": [
       "{'name': 'Anim', 'age': 67, 'grade': 'A', 'language': 'Python'}"
      ]
     },
     "execution_count": 17,
     "metadata": {},
     "output_type": "execute_result"
    }
   ],
   "source": [
    "student"
   ]
  }
 ],
 "metadata": {
  "kernelspec": {
   "display_name": "Python 3 (ipykernel)",
   "language": "python",
   "name": "python3"
  },
  "language_info": {
   "codemirror_mode": {
    "name": "ipython",
    "version": 3
   },
   "file_extension": ".py",
   "mimetype": "text/x-python",
   "name": "python",
   "nbconvert_exporter": "python",
   "pygments_lexer": "ipython3",
   "version": "3.13.5"
  }
 },
 "nbformat": 4,
 "nbformat_minor": 5
}
