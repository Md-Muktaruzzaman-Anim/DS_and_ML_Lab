{
 "cells": [
  {
   "cell_type": "markdown",
   "id": "81436d1f-9dad-4f27-9c6b-66322cd22e9f",
   "metadata": {},
   "source": [
    "# Operator Precedence in Python\n",
    "Python follows **PEMDAS** (Parentheses, Exponents, Multiplication/Division, Addition/Subtraction). The order of operations in Python is:\n",
    "\n",
    "1. **Parentheses `()`** – Highest precedence, operations inside parentheses are evaluated first.\n",
    "2. **Exponents `**`** – Power calculations (e.g., `2 ** 3` → 8).\n",
    "3. **Multiplication `*`, Division `/`, Floor Division `//`, Modulus `%`** – Evaluated from left to right.\n",
    "4. **Addition `+`, Subtraction `-`** – Evaluated from left to right.\n",
    "\n",
    "### Example:\n",
    "```python\n",
    "result = 10 + 2 * 3  # Multiplication happens first: 10 + (2 * 3) = 16\n",
    "print(result)\n",
    "\n",
    "result = (10 + 2) * 3  # Parentheses first: (10 + 2) * 3 = 36\n",
    "print(result)\n",
    "\n",
    "result = 2 ** 3 ** 2  # Right-to-left exponentiation: 2 ** (3 ** 2) = 2 ** 9 = 512\n",
    "print(result)\n",
    "```\n",
    " "
   ]
  },
  {
   "cell_type": "code",
   "execution_count": 1,
   "id": "16901cf6-4631-4074-ae65-b15deb3dfd5f",
   "metadata": {},
   "outputs": [],
   "source": [
    "result = 10 + 2 * 3"
   ]
  },
  {
   "cell_type": "code",
   "execution_count": 2,
   "id": "3aa91c81-f71e-42bc-9bff-ce245b56678e",
   "metadata": {},
   "outputs": [
    {
     "data": {
      "text/plain": [
       "16"
      ]
     },
     "execution_count": 2,
     "metadata": {},
     "output_type": "execute_result"
    }
   ],
   "source": [
    "result"
   ]
  },
  {
   "cell_type": "code",
   "execution_count": 3,
   "id": "8466b401-c1bb-4bc6-b091-936df1a5cdce",
   "metadata": {},
   "outputs": [],
   "source": [
    "result = (10 + 2) * 3"
   ]
  },
  {
   "cell_type": "code",
   "execution_count": 4,
   "id": "b9a9410e-916e-41ad-92c3-bede39a3976c",
   "metadata": {},
   "outputs": [
    {
     "data": {
      "text/plain": [
       "36"
      ]
     },
     "execution_count": 4,
     "metadata": {},
     "output_type": "execute_result"
    }
   ],
   "source": [
    "result"
   ]
  },
  {
   "cell_type": "code",
   "execution_count": 5,
   "id": "2d224fb3-d1d0-4b54-bc31-b0a0dd82f85d",
   "metadata": {},
   "outputs": [
    {
     "data": {
      "text/plain": [
       "-20.956521739130434"
      ]
     },
     "execution_count": 5,
     "metadata": {},
     "output_type": "execute_result"
    }
   ],
   "source": [
    "54*3/23+4-2**5"
   ]
  },
  {
   "cell_type": "code",
   "execution_count": 6,
   "id": "bc9a5878-03ac-4623-8dff-7608bf8bb6a4",
   "metadata": {},
   "outputs": [
    {
     "data": {
      "text/plain": [
       "-20.956521739130434"
      ]
     },
     "execution_count": 6,
     "metadata": {},
     "output_type": "execute_result"
    }
   ],
   "source": [
    "54*3/23+4-32"
   ]
  },
  {
   "cell_type": "code",
   "execution_count": 7,
   "id": "d3320721-9ce1-45f5-b758-44bcb8039fc8",
   "metadata": {},
   "outputs": [
    {
     "data": {
      "text/plain": [
       "-20.956521739130434"
      ]
     },
     "execution_count": 7,
     "metadata": {},
     "output_type": "execute_result"
    }
   ],
   "source": [
    "162/23+4-32"
   ]
  },
  {
   "cell_type": "code",
   "execution_count": 8,
   "id": "8653c4af-c0cd-4970-8a3b-30336e7fb0f8",
   "metadata": {},
   "outputs": [
    {
     "data": {
      "text/plain": [
       "-20.956521739130434"
      ]
     },
     "execution_count": 8,
     "metadata": {},
     "output_type": "execute_result"
    }
   ],
   "source": [
    "7.043478260869565+4-32"
   ]
  },
  {
   "cell_type": "code",
   "execution_count": 9,
   "id": "5b0c5c37-cb38-4bc2-9f16-395cced84b54",
   "metadata": {},
   "outputs": [
    {
     "data": {
      "text/plain": [
       "-20.956521739130434"
      ]
     },
     "execution_count": 9,
     "metadata": {},
     "output_type": "execute_result"
    }
   ],
   "source": [
    "11.043478260869566-32"
   ]
  },
  {
   "cell_type": "markdown",
   "id": "c651e013-81f3-492c-93fc-833a92a0cad6",
   "metadata": {},
   "source": [
    "### Order of Evaluation\n",
    "\n",
    "1. **Exponentiation (`**`) is evaluated right to left**.  \n",
    "   - Example:  \n",
    "     ```python\n",
    "     print(2 ** 3 ** 2)  # Output: 512\n",
    "     ```\n",
    "     This is evaluated as `2 ** (3 ** 2)`, meaning `2 ** 9 = 512`.\n",
    "\n",
    "2. **Multiplication (`*`), division (`/`), floor division (`//`), and modulo (`%`) are evaluated left to right**.  \n",
    "   - Example:  \n",
    "     ```python\n",
    "     print(16 / 4 * 2)  # Output: 8.0\n",
    "     ```\n",
    "     This is evaluated as `(16 / 4) * 2 = 4.0 * 2 = 8.0`.\n",
    "\n",
    "### Operator Precedence Summary:\n",
    "- `**` (Exponentiation) has the **highest precedence** and is evaluated **right to left**.\n",
    "- `*`, `/`, `//`, and `%` have lower precedence than `**` but are evaluated **left to right**.\n",
    " "
   ]
  }
 ],
 "metadata": {
  "kernelspec": {
   "display_name": "Python 3 (ipykernel)",
   "language": "python",
   "name": "python3"
  },
  "language_info": {
   "codemirror_mode": {
    "name": "ipython",
    "version": 3
   },
   "file_extension": ".py",
   "mimetype": "text/x-python",
   "name": "python",
   "nbconvert_exporter": "python",
   "pygments_lexer": "ipython3",
   "version": "3.13.5"
  }
 },
 "nbformat": 4,
 "nbformat_minor": 5
}
