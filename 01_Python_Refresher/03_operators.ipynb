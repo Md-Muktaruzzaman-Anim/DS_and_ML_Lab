{
 "cells": [
  {
   "cell_type": "markdown",
   "id": "044e0938-7a26-4ee2-b98a-0147a931f582",
   "metadata": {},
   "source": [
    "# Operators in Python\n",
    "\n",
    "## 1. Arithmetic Operators\n",
    "Used for basic mathematical operations.\n",
    "\n",
    "| Operator | Description  | Example (`a=10, b=5`) |\n",
    "|----------|-------------|-----------------------|\n",
    "| `+`      | Addition    | `a + b  # 15`        |\n",
    "| `-`      | Subtraction | `a - b  # 5`         |\n",
    "| `*`      | Multiplication | `a * b  # 50`     |\n",
    "| `/`      | Division    | `a / b  # 2.0`       |\n",
    "| `//`     | Floor Division | `a // b  # 2`    |\n",
    "| `%`      | Modulus     | `a % b  # 0`        |\n",
    "| `**`     | Exponentiation | `a ** b  # 100000` |\n",
    "\n",
    "## 2. Comparison Operators\n",
    "Compare values and return `True` or `False`.\n",
    "\n",
    "| Operator | Description  | Example (`a=10, b=5`) |\n",
    "|----------|-------------|-----------------------|\n",
    "| `==`     | Equal to    | `a == b  # False`    |\n",
    "| `!=`     | Not equal to | `a != b  # True`    |\n",
    "| `>`      | Greater than | `a > b  # True`     |\n",
    "| `<`      | Less than    | `a < b  # False`    |\n",
    "| `>=`     | Greater or equal | `a >= b  # True` |\n",
    "| `<=`     | Less or equal | `a <= b  # False` |\n",
    "\n",
    "## 3. Logical Operators\n",
    "Used to combine conditional statements.\n",
    "\n",
    "| Operator | Description | Example (`x=True, y=False`) |\n",
    "|----------|-------------|-----------------------------|\n",
    "| `and`    | Both True  | `x and y  # False`         |\n",
    "| `or`     | Either True | `x or y  # True`          |\n",
    "| `not`    | Negation   | `not x  # False`          |\n",
    "\n",
    "## 4. Bitwise Operators\n",
    "Perform bit-level operations.\n",
    "\n",
    "| Operator | Description | Example (`a=5, b=3`) |\n",
    "|----------|-------------|---------------------|\n",
    "| `&`      | AND        | `a & b  # 1`       |\n",
    "| `\\|`      | OR         | a `\\|` b  # 7       | \n",
    "\n",
    "## 5. Assignment Operators\n",
    "Used to assign values to variables.\n",
    "\n",
    "| Operator | Example (`a=10`) | Equivalent to |\n",
    "|----------|----------------|--------------|\n",
    "| `=`      | `a = 5`       | `a = 5`      |\n",
    "| `+=`     | `a += 5`      | `a = a + 5`  |\n",
    "| `-=`     | `a -= 5`      | `a = a - 5`  |\n",
    "| `*=`     | `a *= 5`      | `a = a * 5`  |\n",
    "| `/=`     | `a /= 5`      | `a = a / 5`  |\n",
    "| `//=`    | `a //= 5`     | `a = a // 5` |\n",
    "| `%=`     | `a %= 5`      | `a = a % 5`  |\n",
    "| `**=`    | `a **= 5`     | `a = a ** 5` |\n",
    "\n",
    "## 6. Membership & Identity Operators\n",
    "Check for presence and object identity.\n",
    "\n",
    "| Operator | Description  | Example (`lst=[1,2,3]`, `x=2`) |\n",
    "|----------|-------------|--------------------------------|\n",
    "| `in`     | Present in sequence | `x in lst  # True` |\n",
    "| `not in` | Not present | `x not in lst  # False` |\n",
    "| `is`     | Same object | `a is b  # False` |\n",
    "| `is not` | Different object | `a is not b  # True` |\n",
    "\n"
   ]
  },
  {
   "cell_type": "code",
   "execution_count": 1,
   "id": "cb1a7bae-f234-47fd-ab7c-44426aa13a3b",
   "metadata": {},
   "outputs": [],
   "source": [
    "a = 10\n",
    "b = 5"
   ]
  },
  {
   "cell_type": "code",
   "execution_count": 2,
   "id": "32a025c0-a46d-45eb-8438-86bac0ba1bb3",
   "metadata": {},
   "outputs": [
    {
     "data": {
      "text/plain": [
       "15"
      ]
     },
     "execution_count": 2,
     "metadata": {},
     "output_type": "execute_result"
    }
   ],
   "source": [
    "a + b"
   ]
  },
  {
   "cell_type": "code",
   "execution_count": 3,
   "id": "c2c333f5-ced8-47f1-ac7b-c2a45a6411fb",
   "metadata": {},
   "outputs": [
    {
     "data": {
      "text/plain": [
       "5"
      ]
     },
     "execution_count": 3,
     "metadata": {},
     "output_type": "execute_result"
    }
   ],
   "source": [
    "a - b"
   ]
  },
  {
   "cell_type": "code",
   "execution_count": 4,
   "id": "d4a34053-15a8-4c06-92bf-314b751f3f64",
   "metadata": {},
   "outputs": [
    {
     "data": {
      "text/plain": [
       "50"
      ]
     },
     "execution_count": 4,
     "metadata": {},
     "output_type": "execute_result"
    }
   ],
   "source": [
    "a * b"
   ]
  },
  {
   "cell_type": "code",
   "execution_count": 5,
   "id": "74ab3de6-83a1-4b8b-aec5-1df2989aa3c5",
   "metadata": {},
   "outputs": [
    {
     "data": {
      "text/plain": [
       "2.0"
      ]
     },
     "execution_count": 5,
     "metadata": {},
     "output_type": "execute_result"
    }
   ],
   "source": [
    "a / b"
   ]
  },
  {
   "cell_type": "code",
   "execution_count": 6,
   "id": "1514212d-32bd-459f-a67f-fd41292f44d8",
   "metadata": {},
   "outputs": [
    {
     "data": {
      "text/plain": [
       "2"
      ]
     },
     "execution_count": 6,
     "metadata": {},
     "output_type": "execute_result"
    }
   ],
   "source": [
    "a // b"
   ]
  },
  {
   "cell_type": "code",
   "execution_count": 7,
   "id": "637f13bb-81f7-4721-97ee-12b8bdcdde98",
   "metadata": {},
   "outputs": [
    {
     "data": {
      "text/plain": [
       "4"
      ]
     },
     "execution_count": 7,
     "metadata": {},
     "output_type": "execute_result"
    }
   ],
   "source": [
    "2**2"
   ]
  },
  {
   "cell_type": "code",
   "execution_count": 8,
   "id": "f74a1915-c98b-40fe-a71c-8aaf8834e7b9",
   "metadata": {},
   "outputs": [
    {
     "data": {
      "text/plain": [
       "32"
      ]
     },
     "execution_count": 8,
     "metadata": {},
     "output_type": "execute_result"
    }
   ],
   "source": [
    "2**5"
   ]
  },
  {
   "cell_type": "code",
   "execution_count": 9,
   "id": "2a600c6c-6988-47d4-aa7e-06c6f56f5f2a",
   "metadata": {},
   "outputs": [
    {
     "data": {
      "text/plain": [
       "100000"
      ]
     },
     "execution_count": 9,
     "metadata": {},
     "output_type": "execute_result"
    }
   ],
   "source": [
    "a**b"
   ]
  },
  {
   "cell_type": "code",
   "execution_count": 10,
   "id": "88772c76-6369-4a65-966e-e7083d7ac459",
   "metadata": {},
   "outputs": [
    {
     "data": {
      "text/plain": [
       "0"
      ]
     },
     "execution_count": 10,
     "metadata": {},
     "output_type": "execute_result"
    }
   ],
   "source": [
    "a % b"
   ]
  },
  {
   "cell_type": "code",
   "execution_count": 11,
   "id": "c6f54efb-d920-47a7-8a4e-06fa199b5303",
   "metadata": {},
   "outputs": [],
   "source": [
    "c = 45\n",
    "d = 40"
   ]
  },
  {
   "cell_type": "code",
   "execution_count": 12,
   "id": "d203ac7e-91cc-4908-8613-3a403205d303",
   "metadata": {},
   "outputs": [
    {
     "data": {
      "text/plain": [
       "False"
      ]
     },
     "execution_count": 12,
     "metadata": {},
     "output_type": "execute_result"
    }
   ],
   "source": [
    "c<d"
   ]
  },
  {
   "cell_type": "code",
   "execution_count": 13,
   "id": "28b83e56-47f6-4899-8b6e-51da62ebb6ff",
   "metadata": {},
   "outputs": [
    {
     "data": {
      "text/plain": [
       "True"
      ]
     },
     "execution_count": 13,
     "metadata": {},
     "output_type": "execute_result"
    }
   ],
   "source": [
    "c>d"
   ]
  },
  {
   "cell_type": "code",
   "execution_count": 14,
   "id": "9b091642-c889-4365-9f71-ccd01bf35726",
   "metadata": {},
   "outputs": [
    {
     "data": {
      "text/plain": [
       "True"
      ]
     },
     "execution_count": 14,
     "metadata": {},
     "output_type": "execute_result"
    }
   ],
   "source": [
    "c>=d"
   ]
  },
  {
   "cell_type": "code",
   "execution_count": 15,
   "id": "a58a2082-f922-4722-b769-1fea1c507026",
   "metadata": {},
   "outputs": [
    {
     "data": {
      "text/plain": [
       "False"
      ]
     },
     "execution_count": 15,
     "metadata": {},
     "output_type": "execute_result"
    }
   ],
   "source": [
    "c<=d"
   ]
  },
  {
   "cell_type": "code",
   "execution_count": 16,
   "id": "465224d3-b845-4073-a575-4bdfd4a7bf02",
   "metadata": {},
   "outputs": [],
   "source": [
    "e = 35"
   ]
  },
  {
   "cell_type": "code",
   "execution_count": 17,
   "id": "0feb78da-3db5-4a21-863b-c40940b155ce",
   "metadata": {},
   "outputs": [
    {
     "data": {
      "text/plain": [
       "False"
      ]
     },
     "execution_count": 17,
     "metadata": {},
     "output_type": "execute_result"
    }
   ],
   "source": [
    "c == e"
   ]
  },
  {
   "cell_type": "code",
   "execution_count": 18,
   "id": "abf5e08d-5db1-49e1-86e6-703a926febf4",
   "metadata": {},
   "outputs": [
    {
     "data": {
      "text/plain": [
       "True"
      ]
     },
     "execution_count": 18,
     "metadata": {},
     "output_type": "execute_result"
    }
   ],
   "source": [
    "c != e"
   ]
  },
  {
   "cell_type": "code",
   "execution_count": 19,
   "id": "57fdb5af-efe5-43e4-afea-626d2f0541d0",
   "metadata": {},
   "outputs": [],
   "source": [
    "b1 = True\n",
    "b2 = False"
   ]
  },
  {
   "cell_type": "code",
   "execution_count": 20,
   "id": "8d0fc3e2-092a-45ba-9b00-5ca461531dfb",
   "metadata": {},
   "outputs": [
    {
     "data": {
      "text/plain": [
       "False"
      ]
     },
     "execution_count": 20,
     "metadata": {},
     "output_type": "execute_result"
    }
   ],
   "source": [
    "not(b1)"
   ]
  },
  {
   "cell_type": "code",
   "execution_count": 21,
   "id": "c475c38f-6b3e-4100-a39f-0ca8778dd04c",
   "metadata": {},
   "outputs": [
    {
     "data": {
      "text/plain": [
       "True"
      ]
     },
     "execution_count": 21,
     "metadata": {},
     "output_type": "execute_result"
    }
   ],
   "source": [
    "not(b2)"
   ]
  },
  {
   "cell_type": "code",
   "execution_count": 22,
   "id": "1b43450f-7c14-4316-8240-cac9df063fca",
   "metadata": {},
   "outputs": [
    {
     "data": {
      "text/plain": [
       "True"
      ]
     },
     "execution_count": 22,
     "metadata": {},
     "output_type": "execute_result"
    }
   ],
   "source": [
    "b1 or b2"
   ]
  },
  {
   "cell_type": "code",
   "execution_count": 23,
   "id": "b8ae39ea-78d6-4ddd-90e4-d0ec63b2b9ec",
   "metadata": {},
   "outputs": [
    {
     "data": {
      "text/plain": [
       "False"
      ]
     },
     "execution_count": 23,
     "metadata": {},
     "output_type": "execute_result"
    }
   ],
   "source": [
    "b1 and b2"
   ]
  },
  {
   "cell_type": "code",
   "execution_count": 24,
   "id": "98ed7169-633e-4a38-a113-57938bd45093",
   "metadata": {},
   "outputs": [
    {
     "data": {
      "text/plain": [
       "41"
      ]
     },
     "execution_count": 24,
     "metadata": {},
     "output_type": "execute_result"
    }
   ],
   "source": [
    "a = 45\n",
    "a -= 4\n",
    "a"
   ]
  },
  {
   "cell_type": "code",
   "execution_count": 25,
   "id": "5b6f534d-38ef-4b10-995e-29eeaca4cd1a",
   "metadata": {},
   "outputs": [],
   "source": [
    "a = 5\n",
    "b = 3"
   ]
  },
  {
   "cell_type": "code",
   "execution_count": 26,
   "id": "985d3341-77a6-4f55-89c0-e610aa724186",
   "metadata": {},
   "outputs": [
    {
     "data": {
      "text/plain": [
       "1"
      ]
     },
     "execution_count": 26,
     "metadata": {},
     "output_type": "execute_result"
    }
   ],
   "source": [
    "a & b"
   ]
  },
  {
   "cell_type": "code",
   "execution_count": 27,
   "id": "882eb6bd-1585-432a-8c3e-f4770371a4d3",
   "metadata": {},
   "outputs": [
    {
     "data": {
      "text/plain": [
       "7"
      ]
     },
     "execution_count": 27,
     "metadata": {},
     "output_type": "execute_result"
    }
   ],
   "source": [
    "a | b"
   ]
  }
 ],
 "metadata": {
  "kernelspec": {
   "display_name": "Python 3 (ipykernel)",
   "language": "python",
   "name": "python3"
  },
  "language_info": {
   "codemirror_mode": {
    "name": "ipython",
    "version": 3
   },
   "file_extension": ".py",
   "mimetype": "text/x-python",
   "name": "python",
   "nbconvert_exporter": "python",
   "pygments_lexer": "ipython3",
   "version": "3.13.5"
  }
 },
 "nbformat": 4,
 "nbformat_minor": 5
}
