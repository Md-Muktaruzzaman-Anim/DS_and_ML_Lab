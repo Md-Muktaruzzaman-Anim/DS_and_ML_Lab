{
 "cells": [
  {
   "cell_type": "code",
   "execution_count": 1,
   "id": "019d21fb-e328-44b3-80f3-df3e407eb162",
   "metadata": {},
   "outputs": [],
   "source": [
    "a = 5"
   ]
  },
  {
   "cell_type": "code",
   "execution_count": 2,
   "id": "e2cbdd71-ead0-4d11-9307-bf1f8a96252c",
   "metadata": {},
   "outputs": [],
   "source": [
    "b = 32"
   ]
  },
  {
   "cell_type": "code",
   "execution_count": 3,
   "id": "028dc10d-9f05-4e0f-8b77-eb5cc2bf9cfe",
   "metadata": {},
   "outputs": [
    {
     "data": {
      "text/plain": [
       "37"
      ]
     },
     "execution_count": 3,
     "metadata": {},
     "output_type": "execute_result"
    }
   ],
   "source": [
    "a + b"
   ]
  },
  {
   "cell_type": "code",
   "execution_count": 4,
   "id": "4051c70c-c934-44ef-b2d0-a06254d6d895",
   "metadata": {},
   "outputs": [],
   "source": [
    "name = \"Muktar\""
   ]
  },
  {
   "cell_type": "code",
   "execution_count": 5,
   "id": "3f7cdf12-942d-4b66-b0ea-ea1593e93790",
   "metadata": {},
   "outputs": [
    {
     "name": "stdout",
     "output_type": "stream",
     "text": [
      "Muktar\n"
     ]
    }
   ],
   "source": [
    "print(name)"
   ]
  },
  {
   "cell_type": "code",
   "execution_count": 6,
   "id": "f80cd44e-1ae1-4b63-b732-a5488465b2b4",
   "metadata": {},
   "outputs": [
    {
     "name": "stdout",
     "output_type": "stream",
     "text": [
      "<class 'int'>\n",
      "<class 'str'>\n"
     ]
    }
   ],
   "source": [
    "print(type(a))\n",
    "print(type(name))"
   ]
  },
  {
   "cell_type": "code",
   "execution_count": 7,
   "id": "acfbc4e7-401b-4cc1-91e2-18badb438f23",
   "metadata": {},
   "outputs": [
    {
     "data": {
      "text/plain": [
       "str"
      ]
     },
     "execution_count": 7,
     "metadata": {},
     "output_type": "execute_result"
    }
   ],
   "source": [
    "type(name)"
   ]
  },
  {
   "cell_type": "code",
   "execution_count": 8,
   "id": "e9ba2054-7130-4d45-892a-b6e5c676db10",
   "metadata": {},
   "outputs": [
    {
     "name": "stdout",
     "output_type": "stream",
     "text": [
      "45467879\n",
      "12425\n"
     ]
    }
   ],
   "source": [
    "m = \"4546\"\n",
    "n = \"7879\"\n",
    "print(m+n)\n",
    "print(int(m) + int(n))"
   ]
  }
 ],
 "metadata": {
  "kernelspec": {
   "display_name": "Python 3 (ipykernel)",
   "language": "python",
   "name": "python3"
  },
  "language_info": {
   "codemirror_mode": {
    "name": "ipython",
    "version": 3
   },
   "file_extension": ".py",
   "mimetype": "text/x-python",
   "name": "python",
   "nbconvert_exporter": "python",
   "pygments_lexer": "ipython3",
   "version": "3.13.5"
  }
 },
 "nbformat": 4,
 "nbformat_minor": 5
}
