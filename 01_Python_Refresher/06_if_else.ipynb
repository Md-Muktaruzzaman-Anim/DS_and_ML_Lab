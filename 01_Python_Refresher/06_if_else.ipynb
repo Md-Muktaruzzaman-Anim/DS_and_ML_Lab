{
 "cells": [
  {
   "cell_type": "markdown",
   "id": "33869bc6-e993-4b1d-a17b-c20e9a513ec2",
   "metadata": {},
   "source": [
    "# Conditional Statements in Python\n",
    "\n",
    "In Python, conditional statements (`if`, `elif`, and `else`) are used to control the flow of a program based on conditions. These are essential in data science for handling different scenarios in data processing, decision-making, and logic execution.\n",
    "\n",
    "## Basic `if` Statement\n",
    "The `if` statement allows you to execute a block of code only if a condition is `True`.\n",
    "\n",
    "```python\n",
    "x = 10\n",
    "if x > 5:\n",
    "    print(\"x is greater than 5\")\n",
    "```\n",
    "\n",
    "### Explanation:\n",
    "- The condition `x > 5` is checked.\n",
    "- If `True`, the indented block under `if` runs.\n",
    "- If `False`, nothing happens.\n",
    "\n",
    "## `if-else` Statement\n",
    "The `else` block executes when the `if` condition is `False`.\n",
    "\n",
    "```python\n",
    "x = 3\n",
    "if x > 5:\n",
    "    print(\"x is greater than 5\")\n",
    "else:\n",
    "    print(\"x is not greater than 5\")\n",
    "```\n",
    "\n",
    "### Explanation:\n",
    "- If `x > 5`, it prints the first message.\n",
    "- Otherwise, the `else` block executes.\n",
    "\n",
    "## `if-elif-else` Statement\n",
    "When multiple conditions need to be checked sequentially, use `elif` (short for \"else if\").\n",
    "\n",
    "```python\n",
    "x = 5\n",
    "if x > 10:\n",
    "    print(\"x is greater than 10\")\n",
    "elif x > 5:\n",
    "    print(\"x is greater than 5 but not more than 10\")\n",
    "elif x == 5:\n",
    "    print(\"x is exactly 5\")\n",
    "else:\n",
    "    print(\"x is less than 5\")\n",
    "```\n",
    "\n",
    "### Explanation:\n",
    "- The conditions are checked from top to bottom.\n",
    "- The first `True` condition executes, and the rest are skipped.\n",
    "\n",
    "## Using `if-else` in Data Science\n",
    "Conditional statements are widely used in data science for filtering, cleaning, and decision-making.\n",
    "\n",
    "### Example: Categorizing Data\n",
    "```python\n",
    "age = 25\n",
    "if age < 18:\n",
    "    category = \"Minor\"\n",
    "elif age < 65:\n",
    "    category = \"Adult\"\n",
    "else:\n",
    "    category = \"Senior Citizen\"\n",
    "\n",
    "print(\"Category:\", category)\n",
    "```\n",
    "\n",
    "### Example: Applying Conditions on Pandas DataFrame\n",
    "```python\n",
    "import pandas as pd\n",
    "\n",
    "data = {'Name': ['Alice', 'Bob', 'Charlie'], 'Score': [85, 40, 75]}\n",
    "df = pd.DataFrame(data)\n",
    "\n",
    "df['Result'] = df['Score'].apply(lambda x: 'Pass' if x >= 50 else 'Fail')\n",
    "print(df)\n",
    "```\n",
    "\n",
    "## Summary\n",
    "- `if`: Executes if the condition is `True`.\n",
    "- `if-else`: Adds an alternative block if the condition is `False`.\n",
    "- `if-elif-else`: Handles multiple conditions.\n",
    "- Useful in data science for logic-based decision-making.\n",
    " \n",
    "\n"
   ]
  },
  {
   "cell_type": "code",
   "execution_count": 1,
   "id": "e0a3481c-88d8-4c63-a29c-09517bcd0d61",
   "metadata": {},
   "outputs": [],
   "source": [
    "a = 400"
   ]
  },
  {
   "cell_type": "code",
   "execution_count": 2,
   "id": "3c300ac8-e4fb-4b8f-a438-a64942a9100a",
   "metadata": {},
   "outputs": [
    {
     "name": "stdout",
     "output_type": "stream",
     "text": [
      "Greater\n"
     ]
    }
   ],
   "source": [
    "if(a>53):\n",
    "    print(\"Greater\")\n",
    "else:\n",
    "    print(\"Smaller\")"
   ]
  },
  {
   "cell_type": "code",
   "execution_count": 3,
   "id": "46709c6a-5526-4a08-9564-e9fb26fe6fe1",
   "metadata": {},
   "outputs": [
    {
     "name": "stdout",
     "output_type": "stream",
     "text": [
      "Greater than 30\n"
     ]
    }
   ],
   "source": [
    "a = 33\n",
    "if a>50:\n",
    "    print(\"greater than 50\")\n",
    "elif(a>40):\n",
    "    print(\"greater than 40\")\n",
    "elif(a>30):\n",
    "    print(\"Greater than 30\")\n",
    "else:\n",
    "    print(\"Done!\")"
   ]
  },
  {
   "cell_type": "markdown",
   "id": "94ace88c-23cc-4b8f-8813-0efbe17bb44d",
   "metadata": {},
   "source": [
    "# Functions in Python\n",
    "\n",
    "A **function** is a reusable block of code that performs a specific task.\n",
    "\n",
    "## 1. Defining a Function\n",
    "```python\n",
    "def greet(name):\n",
    "    return f\"Hello, {name}!\"\n",
    "```\n",
    "\n",
    "## 2. Calling a Function\n",
    "```python\n",
    "print(greet(\"Alice\"))  # Output: Hello, Alice!\n",
    "```\n",
    "\n",
    "## 3. Function with Default Argument\n",
    "```python\n",
    "def greet(name=\"Guest\"):\n",
    "    return f\"Hello, {name}!\"\n",
    "```\n",
    "\n",
    "## 4. Function with Multiple Arguments\n",
    "```python\n",
    "def add(a, b):\n",
    "    return a + b\n",
    "print(add(3, 5))  # Output: 8\n",
    "```"
   ]
  },
  {
   "cell_type": "code",
   "execution_count": 4,
   "id": "9991a391-6243-4a61-867e-64efc4c88cbc",
   "metadata": {},
   "outputs": [],
   "source": [
    "def avg(a, b=0): # b = 0 default value\n",
    "    return (a+b)/2"
   ]
  },
  {
   "cell_type": "code",
   "execution_count": 5,
   "id": "fbd51834-bd54-4469-9924-d54357002c31",
   "metadata": {},
   "outputs": [
    {
     "data": {
      "text/plain": [
       "5.0"
      ]
     },
     "execution_count": 5,
     "metadata": {},
     "output_type": "execute_result"
    }
   ],
   "source": [
    "avg(4,6)"
   ]
  },
  {
   "cell_type": "code",
   "execution_count": 6,
   "id": "27dc9a58-27ce-47e3-bba0-e0289f9e0bdc",
   "metadata": {},
   "outputs": [],
   "source": [
    "def greet():\n",
    "    print(\"Hello good morning\")"
   ]
  },
  {
   "cell_type": "code",
   "execution_count": 7,
   "id": "8d65d18a-aa6c-4737-887d-887bc4e2ae89",
   "metadata": {},
   "outputs": [
    {
     "name": "stdout",
     "output_type": "stream",
     "text": [
      "Hello good morning\n"
     ]
    }
   ],
   "source": [
    "greet()"
   ]
  },
  {
   "cell_type": "code",
   "execution_count": 8,
   "id": "e2f9bfe8-e83c-4b65-ad51-3b168011473c",
   "metadata": {},
   "outputs": [],
   "source": [
    "None"
   ]
  }
 ],
 "metadata": {
  "kernelspec": {
   "display_name": "Python 3 (ipykernel)",
   "language": "python",
   "name": "python3"
  },
  "language_info": {
   "codemirror_mode": {
    "name": "ipython",
    "version": 3
   },
   "file_extension": ".py",
   "mimetype": "text/x-python",
   "name": "python",
   "nbconvert_exporter": "python",
   "pygments_lexer": "ipython3",
   "version": "3.13.5"
  }
 },
 "nbformat": 4,
 "nbformat_minor": 5
}
