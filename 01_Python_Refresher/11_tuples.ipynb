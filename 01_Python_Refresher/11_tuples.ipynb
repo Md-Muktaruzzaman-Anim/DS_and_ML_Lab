{
 "cells": [
  {
   "cell_type": "markdown",
   "id": "7829c546-94ec-445e-9777-37307d43dc39",
   "metadata": {},
   "source": [
    "# Python Tuples and Tuple Methods\n",
    "\n",
    "## What is a Tuple?\n",
    "A **tuple** in Python is an ordered, immutable collection of elements. It is similar to a list, but once created, its elements cannot be modified.\n",
    "\n",
    "### Creating a Tuple:\n",
    "```python\n",
    "# Empty tuple\n",
    "empty_tuple = ()\n",
    "\n",
    "# Tuple with elements\n",
    "numbers = (1, 2, 3, 4, 5)\n",
    "\n",
    "# Mixed data types\n",
    "mixed_tuple = (1, \"Hello\", 3.14, True)\n",
    "\n",
    "# Single element tuple (comma is necessary)\n",
    "single_element = (42,)\n",
    "```\n",
    "\n",
    "## Common Tuple Methods\n",
    "\n",
    "| Method | Description | Example |\n",
    "|--------|------------|---------|\n",
    "| `count(x)` | Returns the number of times `x` appears in the tuple. | `my_tuple.count(2)` |\n",
    "| `index(x)` | Returns the index of the first occurrence of `x`. | `my_tuple.index(3)` |\n",
    "\n",
    "## Tuple Characteristics\n",
    "- **Immutable**: Once created, elements cannot be changed.\n",
    "- **Faster than lists**: Accessing elements in a tuple is faster than in a list.\n",
    "- **Can be used as dictionary keys**: Since tuples are immutable, they can be used as keys in dictionaries.\n",
    "\n",
    "## Accessing Tuple Elements\n",
    "```python\n",
    "my_tuple = (10, 20, 30, 40)\n",
    "\n",
    "# Indexing\n",
    "print(my_tuple[1])  # 20\n",
    "\n",
    "# Slicing\n",
    "print(my_tuple[1:3])  # (20, 30)\n",
    "```\n",
    "\n",
    "## Tuple Packing and Unpacking\n",
    "```python\n",
    "# Packing\n",
    "person = (\"Alice\", 25, \"Engineer\")\n",
    "\n",
    "# Unpacking\n",
    "name, age, profession = person\n",
    "print(name)  # Alice\n",
    "print(age)   # 25\n",
    "```\n",
    "\n",
    "## When to Use Tuples?\n",
    "- When you want an **unchangeable** collection of elements.\n",
    "- When you need a **faster** alternative to lists.\n",
    "- When storing **heterogeneous data** (e.g., database records, coordinates).\n"
   ]
  },
  {
   "cell_type": "code",
   "execution_count": 1,
   "id": "a9b14c7a-f7f1-4ed1-b18a-fa47f552a0b4",
   "metadata": {},
   "outputs": [],
   "source": [
    "e = ()"
   ]
  },
  {
   "cell_type": "code",
   "execution_count": 2,
   "id": "b1172914-dddc-4faa-b407-19fe519afffd",
   "metadata": {},
   "outputs": [
    {
     "data": {
      "text/plain": [
       "()"
      ]
     },
     "execution_count": 2,
     "metadata": {},
     "output_type": "execute_result"
    }
   ],
   "source": [
    "e"
   ]
  },
  {
   "cell_type": "code",
   "execution_count": 3,
   "id": "02a8fb31-82c0-4fe4-8dfe-e8c9191054cb",
   "metadata": {},
   "outputs": [
    {
     "data": {
      "text/plain": [
       "tuple"
      ]
     },
     "execution_count": 3,
     "metadata": {},
     "output_type": "execute_result"
    }
   ],
   "source": [
    "type(e)"
   ]
  },
  {
   "cell_type": "code",
   "execution_count": 4,
   "id": "e37babd9-7a04-4207-8e41-90e60668439f",
   "metadata": {},
   "outputs": [],
   "source": [
    "l = []"
   ]
  },
  {
   "cell_type": "code",
   "execution_count": 5,
   "id": "9ac19683-2c4d-43d3-88fd-f938992711a2",
   "metadata": {},
   "outputs": [
    {
     "data": {
      "text/plain": [
       "list"
      ]
     },
     "execution_count": 5,
     "metadata": {},
     "output_type": "execute_result"
    }
   ],
   "source": [
    "type(l)"
   ]
  },
  {
   "cell_type": "code",
   "execution_count": 6,
   "id": "10be86be-0731-4b06-bae3-2cbee0755895",
   "metadata": {},
   "outputs": [],
   "source": [
    "t = (5,64,23,23)"
   ]
  },
  {
   "cell_type": "code",
   "execution_count": 7,
   "id": "d9d78cea-adfd-493e-8c18-f4ad0255737d",
   "metadata": {},
   "outputs": [
    {
     "data": {
      "text/plain": [
       "(5, 64, 23, 23)"
      ]
     },
     "execution_count": 7,
     "metadata": {},
     "output_type": "execute_result"
    }
   ],
   "source": [
    "t"
   ]
  },
  {
   "cell_type": "code",
   "execution_count": 8,
   "id": "35ecd325-263f-4372-93c3-061d2f6fe208",
   "metadata": {},
   "outputs": [
    {
     "data": {
      "text/plain": [
       "4"
      ]
     },
     "execution_count": 8,
     "metadata": {},
     "output_type": "execute_result"
    }
   ],
   "source": [
    "len(t)"
   ]
  },
  {
   "cell_type": "code",
   "execution_count": 9,
   "id": "6df5ae94-36d7-4798-a426-1d55887472e3",
   "metadata": {},
   "outputs": [
    {
     "data": {
      "text/plain": [
       "64"
      ]
     },
     "execution_count": 9,
     "metadata": {},
     "output_type": "execute_result"
    }
   ],
   "source": [
    "t[1]"
   ]
  },
  {
   "cell_type": "code",
   "execution_count": 10,
   "id": "a72cf286-7147-4847-a612-2f8515e861a8",
   "metadata": {},
   "outputs": [],
   "source": [
    "# Packing\n",
    "person = (\"Alice\", 25, \"Engineer\")\n",
    "\n",
    "# Unpacking\n",
    "name, age, profession = person"
   ]
  },
  {
   "cell_type": "code",
   "execution_count": 11,
   "id": "ce57eabf-c369-4936-856a-3d7f16b54cf8",
   "metadata": {},
   "outputs": [
    {
     "data": {
      "text/plain": [
       "'Alice'"
      ]
     },
     "execution_count": 11,
     "metadata": {},
     "output_type": "execute_result"
    }
   ],
   "source": [
    "name"
   ]
  },
  {
   "cell_type": "code",
   "execution_count": 12,
   "id": "d9fe8a09-c4d0-4436-9d05-83e1710800d3",
   "metadata": {},
   "outputs": [
    {
     "data": {
      "text/plain": [
       "25"
      ]
     },
     "execution_count": 12,
     "metadata": {},
     "output_type": "execute_result"
    }
   ],
   "source": [
    "age"
   ]
  },
  {
   "cell_type": "code",
   "execution_count": 13,
   "id": "c07004b7-5c4b-4f88-a9c9-dbbd21110a51",
   "metadata": {},
   "outputs": [
    {
     "data": {
      "text/plain": [
       "'Engineer'"
      ]
     },
     "execution_count": 13,
     "metadata": {},
     "output_type": "execute_result"
    }
   ],
   "source": [
    "profession"
   ]
  }
 ],
 "metadata": {
  "kernelspec": {
   "display_name": "Python 3 (ipykernel)",
   "language": "python",
   "name": "python3"
  },
  "language_info": {
   "codemirror_mode": {
    "name": "ipython",
    "version": 3
   },
   "file_extension": ".py",
   "mimetype": "text/x-python",
   "name": "python",
   "nbconvert_exporter": "python",
   "pygments_lexer": "ipython3",
   "version": "3.13.5"
  }
 },
 "nbformat": 4,
 "nbformat_minor": 5
}
