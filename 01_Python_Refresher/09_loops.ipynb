{
 "cells": [
  {
   "cell_type": "markdown",
   "id": "9c6b4c56-93f5-4151-bcba-690e7b4f5878",
   "metadata": {},
   "source": [
    "# Loops in Python\n",
    "\n",
    "Python has two main loops: `for` and `while`.\n",
    "\n",
    "## 1. For Loop\n",
    "\n",
    "Used to iterate over sequences like lists, tuples, and strings.\n",
    "\n",
    "```python\n",
    "fruits = [\"apple\", \"banana\", \"cherry\"]\n",
    "\n",
    "for fruit in fruits:\n",
    "    print(fruit)\n",
    "```\n",
    "\n",
    "### Using `range()`\n",
    "```python\n",
    "for i in range(3):\n",
    "    print(i)  # Output: 0, 1, 2\n",
    "```\n",
    "\n",
    "## 2. While Loop\n",
    "\n",
    "Runs as long as a condition is `True`.\n",
    "\n",
    "```python\n",
    "count = 0\n",
    "while count < 3:\n",
    "    print(count)\n",
    "    count += 1\n",
    "```\n",
    "\n",
    "### Output:\n",
    "```\n",
    "0\n",
    "1\n",
    "2\n",
    "```\n",
    "\n",
    "## 3. Loop Control Statements\n",
    "- `break` → Exits the loop.\n",
    "- `continue` → Skips to the next iteration.\n",
    "- `pass` → Does nothing (used as a placeholder).\n",
    "\n",
    "```python\n",
    "for i in range(5):\n",
    "    if i == 3:\n",
    "        break  # Stops the loop at 3\n",
    "    print(i)\n",
    "```\n",
    " "
   ]
  },
  {
   "cell_type": "code",
   "execution_count": 1,
   "id": "3bd35111-edff-4a48-b80c-ed9e83f8f3de",
   "metadata": {},
   "outputs": [],
   "source": [
    "l = [3,5,6,9,89]"
   ]
  },
  {
   "cell_type": "code",
   "execution_count": 2,
   "id": "f88ddf26-3857-44e4-9d87-2f357b581f9c",
   "metadata": {},
   "outputs": [
    {
     "name": "stdout",
     "output_type": "stream",
     "text": [
      "3\n",
      "5\n",
      "6\n",
      "9\n",
      "89\n"
     ]
    }
   ],
   "source": [
    "for item in l:\n",
    "    print(item)"
   ]
  },
  {
   "cell_type": "code",
   "execution_count": 3,
   "id": "4fc77b4f-6980-4d58-b553-bd0992990e20",
   "metadata": {},
   "outputs": [
    {
     "name": "stdout",
     "output_type": "stream",
     "text": [
      "0\n",
      "1\n",
      "2\n",
      "3\n",
      "4\n",
      "5\n",
      "6\n",
      "7\n",
      "8\n",
      "9\n",
      "10\n"
     ]
    }
   ],
   "source": [
    "for i in range(11):\n",
    "    print(i)"
   ]
  },
  {
   "cell_type": "code",
   "execution_count": 4,
   "id": "8d971ab7-b9e2-459d-bbe3-401fd7246371",
   "metadata": {},
   "outputs": [
    {
     "name": "stdout",
     "output_type": "stream",
     "text": [
      "0\n",
      "1\n",
      "2\n",
      "3\n",
      "4\n",
      "5\n",
      "6\n",
      "7\n",
      "8\n",
      "9\n",
      "10\n",
      "11\n"
     ]
    }
   ],
   "source": [
    "i = 0\n",
    "while i<12:\n",
    "    print(i)\n",
    "    i = i + 1"
   ]
  },
  {
   "cell_type": "code",
   "execution_count": 5,
   "id": "efbe9abf-b310-4ded-b900-ef046803c18c",
   "metadata": {},
   "outputs": [
    {
     "name": "stdout",
     "output_type": "stream",
     "text": [
      "End of progran\n"
     ]
    }
   ],
   "source": [
    "for item in l:\n",
    "    pass # pass means do nothing\n",
    "\n",
    "print(\"End of progran\")"
   ]
  },
  {
   "cell_type": "code",
   "execution_count": 6,
   "id": "0c125ac2-31bd-42c6-bb4b-9c32911eab06",
   "metadata": {},
   "outputs": [
    {
     "name": "stdout",
     "output_type": "stream",
     "text": [
      "apples\n"
     ]
    }
   ],
   "source": [
    "l = [\"apples\", \"bananas\", \"tomatoes\"]\n",
    "for item in l:\n",
    "    if(item == \"bananas\"):\n",
    "        break # Stop this loop right here\n",
    "    print(item)"
   ]
  },
  {
   "cell_type": "code",
   "execution_count": 7,
   "id": "deefd0a2-d0ab-4930-a968-b4457f514d37",
   "metadata": {},
   "outputs": [
    {
     "name": "stdout",
     "output_type": "stream",
     "text": [
      "apples\n",
      "tomatoes\n"
     ]
    }
   ],
   "source": [
    "l = [\"apples\", \"bananas\", \"tomatoes\"]\n",
    "for item in l:\n",
    "    if(item == \"bananas\"):\n",
    "        continue # Skip this particular iteration of the loop\n",
    "    print(item)"
   ]
  }
 ],
 "metadata": {
  "kernelspec": {
   "display_name": "Python 3 (ipykernel)",
   "language": "python",
   "name": "python3"
  },
  "language_info": {
   "codemirror_mode": {
    "name": "ipython",
    "version": 3
   },
   "file_extension": ".py",
   "mimetype": "text/x-python",
   "name": "python",
   "nbconvert_exporter": "python",
   "pygments_lexer": "ipython3",
   "version": "3.13.5"
  }
 },
 "nbformat": 4,
 "nbformat_minor": 5
}
