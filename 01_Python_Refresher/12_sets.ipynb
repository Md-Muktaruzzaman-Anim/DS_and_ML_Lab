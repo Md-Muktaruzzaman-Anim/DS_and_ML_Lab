{
 "cells": [
  {
   "cell_type": "markdown",
   "id": "7f34e8e1-613c-4737-a447-ab62cd2844d7",
   "metadata": {},
   "source": [
    "# Python Sets and Set Methods\n",
    "\n",
    "## What is a Set?\n",
    "A **set** in Python is an **unordered**, **mutable**, and **unique** collection of elements. It does not allow duplicate values.\n",
    "\n",
    "### Creating a Set:\n",
    "```python\n",
    "# Empty set (must use set(), not {})\n",
    "empty_set = set()\n",
    "\n",
    "# Set with elements\n",
    "numbers = {1, 2, 3, 4, 5}\n",
    "\n",
    "# Mixed data types\n",
    "mixed_set = {1, \"Hello\", 3.14, True}\n",
    "\n",
    "# Creating a set from a list\n",
    "unique_numbers = set([1, 2, 2, 3, 4, 4, 5])\n",
    "print(unique_numbers)  # {1, 2, 3, 4, 5}\n",
    "```\n",
    "\n",
    "## Common Set Methods\n",
    "\n",
    "| Method | Description | Example |\n",
    "|--------|------------|---------|\n",
    "| `add(x)` | Adds an element `x` to the set. | `my_set.add(10)` |\n",
    "| `update(iterable)` | Adds multiple elements from an iterable. | `my_set.update([6, 7, 8])` |\n",
    "| `remove(x)` | Removes `x` from the set (raises an error if not found). | `my_set.remove(3)` |\n",
    "| `discard(x)` | Removes `x` from the set (does not raise an error if not found). | `my_set.discard(3)` |\n",
    "| `pop()` | Removes and returns a random element. | `my_set.pop()` |\n",
    "| `clear()` | Removes all elements from the set. | `my_set.clear()` |\n",
    "| `copy()` | Returns a shallow copy of the set. | `new_set = my_set.copy()` |\n",
    "\n",
    "## Set Operations\n",
    "\n",
    "| Operation | Description | Example |\n",
    "|-----------|------------|---------|\n",
    "| `union(set2)` | Returns a new set with all unique elements from both sets. | `set1.union(set2)` |\n",
    "| `intersection(set2)` | Returns a set with elements common to both sets. | `set1.intersection(set2)` |\n",
    "| `difference(set2)` | Returns a set with elements in `set1` but not in `set2`. | `set1.difference(set2)` |\n",
    "| `symmetric_difference(set2)` | Returns a set with elements in either `set1` or `set2`, but not both. | `set1.symmetric_difference(set2)` |\n",
    "| `issubset(set2)` | Returns `True` if `set1` is a subset of `set2`. | `set1.issubset(set2)` |\n",
    "| `issuperset(set2)` | Returns `True` if `set1` is a superset of `set2`. | `set1.issuperset(set2)` |\n",
    "\n",
    "## Example Usage:\n",
    "```python\n",
    "set1 = {1, 2, 3, 4}\n",
    "set2 = {3, 4, 5, 6}\n",
    "\n",
    "# Union\n",
    "print(set1 | set2)  # {1, 2, 3, 4, 5, 6}\n",
    "\n",
    "# Intersection\n",
    "print(set1 & set2)  # {3, 4}\n",
    "\n",
    "# Difference\n",
    "print(set1 - set2)  # {1, 2}\n",
    "\n",
    "# Symmetric Difference\n",
    "print(set1 ^ set2)  # {1, 2, 5, 6}\n",
    "```\n",
    "\n",
    "## Key Properties of Sets:\n",
    "- **Unordered**: No indexing or slicing.\n",
    "- **Unique Elements**: Duplicates are automatically removed.\n",
    "- **Mutable**: You can add or remove elements.\n"
   ]
  },
  {
   "cell_type": "code",
   "execution_count": 1,
   "id": "e1dd511b-3938-4c50-84d8-e34c5c4ace1c",
   "metadata": {},
   "outputs": [],
   "source": [
    "a = {}"
   ]
  },
  {
   "cell_type": "code",
   "execution_count": 2,
   "id": "83496b5a-427b-4af1-887a-9dd23b280801",
   "metadata": {},
   "outputs": [
    {
     "data": {
      "text/plain": [
       "dict"
      ]
     },
     "execution_count": 2,
     "metadata": {},
     "output_type": "execute_result"
    }
   ],
   "source": [
    "type(a)"
   ]
  },
  {
   "cell_type": "code",
   "execution_count": 3,
   "id": "f91a99e4-d382-4393-bd23-91d7f87c03c1",
   "metadata": {},
   "outputs": [],
   "source": [
    "b = set()"
   ]
  },
  {
   "cell_type": "code",
   "execution_count": 4,
   "id": "5abfcf8a-8b93-4498-bff7-7ae958724b08",
   "metadata": {},
   "outputs": [
    {
     "data": {
      "text/plain": [
       "set"
      ]
     },
     "execution_count": 4,
     "metadata": {},
     "output_type": "execute_result"
    }
   ],
   "source": [
    "type(b)"
   ]
  },
  {
   "cell_type": "code",
   "execution_count": 5,
   "id": "55514674-4384-4263-9f1b-c23cd2153829",
   "metadata": {},
   "outputs": [],
   "source": [
    "s = {4, 3, 6, 2, 66, 4}"
   ]
  },
  {
   "cell_type": "code",
   "execution_count": 6,
   "id": "71552631-4d08-4abc-9e1a-d07d0325c686",
   "metadata": {},
   "outputs": [
    {
     "data": {
      "text/plain": [
       "{2, 3, 4, 6, 66}"
      ]
     },
     "execution_count": 6,
     "metadata": {},
     "output_type": "execute_result"
    }
   ],
   "source": [
    "s"
   ]
  },
  {
   "cell_type": "code",
   "execution_count": 7,
   "id": "7200250f-2cfd-4ab4-ab3c-add361b76506",
   "metadata": {},
   "outputs": [
    {
     "name": "stdout",
     "output_type": "stream",
     "text": [
      "{1, 2, 3, 4, 5}\n"
     ]
    }
   ],
   "source": [
    "# Creating a set from a list\n",
    "unique_numbers = set([1, 2, 2, 3, 4, 4, 5])\n",
    "print(unique_numbers)  # {1, 2, 3, 4, 5}"
   ]
  },
  {
   "cell_type": "code",
   "execution_count": 8,
   "id": "578b4bf9-7071-445f-a169-326ee4e4f061",
   "metadata": {},
   "outputs": [],
   "source": [
    "s.add(34)"
   ]
  },
  {
   "cell_type": "code",
   "execution_count": 9,
   "id": "173893ec-dad0-4a52-aa00-e58564264282",
   "metadata": {},
   "outputs": [
    {
     "data": {
      "text/plain": [
       "{2, 3, 4, 6, 34, 66}"
      ]
     },
     "execution_count": 9,
     "metadata": {},
     "output_type": "execute_result"
    }
   ],
   "source": [
    "s"
   ]
  },
  {
   "cell_type": "code",
   "execution_count": 10,
   "id": "6723e085-0628-42d5-b462-5ece19209efa",
   "metadata": {},
   "outputs": [],
   "source": [
    "s.update([4,23,25])"
   ]
  },
  {
   "cell_type": "code",
   "execution_count": 11,
   "id": "38827153-75c9-4219-b480-60427efa36a0",
   "metadata": {},
   "outputs": [
    {
     "data": {
      "text/plain": [
       "{2, 3, 4, 6, 23, 25, 34, 66}"
      ]
     },
     "execution_count": 11,
     "metadata": {},
     "output_type": "execute_result"
    }
   ],
   "source": [
    "s"
   ]
  },
  {
   "cell_type": "code",
   "execution_count": 12,
   "id": "94514340-f85e-4ddf-bcf5-6e92646a3f27",
   "metadata": {},
   "outputs": [],
   "source": [
    "set1 = {1, 2, 3, 4}\n",
    "set2 = {3, 4, 5, 6}"
   ]
  },
  {
   "cell_type": "code",
   "execution_count": 13,
   "id": "e38b87b5-019b-4e6a-8175-d2595216638f",
   "metadata": {},
   "outputs": [
    {
     "data": {
      "text/plain": [
       "{1, 2, 3, 4, 5, 6}"
      ]
     },
     "execution_count": 13,
     "metadata": {},
     "output_type": "execute_result"
    }
   ],
   "source": [
    "set1.union(set2)"
   ]
  },
  {
   "cell_type": "code",
   "execution_count": 14,
   "id": "1f00a500-b70f-4944-bd46-7ba053c1a636",
   "metadata": {},
   "outputs": [
    {
     "data": {
      "text/plain": [
       "{1, 2, 3, 4}"
      ]
     },
     "execution_count": 14,
     "metadata": {},
     "output_type": "execute_result"
    }
   ],
   "source": [
    "set1"
   ]
  },
  {
   "cell_type": "code",
   "execution_count": 15,
   "id": "fb2add4d-99cc-4b00-8727-c2b8d5790094",
   "metadata": {},
   "outputs": [
    {
     "data": {
      "text/plain": [
       "{3, 4, 5, 6}"
      ]
     },
     "execution_count": 15,
     "metadata": {},
     "output_type": "execute_result"
    }
   ],
   "source": [
    "set2"
   ]
  },
  {
   "cell_type": "code",
   "execution_count": 16,
   "id": "37f6a882-63f2-4036-8159-95367d827f65",
   "metadata": {},
   "outputs": [
    {
     "data": {
      "text/plain": [
       "{3, 4}"
      ]
     },
     "execution_count": 16,
     "metadata": {},
     "output_type": "execute_result"
    }
   ],
   "source": [
    "set1.intersection(set2)"
   ]
  },
  {
   "cell_type": "code",
   "execution_count": 17,
   "id": "78f19980-9fc0-403a-8c04-2214d810753d",
   "metadata": {},
   "outputs": [],
   "source": [
    "sub = {1, 3}"
   ]
  },
  {
   "cell_type": "code",
   "execution_count": 18,
   "id": "e085de87-814e-4414-ac3c-e047ddf159fe",
   "metadata": {},
   "outputs": [
    {
     "data": {
      "text/plain": [
       "True"
      ]
     },
     "execution_count": 18,
     "metadata": {},
     "output_type": "execute_result"
    }
   ],
   "source": [
    "sub.issubset(set1)"
   ]
  },
  {
   "cell_type": "code",
   "execution_count": 19,
   "id": "f5cdef76-96b2-4a96-966e-c2b60a91eea7",
   "metadata": {},
   "outputs": [
    {
     "data": {
      "text/plain": [
       "True"
      ]
     },
     "execution_count": 19,
     "metadata": {},
     "output_type": "execute_result"
    }
   ],
   "source": [
    "set1.issuperset(sub)"
   ]
  }
 ],
 "metadata": {
  "kernelspec": {
   "display_name": "Python 3 (ipykernel)",
   "language": "python",
   "name": "python3"
  },
  "language_info": {
   "codemirror_mode": {
    "name": "ipython",
    "version": 3
   },
   "file_extension": ".py",
   "mimetype": "text/x-python",
   "name": "python",
   "nbconvert_exporter": "python",
   "pygments_lexer": "ipython3",
   "version": "3.13.5"
  }
 },
 "nbformat": 4,
 "nbformat_minor": 5
}
