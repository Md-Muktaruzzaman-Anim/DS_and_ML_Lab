{
 "cells": [
  {
   "cell_type": "markdown",
   "id": "048d6d35-651f-4caa-8ec2-4d2e44e2f348",
   "metadata": {},
   "source": [
    "# Python `json` Module – Working with JSON Data\n",
    "\n",
    "## What is JSON?\n",
    "JSON (**JavaScript Object Notation**) is a lightweight data format used for data exchange between servers and applications. It is widely used in **APIs, web applications, and configurations**.\n",
    "\n",
    "Python provides the `json` module to work with JSON data.\n",
    "\n",
    "---\n",
    "\n",
    "## Importing the JSON Module\n",
    "```python\n",
    "import json\n",
    "```\n",
    "\n",
    "---\n",
    "\n",
    "## Converting Python Objects to JSON (Serialization)\n",
    "Serialization (also called **encoding or dumping**) is converting a Python object into a JSON-formatted string.\n",
    "\n",
    "### **`json.dumps()`** – Convert Python object to JSON string\n",
    "```python\n",
    "import json\n",
    "\n",
    "data = {\"name\": \"Alice\", \"age\": 25, \"city\": \"New York\"}\n",
    "\n",
    "json_string = json.dumps(data)\n",
    "print(json_string)  # Output: {\"name\": \"Alice\", \"age\": 25, \"city\": \"New York\"}\n",
    "print(type(json_string))  # <class 'str'>\n",
    "```\n",
    "\n",
    "### **`json.dump()`** – Write JSON data to a file\n",
    "```python\n",
    "with open(\"data.json\", \"w\") as file:\n",
    "    json.dump(data, file)\n",
    "```\n",
    "\n",
    "---\n",
    "\n",
    "## Converting JSON to Python Objects (Deserialization)\n",
    "Deserialization (also called **decoding or loading**) is converting JSON-formatted data into Python objects.\n",
    "\n",
    "### **`json.loads()`** – Convert JSON string to Python object\n",
    "```python\n",
    "json_data = '{\"name\": \"Alice\", \"age\": 25, \"city\": \"New York\"}'\n",
    "\n",
    "python_obj = json.loads(json_data)\n",
    "print(python_obj)  # Output: {'name': 'Alice', 'age': 25, 'city': 'New York'}\n",
    "print(type(python_obj))  # <class 'dict'>\n",
    "```\n",
    "\n",
    "### **`json.load()`** – Read JSON data from a file\n",
    "```python\n",
    "with open(\"data.json\", \"r\") as file:\n",
    "    python_data = json.load(file)\n",
    "\n",
    "print(python_data)  # Output: {'name': 'Alice', 'age': 25, 'city': 'New York'}\n",
    "```\n",
    "\n",
    "---\n",
    "\n",
    "## Formatting JSON Output\n",
    "You can format JSON for better readability using **indentation**.\n",
    "\n",
    "```python\n",
    "formatted_json = json.dumps(data, indent=4)\n",
    "print(formatted_json)\n",
    "```\n",
    "**Output:**\n",
    "```json\n",
    "{\n",
    "    \"name\": \"Alice\",\n",
    "    \"age\": 25,\n",
    "    \"city\": \"New York\"\n",
    "}\n",
    "```\n",
    "\n",
    "---\n",
    "\n",
    "## Summary of Common JSON Methods\n",
    "\n",
    "| Method | Description | Example |\n",
    "|--------|------------|---------|\n",
    "| `json.dumps(obj)` | Converts Python object to JSON string | `json.dumps(data)` |\n",
    "| `json.dump(obj, file)` | Writes JSON to a file | `json.dump(data, file)` |\n",
    "| `json.loads(json_string)` | Converts JSON string to Python object | `json.loads(json_data)` |\n",
    "| `json.load(file)` | Reads JSON from a file | `json.load(file)` |\n",
    "\n",
    "## Why Use Single Quotes\n",
    "\n",
    " json_data = '{\"name\": \"Alice\", \"age\": 25, \"city\": \"New York\"}'  # The outer single quotes ('...') are used by Python to define the string. The double quotes (\"...\") inside the string are what make it valid JSON.\n",
    "\n",
    " ## Why Double Quotes are a Must\n",
    "\n",
    "The JSON specification (RFC 8259) explicitly states that strings must be surrounded by double quotes. This is a fundamental rule of the format, ensuring that JSON data can be consistently parsed across different programming languages and systems. The use of single quotes is not allowed for keys or string values within the JSON object itself."
   ]
  },
  {
   "cell_type": "code",
   "execution_count": 1,
   "id": "727adc12-68cb-411a-9f51-5df25da3cd35",
   "metadata": {},
   "outputs": [],
   "source": [
    "import json"
   ]
  },
  {
   "cell_type": "code",
   "execution_count": 2,
   "id": "f76d0458-f0d4-4b95-b5d8-50ebe1200309",
   "metadata": {},
   "outputs": [
    {
     "name": "stdout",
     "output_type": "stream",
     "text": [
      "<class 'dict'>\n",
      "{\"name\": \"Alice\", \"age\": 25, \"city\": \"New York\"}\n",
      "<class 'str'>\n"
     ]
    }
   ],
   "source": [
    "# Serialization (Python → JSON)\n",
    "\n",
    "data = {\"name\": \"Alice\", \"age\": 25, \"city\": \"New York\"}\n",
    "json_string = json.dumps(data)\n",
    "\n",
    "print(type(data))  # <class 'str'>\n",
    "print(json_string)        # {\"name\": \"Alice\", \"age\": 25, \"city\": \"New York\"}\n",
    "print(type(json_string))  # <class 'str'>"
   ]
  },
  {
   "cell_type": "code",
   "execution_count": 3,
   "id": "093222a2-d7b2-4d0c-80c3-8fbe91cbd94e",
   "metadata": {},
   "outputs": [],
   "source": [
    "with open(\"data.json\", \"w\") as file:\n",
    "    json.dump(data, file)"
   ]
  },
  {
   "cell_type": "code",
   "execution_count": 4,
   "id": "0bfd2efe-7018-45d2-a450-bafe52079d24",
   "metadata": {
    "scrolled": true
   },
   "outputs": [
    {
     "name": "stdout",
     "output_type": "stream",
     "text": [
      "<class 'str'>\n",
      "{'name': 'Alice', 'age': 25, 'city': 'New York'}\n",
      "<class 'dict'>\n"
     ]
    }
   ],
   "source": [
    " # Deserialization (JSON → Python)\n",
    "\n",
    "json_data = '{\"name\": \"Alice\", \"age\": 25, \"city\": \"New York\"}'  # The outer single quotes ('...') are used by Python to define the string. The double quotes (\"...\") inside the string are what make it valid JSON.\n",
    "python_obj = json.loads(json_data)\n",
    "\n",
    "print(type(json_data))  # <class 'str'>\n",
    "print(python_obj)        # {'name': 'Alice', 'age': 25, 'city': 'New York'}\n",
    "print(type(python_obj))  # <class 'dict'>"
   ]
  },
  {
   "cell_type": "code",
   "execution_count": 5,
   "id": "1e14d4a2-8518-44bf-a2ca-361d09c11fbf",
   "metadata": {},
   "outputs": [
    {
     "name": "stdout",
     "output_type": "stream",
     "text": [
      "{'name': 'Alice', 'age': 25, 'city': 'New York'}\n",
      "<class 'dict'>\n"
     ]
    }
   ],
   "source": [
    "with open(\"data.json\", \"r\") as file:\n",
    "    python_data = json.load(file)\n",
    "\n",
    "print(python_data)       # {'name': 'Alice', 'age': 25, 'city': 'New York'}\n",
    "print(type(python_data))"
   ]
  },
  {
   "cell_type": "code",
   "execution_count": 6,
   "id": "34f97748-e370-4bea-99d8-6b7993d8c0af",
   "metadata": {},
   "outputs": [
    {
     "name": "stdout",
     "output_type": "stream",
     "text": [
      "{\n",
      "    \"name\": \"Alice\",\n",
      "    \"age\": 25,\n",
      "    \"city\": \"New York\"\n",
      "}\n"
     ]
    }
   ],
   "source": [
    "formatted_json = json.dumps(data, indent=4)\n",
    "print(formatted_json)"
   ]
  }
 ],
 "metadata": {
  "kernelspec": {
   "display_name": "Python 3 (ipykernel)",
   "language": "python",
   "name": "python3"
  },
  "language_info": {
   "codemirror_mode": {
    "name": "ipython",
    "version": 3
   },
   "file_extension": ".py",
   "mimetype": "text/x-python",
   "name": "python",
   "nbconvert_exporter": "python",
   "pygments_lexer": "ipython3",
   "version": "3.13.5"
  }
 },
 "nbformat": 4,
 "nbformat_minor": 5
}
