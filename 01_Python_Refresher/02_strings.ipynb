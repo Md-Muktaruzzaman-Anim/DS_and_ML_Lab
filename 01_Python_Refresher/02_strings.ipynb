{
 "cells": [
  {
   "cell_type": "code",
   "execution_count": 1,
   "id": "0c2add6f-079a-45df-84c2-f684f7a6f25e",
   "metadata": {},
   "outputs": [
    {
     "data": {
      "text/plain": [
       "' Anim '"
      ]
     },
     "execution_count": 1,
     "metadata": {},
     "output_type": "execute_result"
    }
   ],
   "source": [
    "name = \" Anim \"\n",
    "name"
   ]
  },
  {
   "cell_type": "code",
   "execution_count": 2,
   "id": "0eaf5d0c-a011-4b99-ac64-bdea9a71d51f",
   "metadata": {},
   "outputs": [
    {
     "data": {
      "text/plain": [
       "' ANIM '"
      ]
     },
     "execution_count": 2,
     "metadata": {},
     "output_type": "execute_result"
    }
   ],
   "source": [
    "name.upper()"
   ]
  },
  {
   "cell_type": "code",
   "execution_count": 3,
   "id": "1341f251-e858-464e-86fd-59ef42dadfb8",
   "metadata": {},
   "outputs": [
    {
     "data": {
      "text/plain": [
       "' anim '"
      ]
     },
     "execution_count": 3,
     "metadata": {},
     "output_type": "execute_result"
    }
   ],
   "source": [
    "name.lower()"
   ]
  },
  {
   "cell_type": "code",
   "execution_count": 4,
   "id": "2363271a-444d-4556-9a25-d91385685438",
   "metadata": {},
   "outputs": [
    {
     "data": {
      "text/plain": [
       "'Anim'"
      ]
     },
     "execution_count": 4,
     "metadata": {},
     "output_type": "execute_result"
    }
   ],
   "source": [
    "name.strip()"
   ]
  },
  {
   "cell_type": "code",
   "execution_count": 5,
   "id": "99665ecd-d699-48a2-bac6-b3d6fc97e638",
   "metadata": {},
   "outputs": [
    {
     "data": {
      "text/plain": [
       "'Anim '"
      ]
     },
     "execution_count": 5,
     "metadata": {},
     "output_type": "execute_result"
    }
   ],
   "source": [
    "name.lstrip()"
   ]
  },
  {
   "cell_type": "code",
   "execution_count": 6,
   "id": "78029d9f-2564-4764-b7cc-d53503ffa541",
   "metadata": {},
   "outputs": [
    {
     "data": {
      "text/plain": [
       "' Anim'"
      ]
     },
     "execution_count": 6,
     "metadata": {},
     "output_type": "execute_result"
    }
   ],
   "source": [
    "name.rstrip()"
   ]
  },
  {
   "cell_type": "code",
   "execution_count": 7,
   "id": "ba75149b-00e6-4017-a5ae-91b02e85974d",
   "metadata": {},
   "outputs": [
    {
     "data": {
      "text/plain": [
       "True"
      ]
     },
     "execution_count": 7,
     "metadata": {},
     "output_type": "execute_result"
    }
   ],
   "source": [
    "name.endswith(\"im \")"
   ]
  },
  {
   "cell_type": "code",
   "execution_count": 8,
   "id": "535db8b0-daac-4e69-8107-d32069770966",
   "metadata": {},
   "outputs": [
    {
     "data": {
      "text/plain": [
       "False"
      ]
     },
     "execution_count": 8,
     "metadata": {},
     "output_type": "execute_result"
    }
   ],
   "source": [
    "name.endswith(\" im\")"
   ]
  },
  {
   "cell_type": "code",
   "execution_count": 9,
   "id": "24afbec6-2b2e-4993-81e4-a838df8f7eff",
   "metadata": {},
   "outputs": [],
   "source": [
    "student = \"Muktarr\""
   ]
  },
  {
   "cell_type": "code",
   "execution_count": 10,
   "id": "9ba35303-3380-474f-98e4-9d0a8d337e99",
   "metadata": {},
   "outputs": [
    {
     "data": {
      "text/plain": [
       "1"
      ]
     },
     "execution_count": 10,
     "metadata": {},
     "output_type": "execute_result"
    }
   ],
   "source": [
    "student.count(\"M\")"
   ]
  },
  {
   "cell_type": "code",
   "execution_count": 11,
   "id": "d69f4c63-0d25-4026-b3dd-a397404baccb",
   "metadata": {},
   "outputs": [
    {
     "data": {
      "text/plain": [
       "2"
      ]
     },
     "execution_count": 11,
     "metadata": {},
     "output_type": "execute_result"
    }
   ],
   "source": [
    "student.count(\"r\")"
   ]
  },
  {
   "cell_type": "code",
   "execution_count": 12,
   "id": "a9f0c5a9-bf92-4053-9760-b57740bfd497",
   "metadata": {},
   "outputs": [
    {
     "data": {
      "text/plain": [
       "7"
      ]
     },
     "execution_count": 12,
     "metadata": {},
     "output_type": "execute_result"
    }
   ],
   "source": [
    "len(student)"
   ]
  },
  {
   "cell_type": "code",
   "execution_count": 13,
   "id": "856dd9c3-719f-420f-aedf-d79670c534fd",
   "metadata": {},
   "outputs": [],
   "source": [
    "greet = (\"Hello World!\")"
   ]
  },
  {
   "cell_type": "code",
   "execution_count": 14,
   "id": "e2667a29-e9cb-4a6f-beda-eb399ad2be2c",
   "metadata": {},
   "outputs": [
    {
     "data": {
      "text/plain": [
       "'Hello Python!'"
      ]
     },
     "execution_count": 14,
     "metadata": {},
     "output_type": "execute_result"
    }
   ],
   "source": [
    "greet.replace(\"World\", \"Python\")"
   ]
  },
  {
   "cell_type": "code",
   "execution_count": 15,
   "id": "f9d2fdd9-31fb-4bbb-99b1-56eaa1bad3dd",
   "metadata": {},
   "outputs": [
    {
     "data": {
      "text/plain": [
       "['1', '2', '3', '4', '5']"
      ]
     },
     "execution_count": 15,
     "metadata": {},
     "output_type": "execute_result"
    }
   ],
   "source": [
    "s = \"1,2,3,4,5\"\n",
    "s.split(\",\")"
   ]
  },
  {
   "cell_type": "code",
   "execution_count": 16,
   "id": "b7df17e2-a00f-4998-a48c-67afac2171b5",
   "metadata": {},
   "outputs": [
    {
     "data": {
      "text/plain": [
       "3"
      ]
     },
     "execution_count": 16,
     "metadata": {},
     "output_type": "execute_result"
    }
   ],
   "source": [
    "fruit = \"Apple\"\n",
    "fruit.find(\"l\")"
   ]
  },
  {
   "cell_type": "code",
   "execution_count": 17,
   "id": "6aed4faa-f7b8-4282-b39f-5b6742614cf5",
   "metadata": {},
   "outputs": [
    {
     "data": {
      "text/plain": [
       "'Mukta'"
      ]
     },
     "execution_count": 17,
     "metadata": {},
     "output_type": "execute_result"
    }
   ],
   "source": [
    "full_name = \"Muktar Anim\"\n",
    "full_name[0:5]"
   ]
  },
  {
   "cell_type": "code",
   "execution_count": 18,
   "id": "863409a9-3316-4acf-ae19-b650d021d83a",
   "metadata": {},
   "outputs": [
    {
     "data": {
      "text/plain": [
       "'uktar Ani'"
      ]
     },
     "execution_count": 18,
     "metadata": {},
     "output_type": "execute_result"
    }
   ],
   "source": [
    "full_name[-10:-1]"
   ]
  },
  {
   "cell_type": "code",
   "execution_count": 19,
   "id": "e8991617-0ec8-4525-b194-49c6ee39c6bb",
   "metadata": {},
   "outputs": [
    {
     "data": {
      "text/plain": [
       "'uktar Ani'"
      ]
     },
     "execution_count": 19,
     "metadata": {},
     "output_type": "execute_result"
    }
   ],
   "source": [
    "full_name[1:10]"
   ]
  }
 ],
 "metadata": {
  "kernelspec": {
   "display_name": "Python 3 (ipykernel)",
   "language": "python",
   "name": "python3"
  },
  "language_info": {
   "codemirror_mode": {
    "name": "ipython",
    "version": 3
   },
   "file_extension": ".py",
   "mimetype": "text/x-python",
   "name": "python",
   "nbconvert_exporter": "python",
   "pygments_lexer": "ipython3",
   "version": "3.13.5"
  }
 },
 "nbformat": 4,
 "nbformat_minor": 5
}
