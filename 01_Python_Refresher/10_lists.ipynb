{
 "cells": [
  {
   "cell_type": "markdown",
   "id": "a1f0c91d-2265-4de9-b231-ef0d1f5cce5e",
   "metadata": {},
   "source": [
    "# Python Lists and List Methods\n",
    "\n",
    "## What is a List?\n",
    "A **list** in Python is an ordered, mutable collection of elements. It can contain elements of different types.\n",
    "\n",
    "### Creating a List:\n",
    "```python\n",
    "# Empty list\n",
    "my_list = []\n",
    "\n",
    "# List with elements\n",
    "numbers = [1, 2, 3, 4, 5]\n",
    "\n",
    "# Mixed data types\n",
    "mixed_list = [1, \"Hello\", 3.14, True]\n",
    "```\n",
    "\n",
    "## Common List Methods\n",
    "\n",
    "| Method | Description | Example |\n",
    "|--------|------------|---------|\n",
    "| `append(x)` | Adds an element `x` to the end of the list. | `my_list.append(10)` |\n",
    "| `extend(iterable)` | Extends the list by appending all elements from an iterable. | `my_list.extend([6, 7, 8])` |\n",
    "| `insert(index, x)` | Inserts `x` at the specified `index`. | `my_list.insert(2, \"Python\")` |\n",
    "| `remove(x)` | Removes the first occurrence of `x` in the list. | `my_list.remove(3)` |\n",
    "| `pop([index])` | Removes and returns the element at `index` (last element if index is not provided). | `my_list.pop(2)` |\n",
    "| `index(x)` | Returns the index of the first occurrence of `x`. | `my_list.index(4)` |\n",
    "| `count(x)` | Returns the number of times `x` appears in the list. | `my_list.count(2)` |\n",
    "| `sort()` | Sorts the list in ascending order. | `my_list.sort()` |\n",
    "| `reverse()` | Reverses the order of the list. | `my_list.reverse()` |\n",
    "| `copy()` | Returns a shallow copy of the list. | `new_list = my_list.copy()` |\n",
    "| `clear()` | Removes all elements from the list. | `my_list.clear()` |\n",
    "\n",
    "## Example Usage:\n",
    "```python\n",
    "fruits = [\"apple\", \"banana\", \"cherry\"]\n",
    "fruits.append(\"orange\")\n",
    "print(fruits)  # ['apple', 'banana', 'cherry', 'orange']\n",
    "\n",
    "fruits.sort()\n",
    "print(fruits)  # ['apple', 'banana', 'cherry', 'orange']\n",
    "```\n",
    "\n",
    " "
   ]
  },
  {
   "cell_type": "code",
   "execution_count": 1,
   "id": "10824e55-6a2a-4970-a5fd-24e9a02ec16f",
   "metadata": {},
   "outputs": [],
   "source": [
    "l = [2,4,6,8,10,11]"
   ]
  },
  {
   "cell_type": "code",
   "execution_count": 2,
   "id": "513c5299-bd27-45b6-972c-b6775c506e81",
   "metadata": {},
   "outputs": [
    {
     "data": {
      "text/plain": [
       "11"
      ]
     },
     "execution_count": 2,
     "metadata": {},
     "output_type": "execute_result"
    }
   ],
   "source": [
    "l[5]"
   ]
  },
  {
   "cell_type": "code",
   "execution_count": 3,
   "id": "2a101e3a-cf13-4f4a-9f22-33d40ddc0a45",
   "metadata": {},
   "outputs": [],
   "source": [
    "l[0] = 1"
   ]
  },
  {
   "cell_type": "code",
   "execution_count": 4,
   "id": "56b3a8f6-5f65-435b-9977-c364145d8091",
   "metadata": {},
   "outputs": [
    {
     "data": {
      "text/plain": [
       "[1, 4, 6, 8, 10, 11]"
      ]
     },
     "execution_count": 4,
     "metadata": {},
     "output_type": "execute_result"
    }
   ],
   "source": [
    "l"
   ]
  },
  {
   "cell_type": "code",
   "execution_count": 5,
   "id": "8d37bac6-14b3-49d3-9a8f-d1bdef03e717",
   "metadata": {},
   "outputs": [],
   "source": [
    "l.append(9)"
   ]
  },
  {
   "cell_type": "code",
   "execution_count": 6,
   "id": "44019aaf-f039-4a4c-aaf1-4824aa7ba259",
   "metadata": {},
   "outputs": [
    {
     "data": {
      "text/plain": [
       "[1, 4, 6, 8, 10, 11, 9]"
      ]
     },
     "execution_count": 6,
     "metadata": {},
     "output_type": "execute_result"
    }
   ],
   "source": [
    "l"
   ]
  },
  {
   "cell_type": "code",
   "execution_count": 7,
   "id": "c3375fb3-c71e-423a-b221-7d836f1790b1",
   "metadata": {},
   "outputs": [],
   "source": [
    "l2 = [7,23]"
   ]
  },
  {
   "cell_type": "code",
   "execution_count": 8,
   "id": "ed760b75-a1da-4e10-bd92-c9671f1edf29",
   "metadata": {},
   "outputs": [],
   "source": [
    "l.extend(l2)"
   ]
  },
  {
   "cell_type": "code",
   "execution_count": 9,
   "id": "da66e6a0-ea79-4561-94e6-1f3135dae8d1",
   "metadata": {},
   "outputs": [
    {
     "data": {
      "text/plain": [
       "[1, 4, 6, 8, 10, 11, 9, 7, 23]"
      ]
     },
     "execution_count": 9,
     "metadata": {},
     "output_type": "execute_result"
    }
   ],
   "source": [
    "l"
   ]
  },
  {
   "cell_type": "code",
   "execution_count": 10,
   "id": "092ab8cd-42ea-48c1-ad27-42d91529f6ac",
   "metadata": {},
   "outputs": [],
   "source": [
    "l.insert(1, 200) # Insert 200 at index 1"
   ]
  },
  {
   "cell_type": "code",
   "execution_count": 11,
   "id": "28dc8133-65d0-4bd9-b5f9-00e9f9eb60b1",
   "metadata": {},
   "outputs": [
    {
     "data": {
      "text/plain": [
       "[1, 200, 4, 6, 8, 10, 11, 9, 7, 23]"
      ]
     },
     "execution_count": 11,
     "metadata": {},
     "output_type": "execute_result"
    }
   ],
   "source": [
    "l"
   ]
  },
  {
   "cell_type": "code",
   "execution_count": 12,
   "id": "d8c9c13b-3583-4d2b-955e-57f1a0e1f2c0",
   "metadata": {},
   "outputs": [],
   "source": [
    "number = l.pop(4)"
   ]
  },
  {
   "cell_type": "code",
   "execution_count": 13,
   "id": "3dddf260-46a6-476f-8a49-6e051cda65a1",
   "metadata": {},
   "outputs": [
    {
     "data": {
      "text/plain": [
       "8"
      ]
     },
     "execution_count": 13,
     "metadata": {},
     "output_type": "execute_result"
    }
   ],
   "source": [
    "number"
   ]
  },
  {
   "cell_type": "code",
   "execution_count": 14,
   "id": "5081cc49-cbfa-47b0-8beb-4ad296ef9f24",
   "metadata": {},
   "outputs": [
    {
     "data": {
      "text/plain": [
       "[1, 200, 4, 6, 10, 11, 9, 7, 23]"
      ]
     },
     "execution_count": 14,
     "metadata": {},
     "output_type": "execute_result"
    }
   ],
   "source": [
    "l"
   ]
  },
  {
   "cell_type": "code",
   "execution_count": 15,
   "id": "10a2b451-ef9d-43d0-9f84-b4e4b7ecb9d4",
   "metadata": {},
   "outputs": [
    {
     "data": {
      "text/plain": [
       "2"
      ]
     },
     "execution_count": 15,
     "metadata": {},
     "output_type": "execute_result"
    }
   ],
   "source": [
    "l.index(4) # 4 is in 2 index"
   ]
  },
  {
   "cell_type": "code",
   "execution_count": 16,
   "id": "9a6c9ca5-1e71-450c-b31f-523761239c50",
   "metadata": {},
   "outputs": [
    {
     "data": {
      "text/plain": [
       "8"
      ]
     },
     "execution_count": 16,
     "metadata": {},
     "output_type": "execute_result"
    }
   ],
   "source": [
    "l.index(23)"
   ]
  },
  {
   "cell_type": "code",
   "execution_count": 17,
   "id": "5d44491f-e460-4f25-8c6a-268a4f898741",
   "metadata": {},
   "outputs": [],
   "source": [
    "l.append(4)"
   ]
  },
  {
   "cell_type": "code",
   "execution_count": 18,
   "id": "ef9524b9-248d-4008-a727-865a4eb4495d",
   "metadata": {},
   "outputs": [
    {
     "data": {
      "text/plain": [
       "[1, 200, 4, 6, 10, 11, 9, 7, 23, 4]"
      ]
     },
     "execution_count": 18,
     "metadata": {},
     "output_type": "execute_result"
    }
   ],
   "source": [
    "l"
   ]
  },
  {
   "cell_type": "code",
   "execution_count": 19,
   "id": "a30d7590-ca1b-4e63-9c47-b3726cd7beec",
   "metadata": {},
   "outputs": [
    {
     "data": {
      "text/plain": [
       "2"
      ]
     },
     "execution_count": 19,
     "metadata": {},
     "output_type": "execute_result"
    }
   ],
   "source": [
    "l.count(4)"
   ]
  },
  {
   "cell_type": "code",
   "execution_count": 20,
   "id": "84e97b50-760a-43e6-b3c5-159088d579c2",
   "metadata": {},
   "outputs": [],
   "source": [
    "l.sort() # changes and sorts the original list in ascending order"
   ]
  },
  {
   "cell_type": "code",
   "execution_count": 21,
   "id": "06f1856b-f8bc-4462-bc08-195abce172f0",
   "metadata": {},
   "outputs": [
    {
     "data": {
      "text/plain": [
       "[1, 4, 4, 6, 7, 9, 10, 11, 23, 200]"
      ]
     },
     "execution_count": 21,
     "metadata": {},
     "output_type": "execute_result"
    }
   ],
   "source": [
    "l"
   ]
  },
  {
   "cell_type": "code",
   "execution_count": 22,
   "id": "57d0e2a1-8601-420c-9b78-4fe9551e9036",
   "metadata": {},
   "outputs": [
    {
     "data": {
      "text/plain": [
       "[1, 4, 4, 6, 7, 9, 10, 11, 23, 200]"
      ]
     },
     "execution_count": 22,
     "metadata": {},
     "output_type": "execute_result"
    }
   ],
   "source": [
    "sorted(l)"
   ]
  },
  {
   "cell_type": "code",
   "execution_count": 23,
   "id": "0e0aab60-cfc6-487c-9719-ad7267f39a8f",
   "metadata": {},
   "outputs": [],
   "source": [
    "newl = [2, 6, 1, 21, 6]"
   ]
  },
  {
   "cell_type": "code",
   "execution_count": 24,
   "id": "2cc103fe-6a24-4341-b1b2-e27502e58997",
   "metadata": {},
   "outputs": [
    {
     "data": {
      "text/plain": [
       "[1, 2, 6, 6, 21]"
      ]
     },
     "execution_count": 24,
     "metadata": {},
     "output_type": "execute_result"
    }
   ],
   "source": [
    "sorted(newl) # Returns a new list which is sorted version of the original list"
   ]
  },
  {
   "cell_type": "code",
   "execution_count": 25,
   "id": "47135b20-4849-47dd-b830-1d602a220f27",
   "metadata": {},
   "outputs": [
    {
     "data": {
      "text/plain": [
       "[2, 6, 1, 21, 6]"
      ]
     },
     "execution_count": 25,
     "metadata": {},
     "output_type": "execute_result"
    }
   ],
   "source": [
    "newl"
   ]
  },
  {
   "cell_type": "code",
   "execution_count": 26,
   "id": "18650dc5-be0b-4673-b1ac-23b2540e6c99",
   "metadata": {},
   "outputs": [],
   "source": [
    "y = [1, 2, True, False, [4, 7]]"
   ]
  },
  {
   "cell_type": "code",
   "execution_count": 27,
   "id": "4a1e8300-691a-4d8e-8be5-0dfa6221c1db",
   "metadata": {},
   "outputs": [
    {
     "data": {
      "text/plain": [
       "[1, 2, True, False, [4, 7]]"
      ]
     },
     "execution_count": 27,
     "metadata": {},
     "output_type": "execute_result"
    }
   ],
   "source": [
    "y"
   ]
  },
  {
   "cell_type": "code",
   "execution_count": 28,
   "id": "44586e3e-6c40-404a-89b8-092aeccaea7b",
   "metadata": {},
   "outputs": [
    {
     "data": {
      "text/plain": [
       "[4, 7]"
      ]
     },
     "execution_count": 28,
     "metadata": {},
     "output_type": "execute_result"
    }
   ],
   "source": [
    "y[4]"
   ]
  },
  {
   "cell_type": "code",
   "execution_count": 29,
   "id": "cf11e711-d6ba-4d33-8992-412adacb2cfa",
   "metadata": {},
   "outputs": [
    {
     "data": {
      "text/plain": [
       "4"
      ]
     },
     "execution_count": 29,
     "metadata": {},
     "output_type": "execute_result"
    }
   ],
   "source": [
    "y[4][0]"
   ]
  },
  {
   "cell_type": "code",
   "execution_count": 30,
   "id": "1cd8258f-239e-448c-88a1-39d8ba115f0c",
   "metadata": {},
   "outputs": [
    {
     "data": {
      "text/plain": [
       "7"
      ]
     },
     "execution_count": 30,
     "metadata": {},
     "output_type": "execute_result"
    }
   ],
   "source": [
    "y[4][1]"
   ]
  },
  {
   "cell_type": "code",
   "execution_count": 31,
   "id": "2e6635a3-7e95-4067-b2b3-a7380461a8e9",
   "metadata": {},
   "outputs": [],
   "source": [
    "list1 = [4, 32, 12]"
   ]
  },
  {
   "cell_type": "code",
   "execution_count": 32,
   "id": "088d6272-394e-46a4-a9b3-64126e9c9f76",
   "metadata": {},
   "outputs": [],
   "source": [
    "list2 = [3, 1, 8]"
   ]
  },
  {
   "cell_type": "code",
   "execution_count": 33,
   "id": "d491057a-92f1-4cf5-9d74-5dd174050a28",
   "metadata": {},
   "outputs": [
    {
     "data": {
      "text/plain": [
       "[4, 32, 12, 3, 1, 8]"
      ]
     },
     "execution_count": 33,
     "metadata": {},
     "output_type": "execute_result"
    }
   ],
   "source": [
    "list1 + list2"
   ]
  },
  {
   "cell_type": "code",
   "execution_count": 34,
   "id": "2d504fa3-3cac-46a7-83d5-a2a417cb23a1",
   "metadata": {},
   "outputs": [
    {
     "data": {
      "text/plain": [
       "[4, 32, 12]"
      ]
     },
     "execution_count": 34,
     "metadata": {},
     "output_type": "execute_result"
    }
   ],
   "source": [
    "list1"
   ]
  },
  {
   "cell_type": "code",
   "execution_count": 35,
   "id": "5c26c0e8-c86f-43ee-a09e-ffd54b0c74db",
   "metadata": {},
   "outputs": [
    {
     "data": {
      "text/plain": [
       "[3, 1, 8]"
      ]
     },
     "execution_count": 35,
     "metadata": {},
     "output_type": "execute_result"
    }
   ],
   "source": [
    "list2"
   ]
  },
  {
   "cell_type": "code",
   "execution_count": 36,
   "id": "3f755e87-b6f4-4774-bd30-482a5e42d908",
   "metadata": {},
   "outputs": [
    {
     "name": "stdout",
     "output_type": "stream",
     "text": [
      "Yes\n"
     ]
    }
   ],
   "source": [
    "if 3 in list2:\n",
    "    print(\"Yes\")"
   ]
  },
  {
   "cell_type": "code",
   "execution_count": 37,
   "id": "e6b99547-31bb-4288-a682-b564944c936a",
   "metadata": {},
   "outputs": [],
   "source": [
    "if 33 in list2:\n",
    "    print(\"Yes\")"
   ]
  },
  {
   "cell_type": "code",
   "execution_count": 38,
   "id": "9b3e9afb-bc6e-43f3-a37b-5044f592ac55",
   "metadata": {},
   "outputs": [
    {
     "data": {
      "text/plain": [
       "True"
      ]
     },
     "execution_count": 38,
     "metadata": {},
     "output_type": "execute_result"
    }
   ],
   "source": [
    "3 in list2"
   ]
  },
  {
   "cell_type": "code",
   "execution_count": 39,
   "id": "08b0f2e8-cf2d-4d3e-aa24-935673897dfb",
   "metadata": {},
   "outputs": [
    {
     "data": {
      "text/plain": [
       "False"
      ]
     },
     "execution_count": 39,
     "metadata": {},
     "output_type": "execute_result"
    }
   ],
   "source": [
    "33 in list2"
   ]
  },
  {
   "cell_type": "code",
   "execution_count": 40,
   "id": "5ae055cb-c6d6-4585-9eb9-8d37e4afe144",
   "metadata": {},
   "outputs": [],
   "source": [
    "s = \"jack-jill-shubham-kirti-javed-salman-akshay\""
   ]
  },
  {
   "cell_type": "code",
   "execution_count": 41,
   "id": "a7e85972-274f-436d-8d3c-0c39ef64e0fe",
   "metadata": {},
   "outputs": [
    {
     "data": {
      "text/plain": [
       "['jack', 'jill', 'shubham', 'kirti', 'javed', 'salman', 'akshay']"
      ]
     },
     "execution_count": 41,
     "metadata": {},
     "output_type": "execute_result"
    }
   ],
   "source": [
    "s.split(\"-\")"
   ]
  }
 ],
 "metadata": {
  "kernelspec": {
   "display_name": "Python 3 (ipykernel)",
   "language": "python",
   "name": "python3"
  },
  "language_info": {
   "codemirror_mode": {
    "name": "ipython",
    "version": 3
   },
   "file_extension": ".py",
   "mimetype": "text/x-python",
   "name": "python",
   "nbconvert_exporter": "python",
   "pygments_lexer": "ipython3",
   "version": "3.13.5"
  }
 },
 "nbformat": 4,
 "nbformat_minor": 5
}
