{
 "cells": [
  {
   "cell_type": "markdown",
   "id": "5ac94438-ec36-4c75-a952-d56a3db75c19",
   "metadata": {},
   "source": [
    "# String Formatting in Python\n",
    "\n",
    "String is arguably the most used immutable data types in Python. Python provides multiple ways to format strings, including the `format()` method and f-strings (introduced in Python 3.6).\n",
    "\n",
    "## 1. Using `format()`\n",
    "\n",
    "```python\n",
    "name = \"Alice\"\n",
    "age = 25\n",
    "print(\"My name is {} and I am {} years old.\".format(name, age))\n",
    "# Output: My name is Alice and I am 25 years old.\n",
    "```\n",
    "\n",
    "### Positional and Keyword Arguments\n",
    "\n",
    "```python\n",
    "print(\"{0} is learning {1}\".format(\"Alice\", \"Python\"))  # Using positions\n",
    "print(\"{name} is learning {language}\".format(name=\"Alice\", language=\"Python\"))\n",
    "```\n",
    "\n",
    "## 2. Using f-Strings (Recommended)\n",
    "\n",
    "F-strings provide a cleaner and more readable way to format strings.\n",
    "\n",
    "```python\n",
    "name = \"Alice\"\n",
    "age = 25\n",
    "print(f\"My name is {name} and I am {age} years old.\")\n",
    "# Output: My name is Alice and I am 25 years old.\n",
    "```\n",
    "\n",
    "### Expressions Inside f-Strings\n",
    "\n",
    "```python\n",
    "a = 5\n",
    "b = 10\n",
    "print(f\"Sum of {a} and {b} is {a + b}\")\n",
    "# Output: Sum of 5 and 10 is 15\n",
    "```\n",
    "\n",
    "### Formatting Numbers\n",
    "\n",
    "```python\n",
    "pi = 3.14159\n",
    "print(f\"Pi rounded to 2 decimal places: {pi:.2f}\")\n",
    "# Output: Pi rounded to 2 decimal places: 3.14\n",
    "```\n",
    "\n",
    "### Padding and Alignment\n",
    "\n",
    "```python\n",
    "print(f\"{'Python':<10}\")  # Left-align\n",
    "print(f\"{'Python':>10}\")  # Right-align\n",
    "print(f\"{'Python':^10}\")  # Center-align\n",
    "```\n",
    "```:<10 → The < symbol means left-align the text within a total width of 10 characters.```\n",
    "\n",
    "F-strings are the most efficient and recommended way to format strings in modern Python!\n",
    " "
   ]
  },
  {
   "cell_type": "code",
   "execution_count": 1,
   "id": "d2a720ce-c7cb-4078-98f4-3a37490cb61a",
   "metadata": {},
   "outputs": [],
   "source": [
    "s = \"Harry\""
   ]
  },
  {
   "cell_type": "code",
   "execution_count": 2,
   "id": "1039bda0-280d-4a28-a337-4877acc749fc",
   "metadata": {},
   "outputs": [
    {
     "data": {
      "text/plain": [
       "'HARRY'"
      ]
     },
     "execution_count": 2,
     "metadata": {},
     "output_type": "execute_result"
    }
   ],
   "source": [
    "s.upper()"
   ]
  },
  {
   "cell_type": "code",
   "execution_count": 3,
   "id": "6a377cb1-41a0-45ef-b738-c753ceceb0b2",
   "metadata": {},
   "outputs": [
    {
     "data": {
      "text/plain": [
       "'Harry'"
      ]
     },
     "execution_count": 3,
     "metadata": {},
     "output_type": "execute_result"
    }
   ],
   "source": [
    "s"
   ]
  },
  {
   "cell_type": "code",
   "execution_count": 4,
   "id": "f0724714-1238-46f7-a2ed-b43d4abd71af",
   "metadata": {},
   "outputs": [
    {
     "name": "stdout",
     "output_type": "stream",
     "text": [
      "My name is John and I am 55 years old.\n"
     ]
    }
   ],
   "source": [
    "name = \"John\"\n",
    "age = 55\n",
    "print(\"My name is {} and I am {} years old.\".format(name, age))"
   ]
  },
  {
   "cell_type": "code",
   "execution_count": 5,
   "id": "356c9a2b-89a3-41f5-83dd-d55b92ebc97e",
   "metadata": {},
   "outputs": [
    {
     "name": "stdout",
     "output_type": "stream",
     "text": [
      "My name is John and I am 55 years old.\n"
     ]
    }
   ],
   "source": [
    "print(f\"My name is {name} and I am {age} years old.\")"
   ]
  },
  {
   "cell_type": "code",
   "execution_count": 6,
   "id": "ff9a9fb8-d4b7-401e-87d4-a962c0af20d3",
   "metadata": {},
   "outputs": [
    {
     "name": "stdout",
     "output_type": "stream",
     "text": [
      "Python    \n"
     ]
    }
   ],
   "source": [
    "print(f\"{'Python':<10}\")"
   ]
  },
  {
   "cell_type": "code",
   "execution_count": 7,
   "id": "8a8327a9-4288-4132-8a26-ad261013ded7",
   "metadata": {},
   "outputs": [
    {
     "name": "stdout",
     "output_type": "stream",
     "text": [
      "Python    \n",
      "    Python\n",
      "  Python  \n"
     ]
    }
   ],
   "source": [
    "print(f\"{'Python':<10}\")  # Left-align\n",
    "print(f\"{'Python':>10}\")  # Right-align\n",
    "print(f\"{'Python':^10}\")  # Center-align"
   ]
  },
  {
   "cell_type": "code",
   "execution_count": 8,
   "id": "afb399e6-f5d1-43d5-988b-ae63f591a256",
   "metadata": {},
   "outputs": [
    {
     "name": "stdout",
     "output_type": "stream",
     "text": [
      "Pi rounded to 2 decimal places: 3.14\n"
     ]
    }
   ],
   "source": [
    "pi = 3.14159\n",
    "print(f\"Pi rounded to 2 decimal places: {pi:.2f}\")"
   ]
  }
 ],
 "metadata": {
  "kernelspec": {
   "display_name": "Python 3 (ipykernel)",
   "language": "python",
   "name": "python3"
  },
  "language_info": {
   "codemirror_mode": {
    "name": "ipython",
    "version": 3
   },
   "file_extension": ".py",
   "mimetype": "text/x-python",
   "name": "python",
   "nbconvert_exporter": "python",
   "pygments_lexer": "ipython3",
   "version": "3.13.5"
  }
 },
 "nbformat": 4,
 "nbformat_minor": 5
}
