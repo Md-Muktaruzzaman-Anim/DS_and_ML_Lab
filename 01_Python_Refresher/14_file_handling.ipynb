{
 "cells": [
  {
   "cell_type": "markdown",
   "id": "558f3990-70e5-4c46-b39c-5ec60065056d",
   "metadata": {},
   "source": [
    "# File Handling in Python\n",
    "\n",
    "File handling allows Python programs to **read, write, and manipulate files** stored on disk. Python provides built-in functions for working with files.\n",
    "\n",
    "---\n",
    "\n",
    "## Opening a File\n",
    "Python uses the `open()` function to open a file.\n",
    "\n",
    "### **Syntax**\n",
    "```python\n",
    "file = open(\"filename\", mode)\n",
    "```\n",
    "- **`filename`** → The name of the file to open.\n",
    "- **`mode`** → Specifies how the file should be opened.\n",
    "\n",
    "### **File Modes**\n",
    "| Mode | Description |\n",
    "|------|-------------|\n",
    "| `'r'` | Read (default) – Opens file for reading, **raises an error if file does not exist**. |\n",
    "| `'w'` | Write – Opens file for writing, **creates a new file if not found**, and **overwrites existing content**. |\n",
    "| `'a'` | Append – Opens file for writing, **creates a new file if not found**, and appends content instead of overwriting. |\n",
    "| `'x'` | Create – Creates a new file, but **fails if the file already exists**. |\n",
    "| `'b'` | Binary mode – Used with `rb`, `wb`, `ab`, etc., for working with non-text files (e.g., images, PDFs). |\n",
    "| `'t'` | Text mode (default) – Used for text files (e.g., `rt`, `wt`). |\n",
    "\n",
    "---\n",
    "\n",
    "## Reading Files\n",
    "\n",
    "### **Using `read()` – Read Entire File**\n",
    "```python\n",
    "file = open(\"example.txt\", \"r\")\n",
    "content = file.read()\n",
    "print(content)\n",
    "file.close()  # Always close the file after use\n",
    "```\n",
    "\n",
    "### **Using `readline()` – Read Line by Line**\n",
    "```python\n",
    "file = open(\"example.txt\", \"r\")\n",
    "line1 = file.readline()  # Reads first line\n",
    "print(line1)\n",
    "file.close()\n",
    "```\n",
    "\n",
    "### **Using `readlines()` – Read All Lines as List**\n",
    "```python\n",
    "file = open(\"example.txt\", \"r\")\n",
    "lines = file.readlines()  # Reads all lines into a list\n",
    "print(lines)\n",
    "file.close()\n",
    "```\n",
    "\n",
    "---\n",
    "\n",
    "## Writing to Files\n",
    "\n",
    "### **Using `write()` – Overwrites Existing Content**\n",
    "```python\n",
    "file = open(\"example.txt\", \"w\")  # Opens file in write mode\n",
    "file.write(\"Hello, World!\")  # Writes content\n",
    "file.close()\n",
    "```\n",
    "\n",
    "### **Using `writelines()` – Write Multiple Lines**\n",
    "```python\n",
    "lines = [\"Hello\\n\", \"Welcome to Python\\n\", \"File Handling\\n\"]\n",
    "\n",
    "file = open(\"example.txt\", \"w\")\n",
    "file.writelines(lines)  # Writes multiple lines\n",
    "file.close()\n",
    "```\n",
    "\n",
    "---\n",
    "\n",
    "## Appending to a File\n",
    "The **`a` (append) mode** is used to add content to an existing file without erasing previous data.\n",
    "\n",
    "```python\n",
    "file = open(\"example.txt\", \"a\")\n",
    "file.write(\"\\nThis is an additional line.\")\n",
    "file.close()\n",
    "```\n",
    "\n",
    "---\n",
    "\n",
    "## Using `with` Statement (Best Practice)\n",
    "Using `with open()` ensures the file is **automatically closed** after execution.\n",
    "\n",
    "```python\n",
    "with open(\"example.txt\", \"r\") as file:\n",
    "    content = file.read()\n",
    "    print(content)  # No need to manually close the file\n",
    "```\n",
    "\n",
    "---\n",
    "\n",
    "## Checking if a File Exists\n",
    "Use the `os` module to check if a file exists before opening it.\n",
    "\n",
    "```python\n",
    "import os\n",
    "\n",
    "if os.path.exists(\"example.txt\"):\n",
    "    print(\"File exists!\")\n",
    "else:\n",
    "    print(\"File not found!\")\n",
    "```\n",
    "\n",
    "---\n",
    "\n",
    "## Deleting a File\n",
    "Use the `os` module to delete a file.\n",
    "\n",
    "```python\n",
    "import os\n",
    "\n",
    "if os.path.exists(\"example.txt\"):\n",
    "    os.remove(\"example.txt\")\n",
    "    print(\"File deleted.\")\n",
    "else:\n",
    "    print(\"File does not exist.\")\n",
    "```\n",
    "\n",
    "---\n",
    "\n",
    "## Working with Binary Files\n",
    "Binary files (`.jpg`, `.png`, `.pdf`, etc.) should be opened in **binary mode (`'b'`)**.\n",
    "\n",
    "### **Reading a Binary File**\n",
    "```python\n",
    "with open(\"image.jpg\", \"rb\") as file:\n",
    "    data = file.read()\n",
    "    print(data)  # Outputs binary content\n",
    "```\n",
    "\n",
    "### **Writing to a Binary File**\n",
    "```python\n",
    "with open(\"new_image.jpg\", \"wb\") as file:\n",
    "    file.write(data)  # Writes binary content to a new file\n",
    "```\n",
    "\n",
    "---\n",
    "\n",
    "## Summary of File Operations\n",
    "\n",
    "| Operation | Description | Example |\n",
    "|-----------|-------------|---------|\n",
    "| Open file | Open a file | `file = open(\"example.txt\", \"r\")` |\n",
    "| Read file | Read all content | `file.read()` |\n",
    "| Read line | Read one line | `file.readline()` |\n",
    "| Read lines | Read all lines into list | `file.readlines()` |\n",
    "| Write file | Write content (overwrite) | `file.write(\"Hello\")` |\n",
    "| Append file | Add content to the end | `file.write(\"\\nMore text\")` |\n",
    "| Check file existence | Check before opening/deleting | `os.path.exists(\"file.txt\")` |\n",
    "| Delete file | Remove a file | `os.remove(\"file.txt\")` |\n",
    "\n",
    " "
   ]
  },
  {
   "cell_type": "code",
   "execution_count": 1,
   "id": "3bd07517-f5bd-416f-8ee1-924deb8b9835",
   "metadata": {},
   "outputs": [],
   "source": [
    "f = open(\"text.txt\", \"r\")"
   ]
  },
  {
   "cell_type": "code",
   "execution_count": 2,
   "id": "7a8fb9e9-a752-4f03-ad50-4f3c993e618c",
   "metadata": {},
   "outputs": [
    {
     "data": {
      "text/plain": [
       "'Anim is a good boy.'"
      ]
     },
     "execution_count": 2,
     "metadata": {},
     "output_type": "execute_result"
    }
   ],
   "source": [
    "f.read()"
   ]
  },
  {
   "cell_type": "code",
   "execution_count": 3,
   "id": "2458922c-7f22-4909-bf72-50e9628fbd98",
   "metadata": {},
   "outputs": [],
   "source": [
    "s = \"This is a nice way to learn Data Science\""
   ]
  },
  {
   "cell_type": "code",
   "execution_count": 4,
   "id": "3d5f5a1f-5cb2-4f3e-b039-d16c3006d212",
   "metadata": {},
   "outputs": [],
   "source": [
    "f.close()"
   ]
  },
  {
   "cell_type": "code",
   "execution_count": 5,
   "id": "7611b18f-bc64-4ede-bf35-8c6e790a1b4c",
   "metadata": {},
   "outputs": [],
   "source": [
    "f = open(\"Anim.txt\", \"w\")"
   ]
  },
  {
   "cell_type": "code",
   "execution_count": 6,
   "id": "2d450f24-a7e7-4eb7-ab3f-85cda514711c",
   "metadata": {},
   "outputs": [
    {
     "data": {
      "text/plain": [
       "40"
      ]
     },
     "execution_count": 6,
     "metadata": {},
     "output_type": "execute_result"
    }
   ],
   "source": [
    "f.write(s)"
   ]
  },
  {
   "cell_type": "code",
   "execution_count": 7,
   "id": "e1847625-20ea-4ad8-bbe4-2b4c91b3010c",
   "metadata": {},
   "outputs": [],
   "source": [
    "f.close()"
   ]
  }
 ],
 "metadata": {
  "kernelspec": {
   "display_name": "Python 3 (ipykernel)",
   "language": "python",
   "name": "python3"
  },
  "language_info": {
   "codemirror_mode": {
    "name": "ipython",
    "version": 3
   },
   "file_extension": ".py",
   "mimetype": "text/x-python",
   "name": "python",
   "nbconvert_exporter": "python",
   "pygments_lexer": "ipython3",
   "version": "3.13.5"
  }
 },
 "nbformat": 4,
 "nbformat_minor": 5
}
