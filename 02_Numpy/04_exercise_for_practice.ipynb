{
 "cells": [
  {
   "cell_type": "markdown",
   "id": "7d477471-2f71-4a43-b549-463436305777",
   "metadata": {},
   "source": [
    "# 🏋️ NumPy Practice Exercises\n",
    "\n",
    "Time to apply what you’ve learned! Try these exercises on your own.  \n",
    "(Hints are provided, but don’t peek until you need them 😉)\n",
    "\n",
    "---\n",
    "\n",
    "### 1️⃣ Create a 3×3 array filled with random numbers and print its shape.\n",
    "```python\n",
    "import numpy as np\n",
    "\n",
    "arr = np.random.rand(3, 3)   # Hint: rand() generates random floats [0,1)\n",
    "print(arr)\n",
    "print(\"Shape:\", arr.shape)\n",
    "````\n",
    "\n",
    "---\n",
    "\n",
    "### 2️⃣ Convert an array of floats `[1.1, 2.2, 3.3]` into integers.\n",
    "\n",
    "```python\n",
    "arr = np.array([1.1, 2.2, 3.3])\n",
    "arr_int = arr.astype(int)   # Hint: use .astype()\n",
    "print(arr_int)\n",
    "```\n",
    "\n",
    "---\n",
    "\n",
    "### 3️⃣ Use fancy indexing to extract even numbers from `[1, 2, 3, 4, 5, 6]`.\n",
    "\n",
    "```python\n",
    "arr = np.array([1, 2, 3, 4, 5, 6])\n",
    "idx = [1, 3, 5]   # Hint: positions of even numbers\n",
    "print(arr[idx])\n",
    "```\n",
    "\n",
    "💡 Extra challenge: Instead of hardcoding indices, build them dynamically with boolean masking.\n",
    "\n",
    "```python\n",
    "print(arr[arr % 2 == 0])\n",
    "```\n",
    "\n",
    "---\n",
    "\n",
    "### 4️⃣ Reshape a 1D array of size 9 into a 3×3 matrix.\n",
    "\n",
    "```python\n",
    "arr = np.arange(1, 10)   # Creates [1,2,...,9]\n",
    "reshaped = arr.reshape(3, 3)\n",
    "print(reshaped)\n",
    "```\n",
    "\n",
    "---\n",
    "\n",
    "### 5️⃣ Use boolean masking to filter numbers greater than 50 in an array.\n",
    "\n",
    "```python\n",
    "arr = np.array([10, 25, 55, 60, 5, 99])\n",
    "mask = arr > 50\n",
    "print(arr[mask])\n",
    "```\n",
    "\n",
    "---\n",
    "\n",
    "✅ These exercises reinforce:\n",
    "\n",
    "* Array creation\n",
    "* Data type conversion\n",
    "* Fancy indexing\n",
    "* Reshaping\n",
    "* Boolean masking\n",
    "\n",
    "---"
   ]
  },
  {
   "cell_type": "markdown",
   "id": "173baf44-e699-4d9b-8f45-e5f7fcc4bb15",
   "metadata": {},
   "source": [
    "### 1. Create a 3×3 array filled with random numbers and print its shape."
   ]
  },
  {
   "cell_type": "code",
   "execution_count": 1,
   "id": "1e1d439f-24c7-4429-b5b2-376753ccd3f6",
   "metadata": {},
   "outputs": [],
   "source": [
    "import numpy as np"
   ]
  },
  {
   "cell_type": "code",
   "execution_count": 2,
   "id": "80fb0c60-3912-485f-a675-6a60625210c3",
   "metadata": {},
   "outputs": [],
   "source": [
    "num = np.full((3,3), 10)"
   ]
  },
  {
   "cell_type": "code",
   "execution_count": 3,
   "id": "1f39a5cb-411e-4bb0-b8f5-d6cf3d25afef",
   "metadata": {},
   "outputs": [
    {
     "name": "stdout",
     "output_type": "stream",
     "text": [
      "Shape: (3, 3)\n"
     ]
    }
   ],
   "source": [
    "print(\"Shape:\", num.shape)   # (4, 3) → 4 rows, 3 columns"
   ]
  },
  {
   "cell_type": "markdown",
   "id": "a6c0f785-41cd-4d28-ba42-ce2e5ed23a9c",
   "metadata": {},
   "source": [
    "### 2. Convert an array of floats [1.1, 2.2, 3.3] into integers."
   ]
  },
  {
   "cell_type": "code",
   "execution_count": 4,
   "id": "d6f3a06f-bae7-4f9d-a5d3-f8bc3f3bc1be",
   "metadata": {},
   "outputs": [],
   "source": [
    "float_to_int = np.array([[ 1.0,  2.0,  3.0],[ 4.0,  5.0,  6.0],[ 7.0,  8.0,  9.0],[11.0, 12.0, 13.0],[14.0, 15.0, 16.0]], dtype = 'int64')"
   ]
  },
  {
   "cell_type": "code",
   "execution_count": 5,
   "id": "d16c1e19-534b-4a8b-906a-15f743fbd9b6",
   "metadata": {},
   "outputs": [
    {
     "data": {
      "text/plain": [
       "array([[ 1,  2,  3],\n",
       "       [ 4,  5,  6],\n",
       "       [ 7,  8,  9],\n",
       "       [11, 12, 13],\n",
       "       [14, 15, 16]])"
      ]
     },
     "execution_count": 5,
     "metadata": {},
     "output_type": "execute_result"
    }
   ],
   "source": [
    "float_to_int"
   ]
  },
  {
   "cell_type": "markdown",
   "id": "9f942589-0048-4cd8-ae30-9ac67b85da71",
   "metadata": {},
   "source": [
    "### 3. Use fancy indexing to extract even numbers from [1, 2, 3, 4, 5, 6]."
   ]
  },
  {
   "cell_type": "code",
   "execution_count": 6,
   "id": "c070d292-caa7-4e86-bbcd-cb16856c171f",
   "metadata": {},
   "outputs": [
    {
     "name": "stdout",
     "output_type": "stream",
     "text": [
      "[2 4 6]\n"
     ]
    }
   ],
   "source": [
    "# Original array\n",
    "arr = np.array([1, 2, 3, 4, 5, 6])\n",
    "\n",
    "# Fancy indexing with a boolean mask for even numbers\n",
    "even_numbers = arr[arr % 2 == 0]\n",
    "\n",
    "print(even_numbers)"
   ]
  },
  {
   "cell_type": "markdown",
   "id": "6e9681f0-01a1-4ba9-aa7e-40a19e87bb67",
   "metadata": {},
   "source": [
    "### 4. Reshape a 1D array of size 9 into a 3×3 matrix."
   ]
  },
  {
   "cell_type": "code",
   "execution_count": 7,
   "id": "84fadffe-86a7-4002-b3e9-0496bfa5d9fd",
   "metadata": {},
   "outputs": [],
   "source": [
    "# 1D array of size 9\n",
    "arr2 = np.arange(1, 10)"
   ]
  },
  {
   "cell_type": "code",
   "execution_count": 8,
   "id": "8d8e9793-285e-470b-b1aa-7761688550e2",
   "metadata": {},
   "outputs": [
    {
     "data": {
      "text/plain": [
       "array([1, 2, 3, 4, 5, 6, 7, 8, 9])"
      ]
     },
     "execution_count": 8,
     "metadata": {},
     "output_type": "execute_result"
    }
   ],
   "source": [
    "arr2"
   ]
  },
  {
   "cell_type": "code",
   "execution_count": 9,
   "id": "0ac28695-7eec-4b74-975a-c22f73f0d1d7",
   "metadata": {},
   "outputs": [],
   "source": [
    "# Reshape into 3x3\n",
    "reshaped = arr2.reshape(3,3)"
   ]
  },
  {
   "cell_type": "code",
   "execution_count": 10,
   "id": "be22a398-f265-40e3-839a-0d348b8b72e3",
   "metadata": {},
   "outputs": [
    {
     "data": {
      "text/plain": [
       "array([[1, 2, 3],\n",
       "       [4, 5, 6],\n",
       "       [7, 8, 9]])"
      ]
     },
     "execution_count": 10,
     "metadata": {},
     "output_type": "execute_result"
    }
   ],
   "source": [
    "reshaped"
   ]
  },
  {
   "cell_type": "markdown",
   "id": "cd54571a-a933-445c-95b1-33576dd784da",
   "metadata": {},
   "source": [
    "### 5. Use boolean masking to filter numbers greater than 50 in an array."
   ]
  },
  {
   "cell_type": "code",
   "execution_count": 11,
   "id": "4eb4a7ae-5486-45b9-b8e6-f5143dcaa0af",
   "metadata": {},
   "outputs": [
    {
     "name": "stdout",
     "output_type": "stream",
     "text": [
      "[55 60 80]\n"
     ]
    }
   ],
   "source": [
    "# Example array\n",
    "arr = np.array([10, 25, 50, 55, 60, 80, 45])\n",
    "\n",
    "# Boolean mask for numbers > 50\n",
    "mask = arr > 50\n",
    "\n",
    "# Apply the mask\n",
    "result = arr[mask]\n",
    "\n",
    "print(result)"
   ]
  }
 ],
 "metadata": {
  "kernelspec": {
   "display_name": "Python 3 (ipykernel)",
   "language": "python",
   "name": "python3"
  },
  "language_info": {
   "codemirror_mode": {
    "name": "ipython",
    "version": 3
   },
   "file_extension": ".py",
   "mimetype": "text/x-python",
   "name": "python",
   "nbconvert_exporter": "python",
   "pygments_lexer": "ipython3",
   "version": "3.13.5"
  }
 },
 "nbformat": 4,
 "nbformat_minor": 5
}
