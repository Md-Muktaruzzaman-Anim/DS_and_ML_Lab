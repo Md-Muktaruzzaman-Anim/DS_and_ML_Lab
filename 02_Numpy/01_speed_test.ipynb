{
 "cells": [
  {
   "cell_type": "markdown",
   "id": "d2ea5a6e-d7d0-4339-a71e-4ea2bf57cd46",
   "metadata": {},
   "source": [
    "# 🚀 Why Use NumPy?\n",
    "\n",
    "Python lists are **flexible but slow** for numerical computing because they:\n",
    "\n",
    "- Store elements as **pointers** instead of a continuous memory block  \n",
    "- Lack **vectorized operations** (rely on loops instead)  \n",
    "- Have significant overhead due to **dynamic typing**  \n",
    "\n",
    "---\n",
    "\n",
    "## 🌟 NumPy’s Superpowers\n",
    "\n",
    "✅ Faster than Python lists (**C-optimized backend**)  \n",
    "✅ Uses less memory (**efficient storage**)  \n",
    "✅ Supports **vectorized operations** (no explicit loops)  \n",
    "✅ Provides **built-in mathematical functions**  \n",
    "\n",
    "---\n",
    "\n",
    "## ⚡ NumPy vs. Python Lists – Performance Test\n",
    "\n",
    "Let’s compare performance between Python lists and NumPy arrays.\n",
    "\n",
    "```python\n",
    "import numpy as np\n",
    "import time\n",
    "\n",
    "# Python list\n",
    "size = 1_000_000\n",
    "list1 = list(range(size))\n",
    "list2 = list(range(size))\n",
    "\n",
    "start = time.time()\n",
    "result = [x + y for x, y in zip(list1, list2)]\n",
    "end = time.time()\n",
    "print(\"Python list addition time:\", end - start)\n",
    "\n",
    "# NumPy array\n",
    "arr1 = np.array(list1)\n",
    "arr2 = np.array(list2)\n",
    "\n",
    "start = time.time()\n",
    "result = arr1 + arr2  # Vectorized operation\n",
    "end = time.time()\n",
    "print(\"NumPy array addition time:\", end - start)\n",
    "````\n",
    "\n",
    "🔑 **Key Takeaway:** NumPy is significantly **faster** because it performs operations in **C**, avoiding Python loops.\n",
    "\n",
    "---\n",
    "\n",
    "## 🏗️ Creating NumPy Arrays\n",
    "\n",
    "```python\n",
    "import numpy as np\n",
    "\n",
    "# 1D NumPy array\n",
    "arr1 = np.array([1, 2, 3, 4, 5])\n",
    "print(arr1)\n",
    "\n",
    "# 2D NumPy array\n",
    "arr2 = np.array([[1, 2, 3], [4, 5, 6]])\n",
    "print(arr2)\n",
    "\n",
    "# Checking type and shape\n",
    "print(\"Type:\", type(arr1))\n",
    "print(\"Shape:\", arr2.shape)\n",
    "```\n",
    "\n",
    "🔹 NumPy stores data in a **contiguous memory block**, making access faster than lists.\n",
    "🔹 `shape` shows the **dimensions** of an array.\n",
    "\n",
    "---\n",
    "\n",
    "## 🧠 Memory Efficiency – NumPy vs. Lists\n",
    "\n",
    "```python\n",
    "import sys\n",
    "\n",
    "list_data = list(range(1000))\n",
    "numpy_data = np.array(list_data)\n",
    "\n",
    "print(\"Python list size:\", sys.getsizeof(list_data) * len(list_data), \"bytes\")\n",
    "print(\"NumPy array size:\", numpy_data.nbytes, \"bytes\")\n",
    "```\n",
    "\n",
    "👉 NumPy arrays use **significantly less memory** compared to Python lists.\n",
    "\n",
    "---\n",
    "\n",
    "## ⚙️ Vectorization – No More Loops!\n",
    "\n",
    "NumPy avoids explicit loops by applying operations to entire arrays at once using **SIMD** (Single Instruction, Multiple Data) and other low-level optimizations.\n",
    "SIMD is a **CPU-level optimization** provided by modern processors.\n",
    "\n",
    "### Example: Squaring Elements\n",
    "\n",
    "```python\n",
    "# Python list (loop-based)\n",
    "list_squares = [x ** 2 for x in list1]\n",
    "\n",
    "# NumPy (vectorized)\n",
    "numpy_squares = arr1 ** 2\n",
    "```\n",
    "\n",
    "✅ NumPy is **cleaner and faster!**\n",
    "\n",
    "---\n",
    "\n",
    "## 📌 Summary\n",
    "\n",
    "* NumPy is **faster** than Python lists (optimized in C).\n",
    "* It consumes **less memory** due to efficient storage.\n",
    "* It supports **vectorized operations**, eliminating slow loops.\n",
    "* It is **essential** for Data Science & Machine Learning workflows.\n",
    "\n",
    "---\n",
    "\n",
    "## 📝 Exercises for Practice\n",
    "\n",
    "1. Create a NumPy array with values from **10 to 100** and print its shape.\n",
    "2. Compare the **time taken** to multiply two Python lists vs. two NumPy arrays.\n",
    "3. Find the **memory size** of a NumPy array with **1 million elements**.\n",
    "\n",
    "---\n",
    "\n",
    "```"
   ]
  },
  {
   "cell_type": "code",
   "execution_count": 1,
   "id": "72f358b3-470e-4a9f-af4c-6a5718fc36b4",
   "metadata": {},
   "outputs": [
    {
     "data": {
      "text/plain": [
       "[(1, 6), (2, 7), (4, 8)]"
      ]
     },
     "execution_count": 1,
     "metadata": {},
     "output_type": "execute_result"
    }
   ],
   "source": [
    "# Python Zip Explained\n",
    "l1 = [1, 2, 4]\n",
    "l2 = [6, 7, 8]\n",
    "list(zip(l1,l2))"
   ]
  },
  {
   "cell_type": "code",
   "execution_count": 2,
   "id": "a80250c0-9a69-40b3-8a43-cd93470fcec6",
   "metadata": {},
   "outputs": [
    {
     "name": "stdout",
     "output_type": "stream",
     "text": [
      "[0, 2, 4, 6, 8, 10, 12, 14, 16, 18]\n",
      "0.0041027069091796875\n"
     ]
    }
   ],
   "source": [
    "# Using Python Lists\n",
    "import numpy as np\n",
    "import time\n",
    "\n",
    "size = 1_000_00\n",
    "\n",
    "l1 = list(range(size))\n",
    "l2 = list(range(size))\n",
    "\n",
    "start = time.time()\n",
    "add = [x+y for x,y in zip(l1, l2)]\n",
    "end = time.time()\n",
    "print(add[0:10])\n",
    "\n",
    "print(end - start)"
   ]
  },
  {
   "cell_type": "code",
   "execution_count": 3,
   "id": "32c11c89-f178-4c80-81b1-d60de574f16f",
   "metadata": {},
   "outputs": [
    {
     "name": "stdout",
     "output_type": "stream",
     "text": [
      "[ 0  2  4  6  8 10 12 14 16 18]\n",
      "0.0011279582977294922\n"
     ]
    }
   ],
   "source": [
    "# Using Numpy Arrays\n",
    "import numpy as np\n",
    "import time\n",
    "\n",
    "size = 1_00_000\n",
    "\n",
    "l1 = np.array(list(range(size)))\n",
    "l2 = np.array(list(range(size)))\n",
    "\n",
    "start = time.time()\n",
    "add = l1 + l2\n",
    "end = time.time()\n",
    "print(add[0:10])\n",
    "\n",
    "print(end - start)"
   ]
  },
  {
   "cell_type": "code",
   "execution_count": 4,
   "id": "2aa4e4c9-9295-4fa2-bd89-b121c340c8b8",
   "metadata": {},
   "outputs": [
    {
     "data": {
      "text/plain": [
       "array([1, 2, 3, 4, 5])"
      ]
     },
     "execution_count": 4,
     "metadata": {},
     "output_type": "execute_result"
    }
   ],
   "source": [
    "np.array([1, 2, 3, 4, 5])"
   ]
  },
  {
   "cell_type": "code",
   "execution_count": 5,
   "id": "8e970c8a-00ad-4536-bddc-5a2cd6d0b5a5",
   "metadata": {},
   "outputs": [],
   "source": [
    "arr = np.array([[1, 2, 3], [4, 5, 6]])"
   ]
  },
  {
   "cell_type": "code",
   "execution_count": 6,
   "id": "1ce26b8d-038f-4f6e-9dcc-f3d9685656a2",
   "metadata": {},
   "outputs": [
    {
     "data": {
      "text/plain": [
       "array([[1, 2, 3],\n",
       "       [4, 5, 6]])"
      ]
     },
     "execution_count": 6,
     "metadata": {},
     "output_type": "execute_result"
    }
   ],
   "source": [
    "arr"
   ]
  },
  {
   "cell_type": "code",
   "execution_count": 7,
   "id": "4728945d-de06-4bc0-868f-5e541afaaee9",
   "metadata": {},
   "outputs": [
    {
     "data": {
      "text/plain": [
       "numpy.ndarray"
      ]
     },
     "execution_count": 7,
     "metadata": {},
     "output_type": "execute_result"
    }
   ],
   "source": [
    "type(arr)"
   ]
  },
  {
   "cell_type": "code",
   "execution_count": 8,
   "id": "7fd3a098-886d-4d1f-b1ad-f50b8ee425b5",
   "metadata": {},
   "outputs": [
    {
     "data": {
      "text/plain": [
       "(2, 3)"
      ]
     },
     "execution_count": 8,
     "metadata": {},
     "output_type": "execute_result"
    }
   ],
   "source": [
    "arr.shape"
   ]
  },
  {
   "cell_type": "code",
   "execution_count": 9,
   "id": "15dd9a50-9967-4c9f-8d46-2c83dc57df1c",
   "metadata": {},
   "outputs": [
    {
     "name": "stdout",
     "output_type": "stream",
     "text": [
      "Python list size: 8056000 bytes\n",
      "NumPy array size: 8000 bytes\n"
     ]
    }
   ],
   "source": [
    "import sys\n",
    "list_data = list(range(1000))\n",
    "numpy_data = np.array(list_data)\n",
    "print(\"Python list size:\", sys.getsizeof(list_data) * len(list_data), \"bytes\")\n",
    "print(\"NumPy array size:\", numpy_data.nbytes, \"bytes\")"
   ]
  }
 ],
 "metadata": {
  "kernelspec": {
   "display_name": "Python 3 (ipykernel)",
   "language": "python",
   "name": "python3"
  },
  "language_info": {
   "codemirror_mode": {
    "name": "ipython",
    "version": 3
   },
   "file_extension": ".py",
   "mimetype": "text/x-python",
   "name": "python",
   "nbconvert_exporter": "python",
   "pygments_lexer": "ipython3",
   "version": "3.13.5"
  }
 },
 "nbformat": 4,
 "nbformat_minor": 5
}
