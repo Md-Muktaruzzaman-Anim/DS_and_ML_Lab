{
 "cells": [
  {
   "cell_type": "markdown",
   "id": "4c9ec32c-ee93-4a69-af3a-ed20741d2369",
   "metadata": {},
   "source": [
    "# 🔢 Why NumPy Arrays?\n",
    "\n",
    "NumPy arrays are the **core of numerical computing in Python**. They are:\n",
    "\n",
    "- ⚡ Faster than Python lists (**C-optimized**)  \n",
    "- 🧠 Memory-efficient (**contiguous block storage**)  \n",
    "- 🔄 Support **vectorized operations** with SIMD (no slow Python loops)  \n",
    "- 🤖 Essential for **Machine Learning, Data Science, and AI**  \n",
    "\n",
    "---\n",
    "\n",
    "## 1️⃣ Creating NumPy Arrays\n",
    "\n",
    "### From Python Lists\n",
    "```python\n",
    "import numpy as np\n",
    "\n",
    "arr1 = np.array([1, 2, 3, 4, 5])       # 1D array\n",
    "arr2 = np.array([[1, 2, 3], [4, 5, 6]]) # 2D array\n",
    "\n",
    "print(arr1)  \n",
    "# [1 2 3 4 5]\n",
    "\n",
    "print(arr2)  \n",
    "# [[1 2 3]\n",
    "#  [4 5 6]]\n",
    "````\n",
    "\n",
    "🔹 Unlike lists, **all elements must have the same data type**.\n",
    "\n",
    "---\n",
    "\n",
    "### Creating Arrays from Scratch\n",
    "\n",
    "```python\n",
    "np.zeros((3, 3))     # 3x3 array of zeros\n",
    "np.ones((2, 4))      # 2x4 array of ones\n",
    "np.full((2, 2), 7)   # 2x2 array filled with 7\n",
    "np.eye(4)            # 4x4 identity matrix\n",
    "np.arange(1, 10, 2)  # [1, 3, 5, 7, 9] → like Python range\n",
    "np.linspace(0, 1, 5) # [0. 0.25 0.5 0.75 1.] evenly spaced\n",
    "```\n",
    "\n",
    "✅ **Key Takeaway:** NumPy provides shortcuts to create arrays without writing loops!\n",
    "\n",
    "---\n",
    "\n",
    "## 2️⃣ Checking Array Properties\n",
    "\n",
    "```python\n",
    "arr = np.array([[10, 20, 30], [40, 50, 60]])\n",
    "\n",
    "print(\"Shape:\", arr.shape)      # (2, 3) → 2 rows, 3 columns\n",
    "print(\"Size:\", arr.size)        # 6 → total number of elements\n",
    "print(\"Dimensions:\", arr.ndim)  # 2 → 2D array\n",
    "print(\"Data type:\", arr.dtype)  # int64 (or int32 on Windows)\n",
    "```\n",
    "\n",
    "🔹 NumPy arrays are **strongly typed**: all elements share the same dtype.\n",
    "\n",
    "---\n",
    "\n",
    "## 3️⃣ Changing Data Types\n",
    "\n",
    "```python\n",
    "arr = np.array([1, 2, 3], dtype=np.float32)  \n",
    "print(arr.dtype)  # float32\n",
    "\n",
    "arr_int = arr.astype(np.int32)  # Convert float → int\n",
    "print(arr_int)  # [1 2 3]\n",
    "```\n",
    "\n",
    "💡 Choosing the right dtype ensures **efficient memory usage**.\n",
    "\n",
    "---\n",
    "\n",
    "## 4️⃣ Reshaping and Flattening Arrays\n",
    "\n",
    "```python\n",
    "arr = np.array([[1, 2, 3], [4, 5, 6]])\n",
    "print(arr.shape)  # (2, 3)\n",
    "\n",
    "reshaped = arr.reshape((3, 2))  # Change shape\n",
    "print(reshaped)\n",
    "# [[1 2]\n",
    "#  [3 4]\n",
    "#  [5 6]]\n",
    "\n",
    "flattened = arr.flatten()  # Convert 2D → 1D\n",
    "print(flattened)  # [1 2 3 4 5 6]\n",
    "```\n",
    "\n",
    "✅ Reshape helps reorganize data, while flatten collapses multi-dimensional arrays into **1D**.\n",
    "\n",
    "---"
   ]
  },
  {
   "cell_type": "code",
   "execution_count": 1,
   "id": "6d9dcc2e-cd93-4b34-b12e-cd9d06302fe6",
   "metadata": {},
   "outputs": [],
   "source": [
    "import numpy as np"
   ]
  },
  {
   "cell_type": "code",
   "execution_count": 2,
   "id": "e674cc22-8bcc-4369-8296-57103207493c",
   "metadata": {},
   "outputs": [
    {
     "name": "stdout",
     "output_type": "stream",
     "text": [
      "Requirement already satisfied: numpy in c:\\users\\mukat\\appdata\\roaming\\python\\python313\\site-packages (2.2.5)\n"
     ]
    }
   ],
   "source": [
    "!pip install numpy"
   ]
  },
  {
   "cell_type": "code",
   "execution_count": 3,
   "id": "001009d7-5ea6-427f-9efa-ca012cbe8f1f",
   "metadata": {},
   "outputs": [],
   "source": [
    "arr = np.array([1, 3, 4])"
   ]
  },
  {
   "cell_type": "code",
   "execution_count": 4,
   "id": "062c5662-c877-437a-8815-f0c4c6ff3a15",
   "metadata": {
    "panel-layout": {
     "height": 27.140625,
     "visible": true,
     "width": 100
    }
   },
   "outputs": [
    {
     "data": {
      "text/plain": [
       "array([1, 3, 4])"
      ]
     },
     "execution_count": 4,
     "metadata": {},
     "output_type": "execute_result"
    }
   ],
   "source": [
    "arr"
   ]
  },
  {
   "cell_type": "markdown",
   "id": "f116dc5e-6f8a-42e4-bd7f-f500b11e4240",
   "metadata": {
    "panel-layout": {
     "height": 77.875,
     "visible": true,
     "width": 100
    }
   },
   "source": [
    "## 1. Creating NumPy Arrays\n",
    "### From Python Lists:"
   ]
  },
  {
   "cell_type": "code",
   "execution_count": 5,
   "id": "7a3652df-d5f6-4054-be31-b3ac9dc42305",
   "metadata": {
    "panel-layout": {
     "height": 0,
     "visible": true,
     "width": 100
    }
   },
   "outputs": [
    {
     "name": "stdout",
     "output_type": "stream",
     "text": [
      "[1 2 3 4 5]\n",
      "[[1 2 3]\n",
      " [4 5 6]]\n"
     ]
    }
   ],
   "source": [
    "arr1 = np.array([1, 2, 3, 4, 5])  # 1D array\n",
    "arr2 = np.array([[1, 2, 3], [4, 5, 6]])  # 2D array\n",
    "\n",
    "print(arr1)\n",
    "print(arr2)"
   ]
  },
  {
   "cell_type": "markdown",
   "id": "5b62514f-8607-461b-8e85-5843bd1bfd47",
   "metadata": {
    "panel-layout": {
     "height": 44.09376525878906,
     "visible": true,
     "width": 100
    }
   },
   "source": [
    "### Creating Arrays from Scratch:"
   ]
  },
  {
   "cell_type": "code",
   "execution_count": 6,
   "id": "0142d365-e3be-4d8b-a6d2-78af7d9437db",
   "metadata": {
    "panel-layout": {
     "height": 61.421875,
     "visible": true,
     "width": 100
    }
   },
   "outputs": [
    {
     "data": {
      "text/plain": [
       "array([[0., 0., 0., 0.],\n",
       "       [0., 0., 0., 0.],\n",
       "       [0., 0., 0., 0.]])"
      ]
     },
     "execution_count": 6,
     "metadata": {},
     "output_type": "execute_result"
    }
   ],
   "source": [
    "np.zeros((3, 4))    # 3x4 array of zeros"
   ]
  },
  {
   "cell_type": "code",
   "execution_count": 7,
   "id": "4840c9ae-fb74-414f-9921-28f55601fe23",
   "metadata": {
    "panel-layout": {
     "height": 44.28125,
     "visible": true,
     "width": 100
    }
   },
   "outputs": [
    {
     "data": {
      "text/plain": [
       "array([[1., 1., 1., 1.],\n",
       "       [1., 1., 1., 1.]])"
      ]
     },
     "execution_count": 7,
     "metadata": {},
     "output_type": "execute_result"
    }
   ],
   "source": [
    "np.ones((2, 4))     # 2x4 array of ones"
   ]
  },
  {
   "cell_type": "code",
   "execution_count": 8,
   "id": "15819259-173a-4212-a482-56a7a1681e8e",
   "metadata": {
    "panel-layout": {
     "height": 78.5625,
     "visible": true,
     "width": 100
    }
   },
   "outputs": [
    {
     "data": {
      "text/plain": [
       "array([[8, 8, 8, 8, 8, 8],\n",
       "       [8, 8, 8, 8, 8, 8],\n",
       "       [8, 8, 8, 8, 8, 8],\n",
       "       [8, 8, 8, 8, 8, 8]])"
      ]
     },
     "execution_count": 8,
     "metadata": {},
     "output_type": "execute_result"
    }
   ],
   "source": [
    "np.full((4, 6), 8)  # 4x6 array filled with 8"
   ]
  },
  {
   "cell_type": "code",
   "execution_count": 9,
   "id": "10de9c8c-3992-4bc0-b6f5-70cd8b0ee312",
   "metadata": {
    "panel-layout": {
     "height": 78.5625,
     "visible": true,
     "width": 100
    }
   },
   "outputs": [
    {
     "data": {
      "text/plain": [
       "array([[1., 0., 0., 0.],\n",
       "       [0., 1., 0., 0.],\n",
       "       [0., 0., 1., 0.],\n",
       "       [0., 0., 0., 1.]])"
      ]
     },
     "execution_count": 9,
     "metadata": {},
     "output_type": "execute_result"
    }
   ],
   "source": [
    "np.eye(4)           # 4x4 identity matrix"
   ]
  },
  {
   "cell_type": "code",
   "execution_count": 10,
   "id": "85b42d9a-849d-4d3f-9820-9c3f914ea144",
   "metadata": {
    "panel-layout": {
     "height": 27.140625,
     "visible": true,
     "width": 100
    }
   },
   "outputs": [
    {
     "data": {
      "text/plain": [
       "array([1, 3, 5, 7, 9])"
      ]
     },
     "execution_count": 10,
     "metadata": {},
     "output_type": "execute_result"
    }
   ],
   "source": [
    "np.arange(1, 10, 2) # [1, 3, 5, 7, 9] (like range)"
   ]
  },
  {
   "cell_type": "code",
   "execution_count": 11,
   "id": "15214545-d211-4eb0-8708-96343c95c4cd",
   "metadata": {
    "panel-layout": {
     "height": 68.140625,
     "visible": true,
     "width": 100
    }
   },
   "outputs": [
    {
     "data": {
      "text/plain": [
       "array([0.  , 0.25, 0.5 , 0.75, 1.  ])"
      ]
     },
     "execution_count": 11,
     "metadata": {},
     "output_type": "execute_result"
    }
   ],
   "source": [
    "np.linspace(0, 1, 5) # [0. 0.25 0.5 0.75 1.] (evenly spaced)"
   ]
  },
  {
   "cell_type": "markdown",
   "id": "3f2c91f3-9149-46c5-bd6d-670e8ad21e81",
   "metadata": {
    "panel-layout": {
     "height": 50.796875,
     "visible": true,
     "width": 100
    }
   },
   "source": [
    "## 2. Checking Array Properties"
   ]
  },
  {
   "cell_type": "code",
   "execution_count": 12,
   "id": "45c4a3c1-0996-4beb-b180-1d73435ead90",
   "metadata": {},
   "outputs": [],
   "source": [
    "myarr = np.array([[1, 2, 3], [4, 5, 6], [7, 8, 9], [11, 12, 13]])"
   ]
  },
  {
   "cell_type": "code",
   "execution_count": 13,
   "id": "70f08414-9319-4411-9293-e1f8844cd27b",
   "metadata": {
    "panel-layout": {
     "height": 78.5625,
     "visible": true,
     "width": 100
    }
   },
   "outputs": [
    {
     "data": {
      "text/plain": [
       "array([[ 1,  2,  3],\n",
       "       [ 4,  5,  6],\n",
       "       [ 7,  8,  9],\n",
       "       [11, 12, 13]])"
      ]
     },
     "execution_count": 13,
     "metadata": {},
     "output_type": "execute_result"
    }
   ],
   "source": [
    "myarr"
   ]
  },
  {
   "cell_type": "code",
   "execution_count": 14,
   "id": "713f8dad-6e48-46af-989a-7ce2294282c2",
   "metadata": {
    "panel-layout": {
     "height": 0,
     "visible": true,
     "width": 100
    }
   },
   "outputs": [
    {
     "name": "stdout",
     "output_type": "stream",
     "text": [
      "Shape: (4, 3)\n"
     ]
    }
   ],
   "source": [
    "print(\"Shape:\", myarr.shape)   # (4, 3) → 4 rows, 3 columns"
   ]
  },
  {
   "cell_type": "code",
   "execution_count": 15,
   "id": "9959c00b-d178-45bd-bc2a-547eabf9aaa1",
   "metadata": {
    "panel-layout": {
     "height": 0,
     "visible": true,
     "width": 100
    }
   },
   "outputs": [
    {
     "name": "stdout",
     "output_type": "stream",
     "text": [
      "Size: 12\n"
     ]
    }
   ],
   "source": [
    "print(\"Size:\", myarr.size)     # 12 → total elements"
   ]
  },
  {
   "cell_type": "code",
   "execution_count": 16,
   "id": "c2d3ea4d-1393-43e8-af62-5ead519cb73d",
   "metadata": {
    "panel-layout": {
     "height": 0,
     "visible": true,
     "width": 100
    }
   },
   "outputs": [
    {
     "name": "stdout",
     "output_type": "stream",
     "text": [
      "Dimensions: 2\n"
     ]
    }
   ],
   "source": [
    "print(\"Dimensions:\", myarr.ndim) # 2 → 2D array"
   ]
  },
  {
   "cell_type": "code",
   "execution_count": 17,
   "id": "931ed01c-29aa-4fb3-965f-c20fc7037b0b",
   "metadata": {
    "panel-layout": {
     "height": 0,
     "visible": true,
     "width": 100
    }
   },
   "outputs": [
    {
     "name": "stdout",
     "output_type": "stream",
     "text": [
      "Data type: int64\n"
     ]
    }
   ],
   "source": [
    "print(\"Data type:\", myarr.dtype) # int64 (or int32 on Windows)"
   ]
  },
  {
   "cell_type": "markdown",
   "id": "01a8d762-5fae-4d55-a845-7a88cf6de651",
   "metadata": {
    "panel-layout": {
     "height": 50.796875,
     "visible": true,
     "width": 100
    }
   },
   "source": [
    "## 3. Changing Data Types"
   ]
  },
  {
   "cell_type": "code",
   "execution_count": 18,
   "id": "dca5e5c4-97e5-4756-b36e-be151aad54d2",
   "metadata": {},
   "outputs": [],
   "source": [
    "myarr = np.array([[1, 2, 3], [4, 5, 6], [7, 8, 9], [11, 12, 13]], dtype = 'float64')"
   ]
  },
  {
   "cell_type": "code",
   "execution_count": 19,
   "id": "80072ac8-931c-4712-8805-a34609606c68",
   "metadata": {
    "panel-layout": {
     "height": 78.5625,
     "visible": true,
     "width": 100
    }
   },
   "outputs": [
    {
     "data": {
      "text/plain": [
       "array([[ 1.,  2.,  3.],\n",
       "       [ 4.,  5.,  6.],\n",
       "       [ 7.,  8.,  9.],\n",
       "       [11., 12., 13.]])"
      ]
     },
     "execution_count": 19,
     "metadata": {},
     "output_type": "execute_result"
    }
   ],
   "source": [
    "myarr   # Convert int to float"
   ]
  },
  {
   "cell_type": "code",
   "execution_count": 20,
   "id": "79bee5e1-545e-40ee-9127-16a722691e7f",
   "metadata": {
    "panel-layout": {
     "height": 0,
     "visible": true,
     "width": 100
    }
   },
   "outputs": [
    {
     "name": "stdout",
     "output_type": "stream",
     "text": [
      "Data type: float64\n"
     ]
    }
   ],
   "source": [
    "print(\"Data type:\", myarr.dtype) # float64 (or float32 on Windows)"
   ]
  },
  {
   "cell_type": "code",
   "execution_count": 21,
   "id": "01039d62-240d-404f-9411-dedfc597f546",
   "metadata": {},
   "outputs": [],
   "source": [
    "n = myarr.astype('float32')"
   ]
  },
  {
   "cell_type": "code",
   "execution_count": 22,
   "id": "75f7108b-71dd-42a4-9bf5-afacf8ae277e",
   "metadata": {
    "panel-layout": {
     "height": 27.140625,
     "visible": true,
     "width": 100
    }
   },
   "outputs": [
    {
     "data": {
      "text/plain": [
       "dtype('float32')"
      ]
     },
     "execution_count": 22,
     "metadata": {},
     "output_type": "execute_result"
    }
   ],
   "source": [
    "n.dtype"
   ]
  },
  {
   "cell_type": "code",
   "execution_count": 23,
   "id": "008ea03f-60ce-421f-b0bd-7c580d35ec9d",
   "metadata": {
    "panel-layout": {
     "height": 27.140625,
     "visible": true,
     "width": 100
    }
   },
   "outputs": [
    {
     "data": {
      "text/plain": [
       "dtype('float64')"
      ]
     },
     "execution_count": 23,
     "metadata": {},
     "output_type": "execute_result"
    }
   ],
   "source": [
    "myarr.dtype"
   ]
  },
  {
   "cell_type": "markdown",
   "id": "1f0b8ecb-40ae-48e5-982d-8055871fb996",
   "metadata": {},
   "source": [
    "## 4. Reshaping and Flattening Arrays"
   ]
  },
  {
   "cell_type": "code",
   "execution_count": 24,
   "id": "203bfffb-b7c0-4bf2-b1c0-d0cca5df3b2f",
   "metadata": {},
   "outputs": [],
   "source": [
    "myarr = np.array([[1, 2, 3], [4, 5, 6], [7, 8, 9], [11, 12, 13]])"
   ]
  },
  {
   "cell_type": "code",
   "execution_count": 25,
   "id": "02bcbdb1-f991-41b4-949b-396ee02b81b4",
   "metadata": {},
   "outputs": [
    {
     "data": {
      "text/plain": [
       "(4, 3)"
      ]
     },
     "execution_count": 25,
     "metadata": {},
     "output_type": "execute_result"
    }
   ],
   "source": [
    "myarr.shape"
   ]
  },
  {
   "cell_type": "code",
   "execution_count": 26,
   "id": "95b65e7f-6973-4e9c-bf53-2a5765689691",
   "metadata": {},
   "outputs": [],
   "source": [
    "reshaped = myarr.reshape((3,4))  # Change shape"
   ]
  },
  {
   "cell_type": "code",
   "execution_count": 27,
   "id": "2f1ef589-dada-49eb-9bf1-243af5b7bdbb",
   "metadata": {},
   "outputs": [
    {
     "data": {
      "text/plain": [
       "array([[ 1,  2,  3,  4],\n",
       "       [ 5,  6,  7,  8],\n",
       "       [ 9, 11, 12, 13]])"
      ]
     },
     "execution_count": 27,
     "metadata": {},
     "output_type": "execute_result"
    }
   ],
   "source": [
    "reshaped"
   ]
  },
  {
   "cell_type": "code",
   "execution_count": 28,
   "id": "bca7e4d2-9337-4dce-96ec-a869866a9e5c",
   "metadata": {},
   "outputs": [
    {
     "data": {
      "text/plain": [
       "array([[ 1,  2,  3],\n",
       "       [ 4,  5,  6],\n",
       "       [ 7,  8,  9],\n",
       "       [11, 12, 13]])"
      ]
     },
     "execution_count": 28,
     "metadata": {},
     "output_type": "execute_result"
    }
   ],
   "source": [
    "myarr"
   ]
  },
  {
   "cell_type": "code",
   "execution_count": 29,
   "id": "39e48342-81f7-48d7-b0a2-d6f9bc4a2d73",
   "metadata": {},
   "outputs": [
    {
     "data": {
      "text/plain": [
       "array([ 1,  2,  3,  4,  5,  6,  7,  8,  9, 11, 12, 13])"
      ]
     },
     "execution_count": 29,
     "metadata": {},
     "output_type": "execute_result"
    }
   ],
   "source": [
    "myarr.flatten()  # Convert 2D → 1D"
   ]
  }
 ],
 "metadata": {
  "kernelspec": {
   "display_name": "Python 3 (ipykernel)",
   "language": "python",
   "name": "python3"
  },
  "language_info": {
   "codemirror_mode": {
    "name": "ipython",
    "version": 3
   },
   "file_extension": ".py",
   "mimetype": "text/x-python",
   "name": "python",
   "nbconvert_exporter": "python",
   "pygments_lexer": "ipython3",
   "version": "3.13.5"
  },
  "panel-cell-order": [
   "062c5662-c877-437a-8815-f0c4c6ff3a15",
   "f116dc5e-6f8a-42e4-bd7f-f500b11e4240",
   "7a3652df-d5f6-4054-be31-b3ac9dc42305",
   "5b62514f-8607-461b-8e85-5843bd1bfd47",
   "0142d365-e3be-4d8b-a6d2-78af7d9437db",
   "4840c9ae-fb74-414f-9921-28f55601fe23",
   "15819259-173a-4212-a482-56a7a1681e8e",
   "10de9c8c-3992-4bc0-b6f5-70cd8b0ee312",
   "85b42d9a-849d-4d3f-9820-9c3f914ea144",
   "15214545-d211-4eb0-8708-96343c95c4cd",
   "3f2c91f3-9149-46c5-bd6d-670e8ad21e81",
   "70f08414-9319-4411-9293-e1f8844cd27b",
   "713f8dad-6e48-46af-989a-7ce2294282c2",
   "9959c00b-d178-45bd-bc2a-547eabf9aaa1",
   "c2d3ea4d-1393-43e8-af62-5ead519cb73d",
   "931ed01c-29aa-4fb3-965f-c20fc7037b0b",
   "01a8d762-5fae-4d55-a845-7a88cf6de651",
   "80072ac8-931c-4712-8805-a34609606c68",
   "79bee5e1-545e-40ee-9127-16a722691e7f",
   "75f7108b-71dd-42a4-9bf5-afacf8ae277e",
   "008ea03f-60ce-421f-b0bd-7c580d35ec9d"
  ]
 },
 "nbformat": 4,
 "nbformat_minor": 5
}
