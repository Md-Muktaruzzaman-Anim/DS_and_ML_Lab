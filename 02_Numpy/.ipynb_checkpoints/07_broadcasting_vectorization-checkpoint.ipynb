{
 "cells": [
  {
   "cell_type": "markdown",
   "id": "8f2f972c-944e-4b96-a326-be1bf23f1d39",
   "metadata": {},
   "source": [
    "# 📌 Broadcasting in NumPy\n",
    "\n",
    "NumPy provides **vectorization** and **broadcasting** to make numerical operations faster and memory-efficient. These techniques help avoid slow Python loops.\n",
    "\n",
    "---\n",
    "\n",
    "## 1. ❌ Why Loops Are Slow in Python?\n",
    "\n",
    "- **Python’s interpreter**: Each loop iteration requires interpretation, making it slower than compiled code.\n",
    "- **High overhead**: Every loop iteration involves function calls, memory access, and index management.\n",
    "\n",
    "👉 While loops are convenient, they do not take advantage of NumPy’s optimized C-based backend.\n",
    "\n",
    "### Example: Looping Over Arrays in Python\n",
    "```python\n",
    "import numpy as np\n",
    " \n",
    "arr = np.array([1, 2, 3, 4, 5])\n",
    "result = []\n",
    " \n",
    "# Using a loop to square each element (slow)\n",
    "for num in arr:\n",
    "    result.append(num ** 2)\n",
    " \n",
    "print(result)  \n",
    "# Output: [1, 4, 9, 16, 25]\n",
    "````\n",
    "\n",
    "---\n",
    "\n",
    "## 2. ⚡ Vectorization: Fixing the Loop Problem\n",
    "\n",
    "Vectorization applies operations to the **entire array at once**, instead of iterating element by element.\n",
    "This is faster because:\n",
    "\n",
    "* NumPy uses **compiled C code** (low-level).\n",
    "* Uses **SIMD (Single Instruction, Multiple Data)** → multiple operations at once.\n",
    "\n",
    "### Example: Vectorized Operation\n",
    "\n",
    "```python\n",
    "arr = np.array([1, 2, 3, 4, 5])\n",
    "result = arr ** 2  # Vectorized operation\n",
    "print(result)  \n",
    "# Output: [1 4 9 16 25]\n",
    "```\n",
    "\n",
    "✅ Faster and more readable.\n",
    "\n",
    "---\n",
    "\n",
    "## 3. 📡 Broadcasting: Scaling Arrays Without Extra Memory\n",
    "\n",
    "Broadcasting lets you perform operations between arrays of **different shapes** without creating copies.\n",
    "It \"stretches\" smaller arrays across larger arrays in a memory-efficient way.\n",
    "\n",
    "---\n",
    "\n",
    "### Example: Broadcasting with Scalar\n",
    "\n",
    "```python\n",
    "arr = np.array([1, 2, 3, 4, 5])\n",
    "result = arr + 10   # Broadcasting scalar\n",
    "print(result)  \n",
    "# Output: [11 12 13 14 15]\n",
    "```\n",
    "\n",
    "---\n",
    "\n",
    "### Example: Broadcasting with Two Arrays\n",
    "\n",
    "```python\n",
    "arr1 = np.array([1, 2, 3])\n",
    "arr2 = np.array([10, 20, 30])\n",
    " \n",
    "result = arr1 + arr2\n",
    "print(result)  \n",
    "# Output: [11 22 33]\n",
    "```\n",
    "\n",
    "---\n",
    "\n",
    "### Example: Broadcasting a 2D Array and a 1D Array\n",
    "\n",
    "```python\n",
    "arr1 = np.array([[1, 2, 3], [4, 5, 6]])\n",
    "arr2 = np.array([1, 2, 3])\n",
    " \n",
    "result = arr1 + arr2\n",
    "print(result)\n",
    "# Output:\n",
    "# [[2 4 6]\n",
    "#  [5 7 9]]\n",
    "```\n",
    "\n",
    "---\n",
    "\n",
    "## 4. 🔎 How Broadcasting Works?\n",
    "\n",
    "1. Dimensions must be **compatible**:\n",
    "\n",
    "   * Sizes of trailing dimensions must be **equal** OR one of them must be **1**.\n",
    "2. If compatible → NumPy **stretches** the smaller array without copying data.\n",
    "\n",
    "---\n",
    "\n",
    "## 5. 🧑‍💻 Hands-on: Real-World Example (Machine Learning)\n",
    "\n",
    "👉 Normalizing a dataset (common preprocessing step).\n",
    "\n",
    "```python\n",
    "# Simulating a dataset (5 samples, 3 features)\n",
    "data = np.array([[10, 20, 30],\n",
    "                 [15, 25, 35],\n",
    "                 [20, 30, 40],\n",
    "                 [25, 35, 45],\n",
    "                 [30, 40, 50]])\n",
    " \n",
    "# Mean & standard deviation (per column)\n",
    "mean = data.mean(axis=0)\n",
    "std = data.std(axis=0)\n",
    " \n",
    "# Normalize data using broadcasting\n",
    "normalized_data = (data - mean) / std\n",
    " \n",
    "print(normalized_data)\n",
    "```\n",
    "\n",
    "Here, broadcasting subtracts `mean` and divides by `std` **column-wise** automatically.\n",
    "\n",
    "---\n",
    "\n",
    "## ✅ Summary\n",
    "\n",
    "* **Loops are slow** → Python interpreter overhead.\n",
    "* **Vectorization** → Applies operations to entire arrays at once using fast C backend.\n",
    "* **Broadcasting** → Works on arrays of different shapes without copying data.\n",
    "* **Real-world use** → Normalizing datasets, scaling features, etc.\n",
    "\n",
    "---"
   ]
  },
  {
   "cell_type": "code",
   "execution_count": 1,
   "id": "4f823323-d840-44b9-be30-783be96c0716",
   "metadata": {},
   "outputs": [],
   "source": [
    "import numpy as np"
   ]
  },
  {
   "cell_type": "code",
   "execution_count": 2,
   "id": "a221fc18-ba16-4a8b-aaff-c363030428f4",
   "metadata": {},
   "outputs": [
    {
     "name": "stdout",
     "output_type": "stream",
     "text": [
      "[ 1  4  9 16 25]\n"
     ]
    }
   ],
   "source": [
    "arr = np.array([1, 2, 3, 4, 5])\n",
    "result = arr ** 2 # Vectorized operation\n",
    "print(result) # Output: [1 4 9 16 25]"
   ]
  },
  {
   "cell_type": "code",
   "execution_count": 3,
   "id": "e2cba1c3-b06a-4103-8170-85b10e4efaa8",
   "metadata": {},
   "outputs": [
    {
     "data": {
      "text/plain": [
       "array([11, 14, 19, 26, 35])"
      ]
     },
     "execution_count": 3,
     "metadata": {},
     "output_type": "execute_result"
    }
   ],
   "source": [
    "result + 10"
   ]
  },
  {
   "cell_type": "code",
   "execution_count": 4,
   "id": "6d5ab9a7-cd7b-4524-b099-6b535aa8022f",
   "metadata": {},
   "outputs": [
    {
     "name": "stdout",
     "output_type": "stream",
     "text": [
      "[[2 4 6]\n",
      " [5 7 9]]\n"
     ]
    }
   ],
   "source": [
    "arr1 = np.array([[1, 2, 3], [4, 5, 6]])\n",
    "arr2 = np.array([1, 2, 3])\n",
    "result = arr1 + arr2 # Broadcasting arr2 across arr1\n",
    "print(result)"
   ]
  },
  {
   "cell_type": "code",
   "execution_count": 5,
   "id": "96ccae34-77bd-415b-a107-ac76851df868",
   "metadata": {},
   "outputs": [
    {
     "name": "stdout",
     "output_type": "stream",
     "text": [
      "[[-1.41421356 -1.41421356 -1.41421356]\n",
      " [-0.70710678 -0.70710678 -0.70710678]\n",
      " [ 0.          0.          0.        ]\n",
      " [ 0.70710678  0.70710678  0.70710678]\n",
      " [ 1.41421356  1.41421356  1.41421356]]\n"
     ]
    }
   ],
   "source": [
    "# Simulating a dataset (5 samples, 3 features)\n",
    "data = np.array([[10, 20, 30],\n",
    "[15, 25, 35],\n",
    "[20, 30, 40],\n",
    "[25, 35, 45],\n",
    "[30, 40, 50]])\n",
    "# Calculating mean and standard deviation for each feature (column)\n",
    "mean = data.mean(axis=0)\n",
    "std = data.std(axis=0)\n",
    "# Normalizing the data using broadcasting\n",
    "normalized_data = (data - mean) / std\n",
    "print(normalized_data)"
   ]
  }
 ],
 "metadata": {
  "kernelspec": {
   "display_name": "Python 3 (ipykernel)",
   "language": "python",
   "name": "python3"
  },
  "language_info": {
   "codemirror_mode": {
    "name": "ipython",
    "version": 3
   },
   "file_extension": ".py",
   "mimetype": "text/x-python",
   "name": "python",
   "nbconvert_exporter": "python",
   "pygments_lexer": "ipython3",
   "version": "3.13.5"
  }
 },
 "nbformat": 4,
 "nbformat_minor": 5
}
