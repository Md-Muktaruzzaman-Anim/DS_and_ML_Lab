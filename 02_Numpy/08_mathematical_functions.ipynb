{
 "cells": [
  {
   "cell_type": "markdown",
   "id": "dc2f4a50-bb45-4a4b-917e-ae828f1a497f",
   "metadata": {},
   "source": [
    "# Built in Mathematical functions in Numpy\n",
    "Here are some common NumPy methods that are frequently used for statistical and mathematical operations:\n",
    "\n",
    "1. **`np.mean()`** – Compute the **mean** (average) of an array.\n",
    "   ```python\n",
    "   np.mean(arr)\n",
    "   ```\n",
    "\n",
    "2. **`np.std()`** – Compute the **standard deviation** of an array.\n",
    "   ```python\n",
    "   np.std(arr)\n",
    "   ```\n",
    "\n",
    "3. **`np.var()`** – Compute the **variance** of an array.\n",
    "   ```python\n",
    "   np.var(arr)\n",
    "   ```\n",
    "\n",
    "4. **`np.min()`** – Compute the **minimum** value of an array.\n",
    "   ```python\n",
    "   np.min(arr)\n",
    "   ```\n",
    "\n",
    "5. **`np.max()`** – Compute the **maximum** value of an array.\n",
    "   ```python\n",
    "   np.max(arr)\n",
    "   ```\n",
    "\n",
    "6. **`np.sum()`** – Compute the **sum** of all elements in an array.\n",
    "   ```python\n",
    "   np.sum(arr)\n",
    "   ```\n",
    "\n",
    "7. **`np.prod()`** – Compute the **product** of all elements in an array.\n",
    "   ```python\n",
    "   np.prod(arr)\n",
    "   ```\n",
    "\n",
    "8. **`np.median()`** – Compute the **median** of an array.\n",
    "   ```python\n",
    "   np.median(arr)\n",
    "   ```\n",
    "\n",
    "9. **`np.percentile()`** – Compute the **percentile** of an array.\n",
    "   ```python\n",
    "   np.percentile(arr, 50)  # For the 50th percentile (median)\n",
    "   ```\n",
    "\n",
    "10. **`np.argmin()`** – Return the **index of the minimum** value in an array.\n",
    "    ```python\n",
    "    np.argmin(arr)\n",
    "    ```\n",
    "\n",
    "11. **`np.argmax()`** – Return the **index of the maximum** value in an array.\n",
    "    ```python\n",
    "    np.argmax(arr)\n",
    "    ```\n",
    "\n",
    "12. **`np.corrcoef()`** – Compute the **correlation coefficient** matrix of two arrays.\n",
    "    ```python\n",
    "    np.corrcoef(arr1, arr2)\n",
    "    ```\n",
    "\n",
    "13. **`np.unique()`** – Find the **unique elements** of an array.\n",
    "    ```python\n",
    "    np.unique(arr)\n",
    "    ```\n",
    "\n",
    "14. **`np.diff()`** – Compute the **n-th differences** of an array.\n",
    "    ```python\n",
    "    np.diff(arr)\n",
    "    ```\n",
    "\n",
    "15. **`np.cumsum()`** – Compute the **cumulative sum** of an array.\n",
    "    ```python\n",
    "    np.cumsum(arr)\n",
    "    ```\n",
    "\n",
    "16. **`np.linspace()`** – Create an array with **evenly spaced numbers** over a specified interval.\n",
    "    ```python\n",
    "    np.linspace(0, 10, 5)  # 5 numbers from 0 to 10\n",
    "    ```\n",
    "\n",
    "17. **`np.log()`** – Compute the **natural logarithm** of an array.\n",
    "    ```python\n",
    "    np.log(arr)\n",
    "    ```\n",
    "\n",
    "18. **`np.exp()`** – Compute the **exponential** of an array.\n",
    "    ```python\n",
    "    np.exp(arr)\n",
    "    ```\n",
    "\n",
    "These methods are used for performing mathematical and statistical operations with NumPy"
   ]
  },
  {
   "cell_type": "markdown",
   "id": "ce49d899-d7ee-4760-b879-7d4ab3f0dda3",
   "metadata": {},
   "source": [
    "# 🌟 NumPy Functions – The Party Analogy\n",
    "\n",
    "Imagine your array `arr = [3, 5, 2, 33]` as a **group of party guests**, each carrying a different number of candies. Each NumPy function is like a **party activity** that tells you something about your guests’ candy behavior.\n",
    "\n",
    "---\n",
    "\n",
    "### 1️⃣ Mean (`np.mean(arr)`)  \n",
    "**The average candies per guest.**  \n",
    "- Imagine you collect all candies and divide equally among everyone.  \n",
    "- `mean = (3 + 5 + 2 + 33) / 4 = 10.75`  \n",
    "- Everyone would get roughly 10–11 candies.\n",
    "\n",
    "---\n",
    "\n",
    "### 2️⃣ Standard Deviation (`np.std(arr)`)  \n",
    "**How wild the candy distribution is.**  \n",
    "- If most guests have close to 10 candies, SD is low.  \n",
    "- If one guest has 33 while others have 2–5, SD is high.  \n",
    "- It measures **spread from the mean**.\n",
    "\n",
    "---\n",
    "\n",
    "### 3️⃣ Variance (`np.var(arr)`)  \n",
    "- Just the **SD squared**.  \n",
    "- Think of it as the \"squared chaos\" in candy distribution.  \n",
    "\n",
    "---\n",
    "\n",
    "### 4️⃣ Min & Max (`np.min(arr)` / `np.max(arr)`)  \n",
    "- **Who has the least?** → `min = 2`  \n",
    "- **Who has the most?** → `max = 33`  \n",
    "\n",
    "---\n",
    "\n",
    "### 5️⃣ Sum & Product (`np.sum(arr)` / `np.prod(arr)`)  \n",
    "- **Sum:** Total candies in the party → `sum = 43`  \n",
    "- **Product:** If every guest combined candies in a magic multiplication box → `prod = 3*5*2*33 = 990`  \n",
    "\n",
    "---\n",
    "\n",
    "### 6️⃣ Median (`np.median(arr)`)  \n",
    "- Sort the candies `[2,3,5,33]` → the **middle candy count** = 4  \n",
    "- If two middles, average them.  \n",
    "- It’s the **middle guest’s candies**.\n",
    "\n",
    "---\n",
    "\n",
    "### 7️⃣ Percentile (`np.percentile(arr, 50)`)  \n",
    "- The 50th percentile = median → half of guests have **≤ 4 candies**, half have **≥ 4**.  \n",
    "- The 90th percentile would tell you **who’s in the top 10% candy holders**.\n",
    "\n",
    "---\n",
    "\n",
    "### 8️⃣ Argmin & Argmax (`np.argmin(arr)` / `np.argmax(arr)`)  \n",
    "- **Who holds the fewest candies?** → index = 2  \n",
    "- **Who holds the most candies?** → index = 3  \n",
    "\n",
    "---\n",
    "\n",
    "### 9️⃣ Correlation (`np.corrcoef(arr1, arr2)`)  \n",
    "- Imagine a second party array `arr2 = [10, 20, 30, 40]`.  \n",
    "- Correlation tells you **if candies in party 1 and party 2 “dance together”** (move in sync).\n",
    "\n",
    "---\n",
    "\n",
    "### 🔟 Unique (`np.unique(arr)`)  \n",
    "- **How many different candy counts exist?** → `[2, 3, 5, 33]`  \n",
    "\n",
    "---\n",
    "\n",
    "### 1️⃣1️⃣ Difference (`np.diff(arr)`)  \n",
    "- **Difference between each guest’s candies:**  \n",
    "- `[5-3, 2-5, 33-2] = [2, -3, 31]`  \n",
    "\n",
    "---\n",
    "\n",
    "### 1️⃣2️⃣ Cumulative Sum (`np.cumsum(arr)`)  \n",
    "- **Running total of candies:**  \n",
    "- `[3, 3+5=8, 8+2=10, 10+33=43] = [3, 8, 10, 43]`  \n",
    "\n",
    "---\n",
    "\n",
    "### 1️⃣3️⃣ Linspace (`np.linspace(0, 10, 5)`)  \n",
    "- Imagine spreading **candies evenly on a table** → `[0, 2.5, 5, 7.5, 10]`  \n",
    "\n",
    "---\n",
    "\n",
    "### 1️⃣4️⃣ Logarithm (`np.log(arr)`)  \n",
    "- Transform candies **on a magic shrinking scale** → `[ln(3), ln(5), ln(2), ln(33)]`  \n",
    "- It squashes big numbers to a smaller, more manageable range.\n",
    "\n",
    "---\n",
    "\n",
    "### 1️⃣5️⃣ Exponential (`np.exp(arr)`)  \n",
    "- **Magic growing candies:** each candy multiplies by `e` that many times → `[e^3, e^5, e^2, e^33]`  \n",
    "\n",
    "---\n",
    "\n",
    "### 🎉 TL;DR Party Analogy\n",
    "- `mean`, `median`, `percentile` → **average and relative position**  \n",
    "- `std`, `var` → **how scattered the party is**  \n",
    "- `sum`, `prod`, `cumsum`, `diff` → **total and changes**  \n",
    "- `min`, `max`, `argmin`, `argmax`, `unique` → **special guests and candy uniqueness**  \n",
    "- `log`, `exp` → **magical transformation of candies**  \n",
    "- `linspace` → **evenly spread candies**  \n",
    "- `corrcoef` → **party dancing in sync**  \n",
    "\n",
    "Keep this analogy in mind, and you’ll **never forget what each NumPy function really does**! 🎈\n"
   ]
  },
  {
   "cell_type": "code",
   "execution_count": 1,
   "id": "26ec68ab-1f06-4981-9a8e-dabc2bae3468",
   "metadata": {},
   "outputs": [],
   "source": [
    "import numpy as np"
   ]
  },
  {
   "cell_type": "code",
   "execution_count": 2,
   "id": "788dec58-3dd7-4171-92ed-1175abd4eeb7",
   "metadata": {},
   "outputs": [],
   "source": [
    "arr = np.array([3, 5, 2, 33])"
   ]
  },
  {
   "cell_type": "code",
   "execution_count": 3,
   "id": "1ecdaa29-ae10-4db6-80b1-e015a83fd73a",
   "metadata": {},
   "outputs": [
    {
     "data": {
      "text/plain": [
       "np.float64(10.75)"
      ]
     },
     "execution_count": 3,
     "metadata": {},
     "output_type": "execute_result"
    }
   ],
   "source": [
    "np.mean(arr)"
   ]
  },
  {
   "cell_type": "code",
   "execution_count": 4,
   "id": "7eed6b10-7e79-48b0-b45c-3dd994df673d",
   "metadata": {},
   "outputs": [
    {
     "data": {
      "text/plain": [
       "np.float64(12.891373084353738)"
      ]
     },
     "execution_count": 4,
     "metadata": {},
     "output_type": "execute_result"
    }
   ],
   "source": [
    "np.std(arr)"
   ]
  },
  {
   "cell_type": "code",
   "execution_count": 5,
   "id": "f505dfc2-3103-42fe-88f2-97248d77d20f",
   "metadata": {},
   "outputs": [
    {
     "data": {
      "text/plain": [
       "np.float64(166.1875)"
      ]
     },
     "execution_count": 5,
     "metadata": {},
     "output_type": "execute_result"
    }
   ],
   "source": [
    "np.var(arr)\n",
    "\n",
    "\n",
    "# Explanation:\n",
    "\n",
    "# - Mean = (3+5+2+33)/4 = 43/4 = 10.75\n",
    "# - Differences from mean = [-7.75, -5.75, -8.75, 22.25]\n",
    "# - Squared differences = [60.06, 33.06, 76.56, 495.06]\n",
    "# - Average of squared differences = 187.25\n",
    "\n",
    "# So the variance is big because 33 is much larger than the others."
   ]
  },
  {
   "cell_type": "code",
   "execution_count": 6,
   "id": "f69b2d28-48ab-4792-8a50-00bfeb17e651",
   "metadata": {},
   "outputs": [
    {
     "data": {
      "text/plain": [
       "np.int64(2)"
      ]
     },
     "execution_count": 6,
     "metadata": {},
     "output_type": "execute_result"
    }
   ],
   "source": [
    "np.min(arr) # Smallest element in the array → 2."
   ]
  },
  {
   "cell_type": "code",
   "execution_count": 7,
   "id": "a50ec9d2-bfd5-4094-9ad1-e1c6a9c170db",
   "metadata": {},
   "outputs": [
    {
     "data": {
      "text/plain": [
       "np.int64(33)"
      ]
     },
     "execution_count": 7,
     "metadata": {},
     "output_type": "execute_result"
    }
   ],
   "source": [
    "np.max(arr) # Largest element → 33."
   ]
  },
  {
   "cell_type": "code",
   "execution_count": 8,
   "id": "74ee0bd9-11bb-47de-a33d-726a8836b5c5",
   "metadata": {},
   "outputs": [
    {
     "data": {
      "text/plain": [
       "np.int64(43)"
      ]
     },
     "execution_count": 8,
     "metadata": {},
     "output_type": "execute_result"
    }
   ],
   "source": [
    "np.sum(arr) # Adds everything: 3+5+2+33 = 43."
   ]
  },
  {
   "cell_type": "code",
   "execution_count": 9,
   "id": "a90f2775-b2f0-471d-955a-a7c0ad250712",
   "metadata": {},
   "outputs": [
    {
     "data": {
      "text/plain": [
       "np.int64(990)"
      ]
     },
     "execution_count": 9,
     "metadata": {},
     "output_type": "execute_result"
    }
   ],
   "source": [
    "np.prod(arr) # Multiplies everything: 3 × 5 × 2 × 33 = 990."
   ]
  },
  {
   "cell_type": "code",
   "execution_count": 10,
   "id": "7ac8fc72-a22b-49df-844d-3ba40ad6e4dd",
   "metadata": {},
   "outputs": [
    {
     "data": {
      "text/plain": [
       "np.float64(4.0)"
      ]
     },
     "execution_count": 10,
     "metadata": {},
     "output_type": "execute_result"
    }
   ],
   "source": [
    "np.median(arr)\n",
    "\n",
    "# Sorted array = [2, 3, 5, 33].\n",
    "# Median = average of middle two (3 and 5) = 4.0."
   ]
  },
  {
   "cell_type": "code",
   "execution_count": 11,
   "id": "462dd919-fa84-4481-9566-06c28fafb8ca",
   "metadata": {},
   "outputs": [
    {
     "data": {
      "text/plain": [
       "np.float64(4.0)"
      ]
     },
     "execution_count": 11,
     "metadata": {},
     "output_type": "execute_result"
    }
   ],
   "source": [
    "np.percentile(arr, 50)\n",
    "\n",
    "# 50th percentile = median.\n",
    "# Percentiles show “cut-off values”. For example, the 25th percentile is 25% of data below it."
   ]
  },
  {
   "cell_type": "code",
   "execution_count": 12,
   "id": "9a40f0a2-2d8f-44e7-912f-e05fa5f876af",
   "metadata": {},
   "outputs": [
    {
     "data": {
      "text/plain": [
       "np.int64(2)"
      ]
     },
     "execution_count": 12,
     "metadata": {},
     "output_type": "execute_result"
    }
   ],
   "source": [
    "np.argmin(arr) # 2 is the minimum, and its index in [3, 5, 2, 33] is 2."
   ]
  },
  {
   "cell_type": "code",
   "execution_count": 13,
   "id": "c0ed90b1-4a21-4ff2-826b-746de24f5e34",
   "metadata": {},
   "outputs": [
    {
     "data": {
      "text/plain": [
       "np.int64(3)"
      ]
     },
     "execution_count": 13,
     "metadata": {},
     "output_type": "execute_result"
    }
   ],
   "source": [
    "np.argmax(arr) # 33 is the maximum, at index 3."
   ]
  },
  {
   "cell_type": "code",
   "execution_count": 14,
   "id": "d43bf6c5-8d56-4005-bb7a-9f89453c1a96",
   "metadata": {},
   "outputs": [
    {
     "data": {
      "text/plain": [
       "array([[1., 1.],\n",
       "       [1., 1.]])"
      ]
     },
     "execution_count": 14,
     "metadata": {},
     "output_type": "execute_result"
    }
   ],
   "source": [
    "arr1 = np.array([1, 2, 3, 4])\n",
    "arr2 = np.array([10, 20, 30, 40])\n",
    "np.corrcoef(arr1, arr2)  # Result will be close to 1, meaning perfect positive correlation.\n",
    "# For a single arr you can just check correlation of arr with itself, which is always 1"
   ]
  },
  {
   "cell_type": "code",
   "execution_count": 15,
   "id": "ada627b8-8a3b-4371-89da-893ef2ae17c9",
   "metadata": {},
   "outputs": [],
   "source": [
    "my_arr = np.array([1,2,3,4,5,2,2,1])"
   ]
  },
  {
   "cell_type": "code",
   "execution_count": 16,
   "id": "4b1354aa-0faf-465f-96a6-28c858527b69",
   "metadata": {},
   "outputs": [
    {
     "data": {
      "text/plain": [
       "array([1, 2, 3, 4, 5])"
      ]
     },
     "execution_count": 16,
     "metadata": {},
     "output_type": "execute_result"
    }
   ],
   "source": [
    "np.unique(my_arr) # This returns only unique values"
   ]
  },
  {
   "cell_type": "code",
   "execution_count": 17,
   "id": "6cc5d50a-3676-4c34-b694-5eac5ffcf4c3",
   "metadata": {},
   "outputs": [
    {
     "data": {
      "text/plain": [
       "array([ 2, -3, 31])"
      ]
     },
     "execution_count": 17,
     "metadata": {},
     "output_type": "execute_result"
    }
   ],
   "source": [
    "np.diff(arr)\n",
    "\n",
    "# 5-3 = 2\n",
    "# 2-5 = -3\n",
    "# 33-2 = 31\n",
    "# So it shows the jumps between numbers."
   ]
  },
  {
   "cell_type": "code",
   "execution_count": 18,
   "id": "5d82bf70-e49c-48dd-9305-7dd78539ff85",
   "metadata": {},
   "outputs": [
    {
     "data": {
      "text/plain": [
       "array([ 3,  8, 10, 43])"
      ]
     },
     "execution_count": 18,
     "metadata": {},
     "output_type": "execute_result"
    }
   ],
   "source": [
    "np.cumsum(arr)\n",
    "\n",
    "# It keeps adding as you go:\n",
    "# 3 → 3\n",
    "# 3+5 → 8\n",
    "# 8+2 → 10\n",
    "# 10+33 → 43"
   ]
  },
  {
   "cell_type": "code",
   "execution_count": 19,
   "id": "56f4b787-239b-42d5-815a-a7d827fb846a",
   "metadata": {},
   "outputs": [
    {
     "data": {
      "text/plain": [
       "array([ 3., 13., 23., 33.])"
      ]
     },
     "execution_count": 19,
     "metadata": {},
     "output_type": "execute_result"
    }
   ],
   "source": [
    "np.linspace(3, 33, 4) # Divides the range from 3 to 33 into 4 equal steps."
   ]
  },
  {
   "cell_type": "code",
   "execution_count": 20,
   "id": "5a40ce01-874d-42ea-9968-04b885dedb30",
   "metadata": {},
   "outputs": [
    {
     "data": {
      "text/plain": [
       "array([1.09861229, 1.60943791, 0.69314718, 3.49650756])"
      ]
     },
     "execution_count": 20,
     "metadata": {},
     "output_type": "execute_result"
    }
   ],
   "source": [
    "np.log(arr)\n",
    "\n",
    "#Logarithms compress big numbers.\n",
    "# Example: log(33) ≈ 3.5, while log(2) ≈ 0.69."
   ]
  },
  {
   "cell_type": "code",
   "execution_count": 21,
   "id": "bbb5c21f-e636-444a-9c49-1397a5312011",
   "metadata": {},
   "outputs": [
    {
     "data": {
      "text/plain": [
       "array([2.00855369e+01, 1.48413159e+02, 7.38905610e+00, 2.14643580e+14])"
      ]
     },
     "execution_count": 21,
     "metadata": {},
     "output_type": "execute_result"
    }
   ],
   "source": [
    "np.exp(arr)\n",
    "\n",
    "# This is e^x for each element. It grows very fast.\n",
    "# np.exp(33) is a huge number (~2.146e+14)."
   ]
  }
 ],
 "metadata": {
  "kernelspec": {
   "display_name": "Python 3 (ipykernel)",
   "language": "python",
   "name": "python3"
  },
  "language_info": {
   "codemirror_mode": {
    "name": "ipython",
    "version": 3
   },
   "file_extension": ".py",
   "mimetype": "text/x-python",
   "name": "python",
   "nbconvert_exporter": "python",
   "pygments_lexer": "ipython3",
   "version": "3.13.5"
  }
 },
 "nbformat": 4,
 "nbformat_minor": 5
}
