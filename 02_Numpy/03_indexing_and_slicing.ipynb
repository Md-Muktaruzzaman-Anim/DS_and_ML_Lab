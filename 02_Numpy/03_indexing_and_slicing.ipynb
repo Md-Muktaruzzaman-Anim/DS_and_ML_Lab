{
 "cells": [
  {
   "cell_type": "markdown",
   "id": "f7bfcbfd-19b6-47b3-81a2-27cee4b807b1",
   "metadata": {},
   "source": [
    "# 🎯 Indexing and Slicing in NumPy\n",
    "\n",
    "Indexing and slicing in NumPy works similarly to Python lists, but with **extra power** and **efficiency**.  \n",
    "\n",
    "---\n",
    "\n",
    "## 1️⃣ Indexing (Same as Python Lists)\n",
    "\n",
    "```python\n",
    "import numpy as np\n",
    "\n",
    "arr = np.array([10, 20, 30, 40])\n",
    "print(arr[0])   # 10 (first element)\n",
    "print(arr[-1])  # 40 (last element)\n",
    "````\n",
    "\n",
    "---\n",
    "\n",
    "## 2️⃣ Slicing (Extracting Parts of an Array)\n",
    "\n",
    "```python\n",
    "arr = np.array([10, 20, 30, 40, 50])\n",
    "\n",
    "print(arr[1:4])   # [20 30 40] → slice from index 1 to 3\n",
    "print(arr[:3])    # [10 20 30] → first 3 elements\n",
    "print(arr[::2])   # [10 30 50] → every 2nd element\n",
    "```\n",
    "\n",
    "---\n",
    "\n",
    "## ⚠️ Important: Slicing Returns a **View, Not a Copy**\n",
    "\n",
    "In **Python lists**, slicing creates a copy.\n",
    "But in **NumPy arrays**, slicing creates a **view** that shares memory with the original array.\n",
    "\n",
    "👉 Changes in the slice **affect the original** array!\n",
    "\n",
    "```python\n",
    "arr = np.array([10, 20, 30, 40, 50])\n",
    "sliced = arr[1:4]\n",
    "sliced[0] = 999\n",
    "\n",
    "print(arr)  \n",
    "# [10 999 30 40 50]\n",
    "```\n",
    "\n",
    "### Why?\n",
    "\n",
    "* **Memory Efficiency** → Avoids unnecessary copies\n",
    "* **Performance** → Faster access & manipulation on large datasets\n",
    "\n",
    "💡 Use `.copy()` if you need an independent array.\n",
    "\n",
    "```python\n",
    "copy_arr = arr[1:4].copy()\n",
    "```\n",
    "\n",
    "---\n",
    "\n",
    "## 3️⃣ Fancy Indexing\n",
    "\n",
    "Fancy indexing lets you pick multiple elements **by index positions**.\n",
    "\n",
    "```python\n",
    "arr = np.array([10, 20, 30, 40, 50])\n",
    "idx = [0, 2, 4]\n",
    "print(arr[idx])  # [10 30 50]\n",
    "```\n",
    "\n",
    "---\n",
    "\n",
    "## 4️⃣ Boolean Masking (Filtering Data)\n",
    "\n",
    "You can use conditions to extract values that meet certain criteria.\n",
    "\n",
    "```python\n",
    "arr = np.array([10, 20, 30, 40, 50])\n",
    "mask = arr > 25\n",
    "print(mask)      # [False False  True  True  True]\n",
    "print(arr[mask]) # [30 40 50]\n",
    "```\n",
    "\n",
    "✅ This is extremely powerful for **filtering large datasets** efficiently.\n",
    "\n",
    "---\n",
    "\n",
    "## 📌 Summary\n",
    "\n",
    "* NumPy arrays are **faster and more memory-efficient** than lists.\n",
    "* Use **indexing & slicing** for efficient data access.\n",
    "* **Slicing returns a view** (shared memory). Use `.copy()` for independence.\n",
    "* **Fancy indexing** selects multiple elements at once.\n",
    "* **Boolean masking** filters data based on conditions.\n",
    "\n",
    "---\n",
    "\n",
    "## 📝 Exercises for Practice\n",
    "\n",
    "1. Create a **3×3 array** filled with random numbers and print its shape.\n",
    "2. Convert an array of floats `[1.1, 2.2, 3.3]` into integers.\n",
    "3. Use **fancy indexing** to extract even numbers from `[1, 2, 3, 4, 5, 6]`.\n",
    "4. Reshape a 1D array of size 9 into a **3×3 matrix**.\n",
    "5. Use **boolean masking** to filter numbers greater than 50 in an array.\n",
    "\n",
    "---"
   ]
  },
  {
   "cell_type": "markdown",
   "id": "460b6a89-e8aa-4768-837a-64c1fca7c98b",
   "metadata": {},
   "source": [
    "# Indexing and slicing"
   ]
  },
  {
   "cell_type": "code",
   "execution_count": 1,
   "id": "0ee102e5-b08b-463c-8ba6-6fef540847c3",
   "metadata": {},
   "outputs": [],
   "source": [
    "import numpy as np"
   ]
  },
  {
   "cell_type": "code",
   "execution_count": 2,
   "id": "dcc648e1-bcee-4df9-981d-edaaeeced093",
   "metadata": {},
   "outputs": [],
   "source": [
    "arr = np.array([[1, 2, 3], [4, 5, 6], [7, 8, 9], [10, 11, 12]])"
   ]
  },
  {
   "cell_type": "code",
   "execution_count": 3,
   "id": "78cea6e9-36a9-4350-bf94-fea95bbed3c7",
   "metadata": {},
   "outputs": [
    {
     "data": {
      "text/plain": [
       "array([[ 1,  2,  3],\n",
       "       [ 4,  5,  6],\n",
       "       [ 7,  8,  9],\n",
       "       [10, 11, 12]])"
      ]
     },
     "execution_count": 3,
     "metadata": {},
     "output_type": "execute_result"
    }
   ],
   "source": [
    "arr"
   ]
  },
  {
   "cell_type": "code",
   "execution_count": 4,
   "id": "d86da87e-14a4-42f2-8110-21ec45d58d51",
   "metadata": {},
   "outputs": [],
   "source": [
    "flat = arr.flatten()"
   ]
  },
  {
   "cell_type": "code",
   "execution_count": 5,
   "id": "41f0b31f-2316-4e69-afb2-e6b38871257d",
   "metadata": {},
   "outputs": [
    {
     "data": {
      "text/plain": [
       "array([ 1,  2,  3,  4,  5,  6,  7,  8,  9, 10, 11, 12])"
      ]
     },
     "execution_count": 5,
     "metadata": {},
     "output_type": "execute_result"
    }
   ],
   "source": [
    "flat"
   ]
  },
  {
   "cell_type": "code",
   "execution_count": 6,
   "id": "8d72d58a-348d-422e-bf1c-bd40cd4a16ea",
   "metadata": {},
   "outputs": [
    {
     "data": {
      "text/plain": [
       "np.int64(1)"
      ]
     },
     "execution_count": 6,
     "metadata": {},
     "output_type": "execute_result"
    }
   ],
   "source": [
    "flat[0]"
   ]
  },
  {
   "cell_type": "code",
   "execution_count": 7,
   "id": "d6bcce37-44ae-48b9-94b5-dee21b770657",
   "metadata": {},
   "outputs": [
    {
     "data": {
      "text/plain": [
       "array([4, 5, 6])"
      ]
     },
     "execution_count": 7,
     "metadata": {},
     "output_type": "execute_result"
    }
   ],
   "source": [
    "flat[3:6] # slice from index 3 to 5"
   ]
  },
  {
   "cell_type": "code",
   "execution_count": 8,
   "id": "78927937-2c87-4fc3-94cf-7ae019d01e17",
   "metadata": {},
   "outputs": [
    {
     "data": {
      "text/plain": [
       "array([1, 2, 3, 4, 5])"
      ]
     },
     "execution_count": 8,
     "metadata": {},
     "output_type": "execute_result"
    }
   ],
   "source": [
    "flat[:5] # same as flat[0:5], first 5 elements"
   ]
  },
  {
   "cell_type": "code",
   "execution_count": 9,
   "id": "d9801a5f-0d98-4038-b368-5f91f637168d",
   "metadata": {},
   "outputs": [
    {
     "data": {
      "text/plain": [
       "array([ 4,  5,  6,  7,  8,  9, 10, 11, 12])"
      ]
     },
     "execution_count": 9,
     "metadata": {},
     "output_type": "execute_result"
    }
   ],
   "source": [
    "flat[3:] # same as flat[3:12]"
   ]
  },
  {
   "cell_type": "code",
   "execution_count": 10,
   "id": "db3232f9-b874-48b3-bda6-8b09da625aa4",
   "metadata": {},
   "outputs": [
    {
     "data": {
      "text/plain": [
       "array([ 1,  3,  5,  7,  9, 11])"
      ]
     },
     "execution_count": 10,
     "metadata": {},
     "output_type": "execute_result"
    }
   ],
   "source": [
    "flat[::2] # every 2nd element"
   ]
  },
  {
   "cell_type": "code",
   "execution_count": 11,
   "id": "ac6369ff-5df8-4609-80da-f7f5535d9304",
   "metadata": {},
   "outputs": [
    {
     "data": {
      "text/plain": [
       "array([ 1,  2,  3,  4,  5,  6,  7,  8,  9, 10, 11, 12])"
      ]
     },
     "execution_count": 11,
     "metadata": {},
     "output_type": "execute_result"
    }
   ],
   "source": [
    "flat"
   ]
  },
  {
   "cell_type": "code",
   "execution_count": 12,
   "id": "e32b8b4c-a069-468b-aac4-ea7252bd465e",
   "metadata": {},
   "outputs": [],
   "source": [
    "b = flat[3:7]"
   ]
  },
  {
   "cell_type": "code",
   "execution_count": 13,
   "id": "a78a49cd-6a85-4a59-8b91-35824fd82641",
   "metadata": {},
   "outputs": [
    {
     "data": {
      "text/plain": [
       "array([4, 5, 6, 7])"
      ]
     },
     "execution_count": 13,
     "metadata": {},
     "output_type": "execute_result"
    }
   ],
   "source": [
    "b"
   ]
  },
  {
   "cell_type": "code",
   "execution_count": 14,
   "id": "6e76732e-e44e-4065-9238-0c6ac1e93179",
   "metadata": {},
   "outputs": [],
   "source": [
    "b[0] = 444"
   ]
  },
  {
   "cell_type": "code",
   "execution_count": 15,
   "id": "fecb6040-9c85-4f4a-bd39-4d1d8b722522",
   "metadata": {},
   "outputs": [
    {
     "data": {
      "text/plain": [
       "array([444,   5,   6,   7])"
      ]
     },
     "execution_count": 15,
     "metadata": {},
     "output_type": "execute_result"
    }
   ],
   "source": [
    "b"
   ]
  },
  {
   "cell_type": "code",
   "execution_count": 16,
   "id": "833ed53b-54b8-48d2-a81a-321d91c0313c",
   "metadata": {},
   "outputs": [
    {
     "data": {
      "text/plain": [
       "array([  1,   2,   3, 444,   5,   6,   7,   8,   9,  10,  11,  12])"
      ]
     },
     "execution_count": 16,
     "metadata": {},
     "output_type": "execute_result"
    }
   ],
   "source": [
    "flat"
   ]
  },
  {
   "cell_type": "code",
   "execution_count": 17,
   "id": "29a6876d-d617-45cf-82d0-fd4842ab15a5",
   "metadata": {},
   "outputs": [],
   "source": [
    "b = flat[3:7].copy() # This is not a slice because we are using copy method to get the copy."
   ]
  },
  {
   "cell_type": "code",
   "execution_count": 18,
   "id": "80a3bcf4-b6db-4156-9e63-fd83e81f183a",
   "metadata": {},
   "outputs": [
    {
     "data": {
      "text/plain": [
       "array([444,   5,   6,   7])"
      ]
     },
     "execution_count": 18,
     "metadata": {},
     "output_type": "execute_result"
    }
   ],
   "source": [
    "b"
   ]
  },
  {
   "cell_type": "code",
   "execution_count": 19,
   "id": "95769e14-4f13-483e-a313-a5cdf35e5e0b",
   "metadata": {},
   "outputs": [],
   "source": [
    "b[0] = 445566"
   ]
  },
  {
   "cell_type": "code",
   "execution_count": 20,
   "id": "be191e9b-6d1c-4e31-abae-766d39279ac9",
   "metadata": {},
   "outputs": [
    {
     "data": {
      "text/plain": [
       "array([445566,      5,      6,      7])"
      ]
     },
     "execution_count": 20,
     "metadata": {},
     "output_type": "execute_result"
    }
   ],
   "source": [
    "b"
   ]
  },
  {
   "cell_type": "code",
   "execution_count": 21,
   "id": "1eedff7c-d605-46c9-be37-dd1e7d55c267",
   "metadata": {},
   "outputs": [
    {
     "data": {
      "text/plain": [
       "array([  1,   2,   3, 444,   5,   6,   7,   8,   9,  10,  11,  12])"
      ]
     },
     "execution_count": 21,
     "metadata": {},
     "output_type": "execute_result"
    }
   ],
   "source": [
    "flat"
   ]
  },
  {
   "cell_type": "markdown",
   "id": "6be75d4d-04cc-450d-b679-072254ef9870",
   "metadata": {},
   "source": [
    "# Fancy Indexing & Boolean Masking"
   ]
  },
  {
   "cell_type": "markdown",
   "id": "076f7e34-9633-4132-8e70-442f189fc490",
   "metadata": {},
   "source": [
    "## 1. Fancy Indexing (Select Multiple Elements)"
   ]
  },
  {
   "cell_type": "code",
   "execution_count": 22,
   "id": "71fc5115-0f37-49ea-8679-ed4cb4550607",
   "metadata": {},
   "outputs": [],
   "source": [
    "arr1 = np.array([1, 54, 23, 53, 2, 3, 34, 5, 6])"
   ]
  },
  {
   "cell_type": "code",
   "execution_count": 23,
   "id": "a6a28041-e08a-4952-9884-ef45974ea5b7",
   "metadata": {},
   "outputs": [
    {
     "data": {
      "text/plain": [
       "array([54,  2, 34])"
      ]
     },
     "execution_count": 23,
     "metadata": {},
     "output_type": "execute_result"
    }
   ],
   "source": [
    "arr1[[1, 4, 6]]  # Indices to select"
   ]
  },
  {
   "cell_type": "markdown",
   "id": "caff10a1-bbc4-43ff-9b96-64f565a6a44e",
   "metadata": {},
   "source": [
    "## 2. Boolean Masking (Filter Data)"
   ]
  },
  {
   "cell_type": "code",
   "execution_count": 24,
   "id": "7032cb92-1f60-4d0c-bdec-28321ee61825",
   "metadata": {},
   "outputs": [
    {
     "name": "stdout",
     "output_type": "stream",
     "text": [
      "[30 40 50]\n"
     ]
    }
   ],
   "source": [
    "arr2 = np.array([10, 20, 30, 40, 50])\n",
    "mask = arr2 > 25  # Condition: values greater than 25\n",
    "print(arr2[mask])  # [30 40 50]"
   ]
  },
  {
   "cell_type": "code",
   "execution_count": 25,
   "id": "f89b1068-44fd-4a1f-8fec-8b62d10934b6",
   "metadata": {},
   "outputs": [
    {
     "data": {
      "text/plain": [
       "array([54, 53, 34])"
      ]
     },
     "execution_count": 25,
     "metadata": {},
     "output_type": "execute_result"
    }
   ],
   "source": [
    "arr1[arr1>23]"
   ]
  }
 ],
 "metadata": {
  "kernelspec": {
   "display_name": "Python 3 (ipykernel)",
   "language": "python",
   "name": "python3"
  },
  "language_info": {
   "codemirror_mode": {
    "name": "ipython",
    "version": 3
   },
   "file_extension": ".py",
   "mimetype": "text/x-python",
   "name": "python",
   "nbconvert_exporter": "python",
   "pygments_lexer": "ipython3",
   "version": "3.13.5"
  }
 },
 "nbformat": 4,
 "nbformat_minor": 5
}
