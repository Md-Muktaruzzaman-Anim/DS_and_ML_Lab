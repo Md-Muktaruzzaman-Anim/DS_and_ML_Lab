{
 "cells": [
  {
   "cell_type": "markdown",
   "id": "b2b421c1-929f-4ad2-b08e-e73cc555135d",
   "metadata": {},
   "source": [
    "# 🔄 Indexing and Axes in Multidimensional NumPy Arrays\n",
    "\n",
    "NumPy allows you to efficiently work with **multidimensional arrays**, where **indexing** and **axis manipulation** are essential.  \n",
    "This is crucial for **data science** and **machine learning**, where datasets often come in 2D (tables) or 3D (images, sequences).\n",
    "\n",
    "---\n",
    "\n",
    "## 1️⃣ Understanding Axes in NumPy\n",
    "\n",
    "Each dimension in a NumPy array is called an **axis**, numbered from `0`.\n",
    "\n",
    "- **1D array** → 1 axis (`axis=0`)  \n",
    "- **2D array** → 2 axes (`axis=0` → rows, `axis=1` → columns)  \n",
    "- **3D array** → 3 axes (`axis=0` → depth, `axis=1` → rows, `axis=2` → columns)  \n",
    "\n",
    "### Example: Axes in a 2D Array\n",
    "```python\n",
    "import numpy as np\n",
    "\n",
    "arr = np.array([[1, 2, 3],\n",
    "                [4, 5, 6],\n",
    "                [7, 8, 9]])\n",
    "\n",
    "print(arr)\n",
    "````\n",
    "\n",
    "Output:\n",
    "\n",
    "```\n",
    "[[1 2 3]\n",
    " [4 5 6]\n",
    " [7 8 9]]\n",
    "```\n",
    "\n",
    "* **Axis 0 (rows)** → operations move **down the columns**\n",
    "* **Axis 1 (columns)** → operations move **across the rows**\n",
    "\n",
    "```python\n",
    "print(np.sum(arr, axis=0))  # Sum down columns\n",
    "print(np.sum(arr, axis=1))  # Sum across rows\n",
    "```\n",
    "\n",
    "Output:\n",
    "\n",
    "```\n",
    "[12 15 18]   # Column-wise sum\n",
    "[ 6 15 24]   # Row-wise sum\n",
    "```\n",
    "\n",
    "---\n",
    "\n",
    "## 2️⃣ Indexing in Multidimensional Arrays\n",
    "\n",
    "You can access elements using **row and column indices**.\n",
    "\n",
    "```python\n",
    "# Accessing a single element\n",
    "print(arr[1, 2])  # Row 1, Column 2 → 6\n",
    "```\n",
    "\n",
    "You can also use slicing:\n",
    "\n",
    "```python\n",
    "print(arr[0:2, 1:3])  # First 2 rows, last 2 columns\n",
    "```\n",
    "\n",
    "Output:\n",
    "\n",
    "```\n",
    "[[2 3]\n",
    " [5 6]]\n",
    "```\n",
    "\n",
    "---\n",
    "\n",
    "## 3️⃣ Indexing in 3D Arrays\n",
    "\n",
    "For **3D arrays**, the first index refers to the **depth (sheet)**.\n",
    "\n",
    "```python\n",
    "arr3D = np.array([[[1, 2, 3], [4, 5, 6]],\n",
    "                  [[7, 8, 9], [10, 11, 12]]])\n",
    "\n",
    "print(arr3D.shape)  # (2, 2, 3) → (depth, rows, columns)\n",
    "```\n",
    "\n",
    "Accessing elements:\n",
    "\n",
    "```python\n",
    "print(arr3D[0, 1, 2])   # First sheet, 2nd row, 3rd column → 6\n",
    "print(arr3D[:, 0, :])   # First row from both sheets\n",
    "```\n",
    "\n",
    "Output:\n",
    "\n",
    "```\n",
    "[[1 2 3]\n",
    " [7 8 9]]\n",
    "```\n",
    "\n",
    "---\n",
    "\n",
    "## 4️⃣ Practical Examples: Selecting Data Along Axes\n",
    "\n",
    "### Example 1: Get all rows of the first column\n",
    "\n",
    "```python\n",
    "first_col = arr[:, 0]\n",
    "print(first_col)\n",
    "```\n",
    "\n",
    "Output:\n",
    "\n",
    "```\n",
    "[1 4 7]\n",
    "```\n",
    "\n",
    "### Example 2: First row from each \"sheet\" in a 3D array\n",
    "\n",
    "```python\n",
    "first_rows = arr3D[:, 0, :]\n",
    "print(first_rows)\n",
    "```\n",
    "\n",
    "Output:\n",
    "\n",
    "```\n",
    "[[1 2 3]\n",
    " [7 8 9]]\n",
    "```\n",
    "\n",
    "---\n",
    "\n",
    "## 5️⃣ Changing Data Along an Axis\n",
    "\n",
    "You can directly **modify elements along an axis**.\n",
    "\n",
    "```python\n",
    "arr[:, 1] = 0   # Replace all values in column 1 with 0\n",
    "print(arr)\n",
    "```\n",
    "\n",
    "Output:\n",
    "\n",
    "```\n",
    "[[1 0 3]\n",
    " [4 0 6]\n",
    " [7 0 9]]\n",
    "```\n",
    "\n",
    "---\n",
    "\n",
    "## 📌 Summary\n",
    "\n",
    "* **Axis 0 = rows** (vertical), **Axis 1 = columns** (horizontal)\n",
    "* Indexing: `arr[row, col]` (2D), `arr[depth, row, col]` (3D)\n",
    "* **Slicing** extracts subarrays without copying data\n",
    "* Axis operations allow efficient manipulation **without loops**\n",
    "\n",
    "---"
   ]
  },
  {
   "cell_type": "code",
   "execution_count": 1,
   "id": "c4b323d6-ee87-454b-84d7-461635aae2ea",
   "metadata": {},
   "outputs": [],
   "source": [
    "import numpy as np"
   ]
  },
  {
   "cell_type": "code",
   "execution_count": 2,
   "id": "e05f8cbf-133e-4da2-9dc5-542039ed46d8",
   "metadata": {},
   "outputs": [],
   "source": [
    "arr = np.array([[1, 2, 3], \n",
    "                [4, 5, 6], \n",
    "                [7, 8, 9]])"
   ]
  },
  {
   "cell_type": "code",
   "execution_count": 3,
   "id": "0d600ef5-f76e-473b-98ed-30ef7addab72",
   "metadata": {},
   "outputs": [
    {
     "data": {
      "text/plain": [
       "array([[1, 2, 3],\n",
       "       [4, 5, 6],\n",
       "       [7, 8, 9]])"
      ]
     },
     "execution_count": 3,
     "metadata": {},
     "output_type": "execute_result"
    }
   ],
   "source": [
    "arr"
   ]
  },
  {
   "cell_type": "code",
   "execution_count": 4,
   "id": "758a333d-aadd-4c95-9b41-0cee9591cb2b",
   "metadata": {},
   "outputs": [
    {
     "data": {
      "text/plain": [
       "array([1, 2, 3])"
      ]
     },
     "execution_count": 4,
     "metadata": {},
     "output_type": "execute_result"
    }
   ],
   "source": [
    "arr[0]"
   ]
  },
  {
   "cell_type": "code",
   "execution_count": 5,
   "id": "5ad900f4-12b8-4a97-bcd3-1d23586e56fc",
   "metadata": {},
   "outputs": [
    {
     "data": {
      "text/plain": [
       "array([12, 15, 18])"
      ]
     },
     "execution_count": 5,
     "metadata": {},
     "output_type": "execute_result"
    }
   ],
   "source": [
    "np.sum(arr, axis=0)   # Sum along rows (down each column)"
   ]
  },
  {
   "cell_type": "code",
   "execution_count": 6,
   "id": "4fbfeb4e-327a-4d66-8f48-05c78efb1449",
   "metadata": {},
   "outputs": [
    {
     "data": {
      "text/plain": [
       "array([ 6, 15, 24])"
      ]
     },
     "execution_count": 6,
     "metadata": {},
     "output_type": "execute_result"
    }
   ],
   "source": [
    "np.sum(arr, axis=1)  # Sum along columns (across each row) "
   ]
  },
  {
   "cell_type": "code",
   "execution_count": 7,
   "id": "c620c91f-2c64-4ecc-b5d3-f203dd19762c",
   "metadata": {},
   "outputs": [
    {
     "data": {
      "text/plain": [
       "np.int64(3)"
      ]
     },
     "execution_count": 7,
     "metadata": {},
     "output_type": "execute_result"
    }
   ],
   "source": [
    "arr[0][2]"
   ]
  },
  {
   "cell_type": "code",
   "execution_count": 9,
   "id": "c5748a56-94cd-40d9-9e89-61239b742887",
   "metadata": {},
   "outputs": [
    {
     "data": {
      "text/plain": [
       "array([[2, 3],\n",
       "       [5, 6]])"
      ]
     },
     "execution_count": 9,
     "metadata": {},
     "output_type": "execute_result"
    }
   ],
   "source": [
    "arr[0:2, 1:3]  # Extracts first 2 rows and last 2 columns"
   ]
  },
  {
   "cell_type": "code",
   "execution_count": 17,
   "id": "d0aafdbc-2800-49bd-aea9-7381a0baedee",
   "metadata": {},
   "outputs": [],
   "source": [
    "arr3D = np.array([\n",
    "    [[1, 2, 3],\n",
    "     [4, 5, 6]],\n",
    "                  \n",
    "[[7, 8, 9],\n",
    " [10, 11, 12]]\n",
    "])"
   ]
  },
  {
   "cell_type": "code",
   "execution_count": 18,
   "id": "bf7e121e-f213-443e-8ab4-2b11c47702f4",
   "metadata": {},
   "outputs": [
    {
     "data": {
      "text/plain": [
       "array([[1, 2, 3],\n",
       "       [7, 8, 9]])"
      ]
     },
     "execution_count": 18,
     "metadata": {},
     "output_type": "execute_result"
    }
   ],
   "source": [
    "# Output of arr3D.shape is → (depth, rows, columns)\n",
    "arr3D[:, 0, :]"
   ]
  },
  {
   "cell_type": "code",
   "execution_count": 19,
   "id": "8473b235-3766-4300-9c6b-ca0ba00d502e",
   "metadata": {},
   "outputs": [],
   "source": [
    "arr3D[:, 0, :] = 0"
   ]
  },
  {
   "cell_type": "code",
   "execution_count": 20,
   "id": "bb14805c-0459-4726-8efc-589e3c7932d0",
   "metadata": {},
   "outputs": [
    {
     "data": {
      "text/plain": [
       "array([[[ 0,  0,  0],\n",
       "        [ 4,  5,  6]],\n",
       "\n",
       "       [[ 0,  0,  0],\n",
       "        [10, 11, 12]]])"
      ]
     },
     "execution_count": 20,
     "metadata": {},
     "output_type": "execute_result"
    }
   ],
   "source": [
    "arr3D"
   ]
  }
 ],
 "metadata": {
  "kernelspec": {
   "display_name": "Python 3 (ipykernel)",
   "language": "python",
   "name": "python3"
  },
  "language_info": {
   "codemirror_mode": {
    "name": "ipython",
    "version": 3
   },
   "file_extension": ".py",
   "mimetype": "text/x-python",
   "name": "python",
   "nbconvert_exporter": "python",
   "pygments_lexer": "ipython3",
   "version": "3.13.5"
  }
 },
 "nbformat": 4,
 "nbformat_minor": 5
}
