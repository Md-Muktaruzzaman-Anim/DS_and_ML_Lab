


import numpy as np


!pip install numpy


arr = np.array([1, 3, 4])


arr





arr1 = np.array([1, 2, 3, 4, 5])  # 1D array
arr2 = np.array([[1, 2, 3], [4, 5, 6]])  # 2D array

print(arr1)
print(arr2)





np.zeros((3, 4))    # 3x4 array of zeros


np.ones((2, 4))     # 2x4 array of ones


np.full((4, 6), 8)  # 4x6 array filled with 8


np.eye(4)           # 4x4 identity matrix


np.arange(1, 10, 2) # [1, 3, 5, 7, 9] (like range)


np.linspace(0, 1, 5) # [0. 0.25 0.5 0.75 1.] (evenly spaced)





myarr = np.array([[1, 2, 3], [4, 5, 6], [7, 8, 9], [11, 12, 13]])


myarr


print("Shape:", myarr.shape)   # (4, 3) → 4 rows, 3 columns


print("Size:", myarr.size)     # 12 → total elements


print("Dimensions:", myarr.ndim) # 2 → 2D array


print("Data type:", myarr.dtype) # int64 (or int32 on Windows)





myarr = np.array([[1, 2, 3], [4, 5, 6], [7, 8, 9], [11, 12, 13]], dtype = 'float64')


myarr   # Convert int to float


print("Data type:", myarr.dtype) # float64 (or float32 on Windows)


n = myarr.astype('float32')


n.dtype


myarr.dtype





myarr = np.array([[1, 2, 3], [4, 5, 6], [7, 8, 9], [11, 12, 13]])


myarr.shape


reshaped = myarr.reshape((3,4))  # Change shape


reshaped


myarr


myarr.flatten()  # Convert 2D → 1D
