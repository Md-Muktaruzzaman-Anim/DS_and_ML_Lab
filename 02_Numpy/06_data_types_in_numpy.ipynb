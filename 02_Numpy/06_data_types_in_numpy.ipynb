{
 "cells": [
  {
   "cell_type": "markdown",
   "id": "1dc77bda-d4a6-4600-8f36-986406cca164",
   "metadata": {},
   "source": [
    "# 📊 Data Types in NumPy\n",
    "\n",
    "NumPy arrays are **homogeneous**, meaning they can only store elements of the same type.  \n",
    "This is different from Python lists, which can hold mixed data types.  \n",
    "Understanding NumPy’s **data types (dtypes)** is crucial for optimizing **memory usage** and **performance**.\n",
    "\n",
    "---\n",
    "\n",
    "## 1. Introduction to NumPy Data Types\n",
    "\n",
    "**Common Data Types in NumPy:**\n",
    "- `int32`, `int64` → Integer types with different bit sizes  \n",
    "- `float32`, `float64` → Floating-point types with different precision  \n",
    "- `bool` → Boolean data type  \n",
    "- `complex64`, `complex128` → Complex number types  \n",
    "- `object` → For storing Python objects (e.g., dictionaries, lists, strings)\n",
    "\n",
    "👉 You can check the dtype of an array using the `.dtype` attribute.\n",
    "\n",
    "```python\n",
    "import numpy as np\n",
    "\n",
    "arr = np.array([1, 2, 3, 4, 5])\n",
    "print(arr.dtype)  # Output: int64 (or int32 depending on the system)\n",
    "````\n",
    "\n",
    "---\n",
    "\n",
    "## 2. Changing Data Types\n",
    "\n",
    "You can **cast (convert)** the data type of an array using `.astype()`.\n",
    "This is useful for specific operations or to reduce memory usage.\n",
    "\n",
    "### Example: Converting Float to Int\n",
    "\n",
    "```python\n",
    "arr = np.array([1.5, 2.7, 3.9])\n",
    "print(arr.dtype)  # float64\n",
    "\n",
    "arr_int = arr.astype(np.int32)\n",
    "print(arr_int)         # [1 2 3]\n",
    "print(arr_int.dtype)   # int32\n",
    "```\n",
    "\n",
    "### Example: Downcasting to Save Memory\n",
    "\n",
    "```python\n",
    "arr_large = np.array([1000000, 2000000, 3000000], dtype=np.int64)\n",
    "arr_small = arr_large.astype(np.int32)\n",
    "\n",
    "print(arr_small)        # [1000000 2000000 3000000]\n",
    "print(arr_small.dtype)  # int32\n",
    "```\n",
    "\n",
    "---\n",
    "\n",
    "## 3. Why Data Types Matter in NumPy\n",
    "\n",
    "* **Memory Usage** → Smaller dtypes use less memory.\n",
    "* **Performance** → Operations are faster with smaller dtypes.\n",
    "* **Precision** → Choosing the correct dtype avoids loss of accuracy.\n",
    "\n",
    "### Example: Memory Usage\n",
    "\n",
    "```python\n",
    "arr_int64 = np.array([1, 2, 3], dtype=np.int64)\n",
    "arr_int32 = np.array([1, 2, 3], dtype=np.int32)\n",
    "\n",
    "print(arr_int64.nbytes)  # 24 bytes (3 elements * 8 bytes)\n",
    "print(arr_int32.nbytes)  # 12 bytes (3 elements * 4 bytes)\n",
    "```\n",
    "\n",
    "---\n",
    "\n",
    "## 4. String Data Type in NumPy\n",
    "\n",
    "Although NumPy is **optimized for numbers**, you can store strings with `dtype='U'` (Unicode).\n",
    "However, string handling in NumPy is **less efficient** than Python lists.\n",
    "\n",
    "```python\n",
    "arr = np.array(['apple', 'banana', 'cherry'], dtype='U10')\n",
    "print(arr)\n",
    "```\n",
    "\n",
    "---\n",
    "\n",
    "## 5. Complex Numbers\n",
    "\n",
    "NumPy supports **complex numbers** (`a + bj` form).\n",
    "\n",
    "```python\n",
    "arr = np.array([1 + 2j, 3 + 4j, 5 + 6j], dtype='complex128')\n",
    "print(arr)\n",
    "```\n",
    "\n",
    "---\n",
    "\n",
    "## 6. Object Data Type\n",
    "\n",
    "If you need to store **mixed types** (dicts, lists, strings), use `dtype=object`.\n",
    "⚠️ But note: this sacrifices performance.\n",
    "\n",
    "```python\n",
    "arr = np.array([{'a': 1}, [1, 2, 3], 'hello'], dtype=object)\n",
    "print(arr)\n",
    "```\n",
    "\n",
    "---\n",
    "\n",
    "## 7. Choosing the Right Data Type\n",
    "\n",
    "✅ **Optimize Memory** → Use the smallest dtype that fits your data.\n",
    "✅ **Improve Performance** → Smaller dtypes are faster.\n",
    "✅ **Ensure Precision** → Avoid truncating decimals or losing important values.\n",
    "\n",
    "---\n",
    "\n",
    "## 🔑 Summary\n",
    "\n",
    "* NumPy arrays are **homogeneous**.\n",
    "* Use `.astype()` to **change dtypes** and optimize memory/performance.\n",
    "* Data types affect **memory usage, performance, and precision**.\n",
    "* Use `complex` and `object` dtypes **carefully**, as they cost more memory and speed.\n",
    "\n",
    "---\n"
   ]
  },
  {
   "cell_type": "code",
   "execution_count": 1,
   "id": "1d8b6597-592f-4b41-af27-80e87e14230e",
   "metadata": {},
   "outputs": [],
   "source": [
    "import numpy as np"
   ]
  },
  {
   "cell_type": "code",
   "execution_count": 2,
   "id": "1230609d-fbd4-4776-b45f-5bcccda12bfb",
   "metadata": {},
   "outputs": [],
   "source": [
    "arr = np.array([23, 4, 3, 23])"
   ]
  },
  {
   "cell_type": "code",
   "execution_count": 3,
   "id": "a9aa11b2-26fe-44c0-9a46-20e3c12db531",
   "metadata": {},
   "outputs": [
    {
     "data": {
      "text/plain": [
       "dtype('int64')"
      ]
     },
     "execution_count": 3,
     "metadata": {},
     "output_type": "execute_result"
    }
   ],
   "source": [
    "arr.dtype"
   ]
  },
  {
   "cell_type": "code",
   "execution_count": 4,
   "id": "6da15efa-8b0c-46f6-bd99-d9d5038b99d0",
   "metadata": {},
   "outputs": [
    {
     "data": {
      "text/plain": [
       "array([23.,  4.,  3., 23.], dtype=float32)"
      ]
     },
     "execution_count": 4,
     "metadata": {},
     "output_type": "execute_result"
    }
   ],
   "source": [
    "arr.astype(\"float32\")"
   ]
  },
  {
   "cell_type": "code",
   "execution_count": 5,
   "id": "ac4d27f7-9373-4a3a-896e-57690868306c",
   "metadata": {},
   "outputs": [],
   "source": [
    "arr2 = np.array([23, 4, 3, 23], dtype=\"float32\")"
   ]
  },
  {
   "cell_type": "code",
   "execution_count": 6,
   "id": "59e22c0f-0214-4434-9f9e-40d212ca6389",
   "metadata": {},
   "outputs": [
    {
     "data": {
      "text/plain": [
       "dtype('float32')"
      ]
     },
     "execution_count": 6,
     "metadata": {},
     "output_type": "execute_result"
    }
   ],
   "source": [
    "arr2\n",
    "arr2.dtype"
   ]
  },
  {
   "cell_type": "code",
   "execution_count": 7,
   "id": "a1acae78-0bee-47e9-a351-6052d26c1bc5",
   "metadata": {},
   "outputs": [
    {
     "data": {
      "text/plain": [
       "32"
      ]
     },
     "execution_count": 7,
     "metadata": {},
     "output_type": "execute_result"
    }
   ],
   "source": [
    "arr.nbytes"
   ]
  },
  {
   "cell_type": "code",
   "execution_count": 8,
   "id": "5e8cad86-29d0-4f94-bbc5-9c1de3daf71a",
   "metadata": {},
   "outputs": [
    {
     "data": {
      "text/plain": [
       "16"
      ]
     },
     "execution_count": 8,
     "metadata": {},
     "output_type": "execute_result"
    }
   ],
   "source": [
    "arr2.nbytes"
   ]
  },
  {
   "cell_type": "code",
   "execution_count": 9,
   "id": "3e7fbe26-5df9-4928-a5a0-cd2ced81f67c",
   "metadata": {},
   "outputs": [
    {
     "name": "stdout",
     "output_type": "stream",
     "text": [
      "24\n",
      "12\n"
     ]
    }
   ],
   "source": [
    "arr_int64 = np.array([1, 2, 3], dtype=np.int64)\n",
    "arr_int32 = np.array([1, 2, 3], dtype=np.int32)\n",
    "\n",
    "print(arr_int64.nbytes)  # Output: 24 bytes (3 elements * 8 bytes each)\n",
    "print(arr_int32.nbytes)  # Output: 12 bytes (3 elements * 4 bytes each)"
   ]
  }
 ],
 "metadata": {
  "kernelspec": {
   "display_name": "Python 3 (ipykernel)",
   "language": "python",
   "name": "python3"
  },
  "language_info": {
   "codemirror_mode": {
    "name": "ipython",
    "version": 3
   },
   "file_extension": ".py",
   "mimetype": "text/x-python",
   "name": "python",
   "nbconvert_exporter": "python",
   "pygments_lexer": "ipython3",
   "version": "3.13.5"
  }
 },
 "nbformat": 4,
 "nbformat_minor": 5
}
